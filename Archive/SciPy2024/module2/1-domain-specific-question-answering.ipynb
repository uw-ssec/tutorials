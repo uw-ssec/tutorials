{
 "cells": [
  {
   "cell_type": "markdown",
   "id": "0",
   "metadata": {},
   "source": [
    "# Domain-Specific Question and Answer"
   ]
  },
  {
   "cell_type": "markdown",
   "id": "45e3d8eb",
   "metadata": {},
   "source": [
    "At this point you now have an understanding of LLM, Prompting,\n",
    "and LangChain for building your own local application.\n",
    "\n",
    "**But a question remain, how would I utilize this in my own work or organization? Can't I just use ChatGPT?**"
   ]
  },
  {
   "cell_type": "markdown",
   "id": "1",
   "metadata": {},
   "source": [
    "As a research scientist, you may have a set of documents, GitHub repositories, research papers, and domain-specific knowledge bases that you might want to search through quickly. You might have exploratory questions about the following:\n",
    "* How to utilize a particular method in a Python package based on your specific context\n",
    "* What is the current state of research on a particular subtopic of your choice\n",
    "* You are building expertise in a new subdomain in your field, and you want to use a variety of knowledge bases to accumulate knowledge"
   ]
  },
  {
   "cell_type": "markdown",
   "id": "2",
   "metadata": {},
   "source": [
    "Or you are an organization where:\n",
    "* You want to create an assistive tool for onboarding new team members\n",
    "* You have teams of engineers in sizeable, diverse groups, and you want to be transparent about what's happening across different projects\n",
    "* You have internal documents within labs or research that are not published, but you want a privacy-preserving way to expose that to your team\n",
    "* You have multiple codebases, and you want ways to help people understand how different portions of your code work"
   ]
  },
  {
   "cell_type": "markdown",
   "id": "3",
   "metadata": {},
   "source": [
    "In this module we will be demonstrating how we can use research abstracts to power a question-answering application using OLMo."
   ]
  },
  {
   "cell_type": "markdown",
   "id": "4",
   "metadata": {},
   "source": [
    "We will be using [arXiv Dataset](https://www.kaggle.com/datasets/Cornell-University/arxiv?resource=download), in particular, we will use the abstracts for all the papers classified under the astrophysics category, i.e., with category value of `Astro-ph.` "
   ]
  },
  {
   "cell_type": "markdown",
   "id": "5",
   "metadata": {},
   "source": [
    "We will further demonstrate the integration of [Astropy's documentation](https://github.com/astropy/astropy/tree/main/docs) from GitHub, a common core package for Astronomy in Python, into a question-answering application as well."
   ]
  },
  {
   "cell_type": "markdown",
   "id": "0995c30d",
   "metadata": {},
   "source": [
    "By the end of this module, you will have an understanding of the building blocks required to create a domain-specific question-answering application using OLMo,\n",
    "and then you can use these knowledge to create your own application for your domain."
   ]
  }
 ],
 "metadata": {
  "kernelspec": {
   "display_name": "Python 3 (ipykernel)",
   "language": "python",
   "name": "python3"
  },
  "language_info": {
   "codemirror_mode": {
    "name": "ipython",
    "version": 3
   },
   "file_extension": ".py",
   "mimetype": "text/x-python",
   "name": "python",
   "nbconvert_exporter": "python",
   "pygments_lexer": "ipython3",
   "version": "3.11.9"
  }
 },
 "nbformat": 4,
 "nbformat_minor": 5
}
