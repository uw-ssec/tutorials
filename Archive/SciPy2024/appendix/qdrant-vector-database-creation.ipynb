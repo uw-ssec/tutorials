{
 "cells": [
  {
   "cell_type": "markdown",
   "id": "ce91ba40-0f53-4fc0-b687-a385a4c36a10",
   "metadata": {},
   "source": [
    "# Qdrant Vector Database Creation"
   ]
  },
  {
   "cell_type": "code",
   "execution_count": 2,
   "id": "26843ee7-eb3f-48df-bee7-125b994ce25e",
   "metadata": {},
   "outputs": [],
   "source": [
    "import jsonlines\n",
    "import os\n",
    "import requests\n",
    "import typing as t\n",
    "\n",
    "from getpass import getpass\n",
    "from langchain_huggingface import HuggingFaceEmbeddings\n",
    "from langchain.schema import Document\n",
    "from langchain_qdrant import Qdrant\n",
    "from llama_cpp import Llama\n",
    "import pandas as pd\n",
    "from tqdm.notebook import tqdm\n",
    "from qdrant_client import QdrantClient"
   ]
  },
  {
   "cell_type": "markdown",
   "id": "e3f02a81-cb84-4370-a66c-4087026fe61b",
   "metadata": {},
   "source": [
    "## Download Data "
   ]
  },
  {
   "cell_type": "code",
   "execution_count": 3,
   "id": "b8420d41-e08b-4ddb-8883-c375c2abe18d",
   "metadata": {},
   "outputs": [],
   "source": [
    "from ssec_tutorials import ASTROPH_ARXIV_ABSTRACTS, ASTROPY_GITHUB, download_astroph_arxiv_abstracts, download_astropy_github_documents, fetch_and_process_github_rst_files, download_qdrant_data, QDRANT_COLLECTION_NAME, QDRANT_PATH\n",
    "from ssec_tutorials.scipy_conf import load_docs_from_jsonl"
   ]
  },
  {
   "cell_type": "code",
   "execution_count": 4,
   "id": "ac0cf848-3295-4020-9275-1127b1c2aa35",
   "metadata": {},
   "outputs": [
    {
     "data": {
      "text/plain": [
       "PosixPath('/Users/a42/.cache/ssec_tutorials/astropy-github.jsonl')"
      ]
     },
     "execution_count": 4,
     "metadata": {},
     "output_type": "execute_result"
    }
   ],
   "source": [
    "download_astropy_github_documents()"
   ]
  },
  {
   "cell_type": "code",
   "execution_count": 5,
   "id": "a7a81048-8370-4924-833d-4e63bf7229b9",
   "metadata": {},
   "outputs": [],
   "source": [
    "assert os.path.exists(ASTROPY_GITHUB)"
   ]
  },
  {
   "cell_type": "code",
   "execution_count": 6,
   "id": "06360c7c-de4f-4a5f-9ace-d3481562a7fd",
   "metadata": {},
   "outputs": [
    {
     "name": "stdout",
     "output_type": "stream",
     "text": [
      "astro-ph arXiv abstracts already exist at /Users/a42/.cache/ssec_tutorials/astro-ph-arXiv-abstracts.pkl\n"
     ]
    },
    {
     "data": {
      "text/plain": [
       "PosixPath('/Users/a42/.cache/ssec_tutorials/astro-ph-arXiv-abstracts.pkl')"
      ]
     },
     "execution_count": 6,
     "metadata": {},
     "output_type": "execute_result"
    }
   ],
   "source": [
    "download_astroph_arxiv_abstracts()"
   ]
  },
  {
   "cell_type": "code",
   "execution_count": 7,
   "id": "c08a63f3-31b5-4ea6-a3fe-d5fda573b3ed",
   "metadata": {},
   "outputs": [],
   "source": [
    "assert os.path.exists(ASTROPH_ARXIV_ABSTRACTS)"
   ]
  },
  {
   "cell_type": "code",
   "execution_count": 25,
   "id": "a58c7d7f-02c9-4d3a-a4e4-63b40e9ee03c",
   "metadata": {},
   "outputs": [
    {
     "data": {
      "text/plain": [
       "PosixPath('/Users/a42/.cache/ssec_tutorials/scipy_qdrant_100k')"
      ]
     },
     "execution_count": 25,
     "metadata": {},
     "output_type": "execute_result"
    }
   ],
   "source": [
    "# Download qdrant vector database\n",
    "download_qdrant_data()"
   ]
  },
  {
   "cell_type": "markdown",
   "id": "6446cc91-5e3a-429f-9ead-a38bbf1cf230",
   "metadata": {},
   "source": [
    "## GitHub Documents"
   ]
  },
  {
   "cell_type": "code",
   "execution_count": 6,
   "id": "9cee387e-ad9a-49a8-9ced-7ae8f9b8d9a0",
   "metadata": {},
   "outputs": [
    {
     "name": "stdin",
     "output_type": "stream",
     "text": [
      "GitHub Personal Access Token:  ········\n"
     ]
    }
   ],
   "source": [
    "# Enter your GitHub Personal Access Token securely\n",
    "ACCESS_TOKEN = getpass(prompt=\"GitHub Personal Access Token: \")"
   ]
  },
  {
   "cell_type": "code",
   "execution_count": 9,
   "id": "f28805cc-c3c5-4ad4-969e-190cc55b0bcb",
   "metadata": {},
   "outputs": [],
   "source": [
    "# Usage example\n",
    "repository = 'astropy/astropy'\n",
    "branch = 'main'\n",
    "docs_path = 'docs'"
   ]
  },
  {
   "cell_type": "code",
   "execution_count": 10,
   "id": "e848a168-b3a9-48c8-a6ee-34940a18db2f",
   "metadata": {},
   "outputs": [],
   "source": [
    "# Load Astropy docs from ASTROPY_GITHUB if already downloaded\n",
    "if not os.path.exists(ASTROPY_GITHUB):\n",
    "    github_documents = fetch_and_process_github_rst_files(\n",
    "        github_repo=repository, \n",
    "        github_branch=branch, \n",
    "        github_documents=docs_path,\n",
    "        github_personal_access_token=ACCESS_TOKEN\n",
    "    )\n",
    "else:\n",
    "    github_documents = load_docs_from_jsonl(ASTROPY_GITHUB)"
   ]
  },
  {
   "cell_type": "code",
   "execution_count": 11,
   "id": "4d45995c-ddb5-4225-a171-6e1339851ff0",
   "metadata": {
    "scrolled": true
   },
   "outputs": [
    {
     "data": {
      "text/plain": [
       "311"
      ]
     },
     "execution_count": 11,
     "metadata": {},
     "output_type": "execute_result"
    }
   ],
   "source": [
    "len(github_documents)"
   ]
  },
  {
   "cell_type": "markdown",
   "id": "367099df-d0e2-46e1-895a-2c6297bae030",
   "metadata": {},
   "source": [
    "## Arxiv Abstracts"
   ]
  },
  {
   "cell_type": "code",
   "execution_count": 12,
   "id": "f8249d9d-aa9d-4cec-9c5a-bc85ac8ea138",
   "metadata": {},
   "outputs": [],
   "source": [
    "# We will use the already pickled file but refer to the notebook in the Appendix if you are interested in understanding how we built it\n",
    "astro_df = pd.read_pickle(ASTROPH_ARXIV_ABSTRACTS)"
   ]
  },
  {
   "cell_type": "code",
   "execution_count": 13,
   "id": "722844c4-9295-4a81-bc54-4f68c1a04276",
   "metadata": {},
   "outputs": [
    {
     "name": "stdout",
     "output_type": "stream",
     "text": [
      "Number of astrophysics papers:  338658\n"
     ]
    }
   ],
   "source": [
    "print(\"Number of astrophysics papers: \", len(astro_df))"
   ]
  },
  {
   "cell_type": "code",
   "execution_count": 14,
   "id": "fee3a01e-2ed6-4668-8a3f-c5c97471c263",
   "metadata": {},
   "outputs": [
    {
     "data": {
      "text/html": [
       "<div>\n",
       "<style scoped>\n",
       "    .dataframe tbody tr th:only-of-type {\n",
       "        vertical-align: middle;\n",
       "    }\n",
       "\n",
       "    .dataframe tbody tr th {\n",
       "        vertical-align: top;\n",
       "    }\n",
       "\n",
       "    .dataframe thead th {\n",
       "        text-align: right;\n",
       "    }\n",
       "</style>\n",
       "<table border=\"1\" class=\"dataframe\">\n",
       "  <thead>\n",
       "    <tr style=\"text-align: right;\">\n",
       "      <th></th>\n",
       "      <th>id</th>\n",
       "      <th>title</th>\n",
       "      <th>abstract</th>\n",
       "    </tr>\n",
       "  </thead>\n",
       "  <tbody>\n",
       "    <tr>\n",
       "      <th>0</th>\n",
       "      <td>704.0009</td>\n",
       "      <td>The Spitzer c2d Survey of Large, Nearby, Inste...</td>\n",
       "      <td>We discuss the results from the combined IRA...</td>\n",
       "    </tr>\n",
       "    <tr>\n",
       "      <th>1</th>\n",
       "      <td>704.0017</td>\n",
       "      <td>Spectroscopic Observations of the Intermediate...</td>\n",
       "      <td>Results from spectroscopic observations of t...</td>\n",
       "    </tr>\n",
       "    <tr>\n",
       "      <th>2</th>\n",
       "      <td>704.0023</td>\n",
       "      <td>ALMA as the ideal probe of the solar chromosphere</td>\n",
       "      <td>The very nature of the solar chromosphere, i...</td>\n",
       "    </tr>\n",
       "    <tr>\n",
       "      <th>3</th>\n",
       "      <td>704.0044</td>\n",
       "      <td>Astrophysical gyrokinetics: kinetic and fluid ...</td>\n",
       "      <td>We present a theoretical framework for plasm...</td>\n",
       "    </tr>\n",
       "    <tr>\n",
       "      <th>4</th>\n",
       "      <td>704.0048</td>\n",
       "      <td>Inference on white dwarf binary systems using ...</td>\n",
       "      <td>We report on the analysis of selected single...</td>\n",
       "    </tr>\n",
       "  </tbody>\n",
       "</table>\n",
       "</div>"
      ],
      "text/plain": [
       "         id                                              title  \\\n",
       "0  704.0009  The Spitzer c2d Survey of Large, Nearby, Inste...   \n",
       "1  704.0017  Spectroscopic Observations of the Intermediate...   \n",
       "2  704.0023  ALMA as the ideal probe of the solar chromosphere   \n",
       "3  704.0044  Astrophysical gyrokinetics: kinetic and fluid ...   \n",
       "4  704.0048  Inference on white dwarf binary systems using ...   \n",
       "\n",
       "                                            abstract  \n",
       "0    We discuss the results from the combined IRA...  \n",
       "1    Results from spectroscopic observations of t...  \n",
       "2    The very nature of the solar chromosphere, i...  \n",
       "3    We present a theoretical framework for plasm...  \n",
       "4    We report on the analysis of selected single...  "
      ]
     },
     "execution_count": 14,
     "metadata": {},
     "output_type": "execute_result"
    }
   ],
   "source": [
    "astro_df.head()"
   ]
  },
  {
   "cell_type": "code",
   "execution_count": 15,
   "id": "13a11f79-568f-426e-8877-0dadbe14a41a",
   "metadata": {},
   "outputs": [],
   "source": [
    "# Randomly sample n rows to reduce the eventual vector database size.\n",
    "astro_df = astro_df.sample(n=100000)"
   ]
  },
  {
   "cell_type": "markdown",
   "id": "a5730eb8-7738-4099-be24-a5d2c1f4fd90",
   "metadata": {},
   "source": [
    "### Documents Loader"
   ]
  },
  {
   "cell_type": "markdown",
   "id": "44d819f9-df1f-4fb1-9b82-5c438a274873",
   "metadata": {},
   "source": [
    "LangChain helps load different documents (.txt, .pdf, .docx, .csv, .xlsx, .json) to feed into the LLM. The Document Loader even allows YouTube audio parsing and loading as part of unstructured document loading.\n",
    "\n",
    "Once loaded into the LangChain, the document can be pre-processed in different ways as required in the LLM application.  "
   ]
  },
  {
   "cell_type": "code",
   "execution_count": 16,
   "id": "6e403f62-fc91-4be9-9d45-292190c221fd",
   "metadata": {},
   "outputs": [],
   "source": [
    "from langchain_community.document_loaders import DataFrameLoader"
   ]
  },
  {
   "cell_type": "code",
   "execution_count": 17,
   "id": "bd8cd94b-474e-49a5-956e-27f89e65fca4",
   "metadata": {},
   "outputs": [],
   "source": [
    "# Load the dataframe full of abstracts\n",
    "# to memory in the form of LangChain Document objects\n",
    "loader = DataFrameLoader(astro_df, page_content_column=\"abstract\") \n",
    "astrophysics_abstracts_documents = loader.load()"
   ]
  },
  {
   "cell_type": "code",
   "execution_count": 18,
   "id": "8de58aaa-4cae-45b7-bf55-dc00739c94a8",
   "metadata": {},
   "outputs": [
    {
     "name": "stdout",
     "output_type": "stream",
     "text": [
      "Number of astrophysics papers:  100000\n"
     ]
    }
   ],
   "source": [
    "print(\"Number of astrophysics papers: \", len(astrophysics_abstracts_documents))"
   ]
  },
  {
   "cell_type": "code",
   "execution_count": 19,
   "id": "138995f7-5bba-43b9-ba7a-ab8ef9b16c21",
   "metadata": {},
   "outputs": [
    {
     "name": "stdout",
     "output_type": "stream",
     "text": [
      "Total Number of Documents:  100311\n"
     ]
    }
   ],
   "source": [
    "all_documents = astrophysics_abstracts_documents + github_documents\n",
    "print(\"Total Number of Documents: \", len(all_documents))"
   ]
  },
  {
   "cell_type": "markdown",
   "id": "16d1ebe7-8e12-4e2f-97d2-55074673aa37",
   "metadata": {},
   "source": [
    "## Qdrant Creation"
   ]
  },
  {
   "cell_type": "code",
   "execution_count": 20,
   "id": "57d112b1-1460-4193-9d26-856bb7ea6faf",
   "metadata": {},
   "outputs": [
    {
     "data": {
      "text/plain": [
       "PosixPath('/Users/a42/.cache/ssec_tutorials/scipy_qdrant')"
      ]
     },
     "execution_count": 20,
     "metadata": {},
     "output_type": "execute_result"
    }
   ],
   "source": [
    "QDRANT_PATH"
   ]
  },
  {
   "cell_type": "code",
   "execution_count": 21,
   "id": "3597b11d-baf0-48dc-b53c-cb7243566e81",
   "metadata": {},
   "outputs": [
    {
     "data": {
      "text/plain": [
       "'arxiv_astro-ph_abstracts_astropy_github_documentation'"
      ]
     },
     "execution_count": 21,
     "metadata": {},
     "output_type": "execute_result"
    }
   ],
   "source": [
    "QDRANT_COLLECTION_NAME"
   ]
  },
  {
   "cell_type": "code",
   "execution_count": 22,
   "id": "be5c185b-c033-4058-989e-2b7c48138195",
   "metadata": {},
   "outputs": [
    {
     "name": "stderr",
     "output_type": "stream",
     "text": [
      "/Users/a42/anaconda3/envs/ssec-scipy2024/lib/python3.11/site-packages/sentence_transformers/cross_encoder/CrossEncoder.py:11: TqdmExperimentalWarning: Using `tqdm.autonotebook.tqdm` in notebook mode. Use `tqdm.tqdm` instead to force console mode (e.g. in jupyter console)\n",
      "  from tqdm.autonotebook import tqdm, trange\n",
      "/Users/a42/anaconda3/envs/ssec-scipy2024/lib/python3.11/site-packages/huggingface_hub/file_download.py:1132: FutureWarning: `resume_download` is deprecated and will be removed in version 1.0.0. Downloads always resume when possible. If you want to force a new download, use `force_download=True`.\n",
      "  warnings.warn(\n"
     ]
    }
   ],
   "source": [
    "model = HuggingFaceEmbeddings(model_name=\"sentence-transformers/all-MiniLM-L12-v2\")"
   ]
  },
  {
   "cell_type": "code",
   "execution_count": 26,
   "id": "fd4ff0b8-ad45-4ad2-9920-bc5cde7eef59",
   "metadata": {},
   "outputs": [
    {
     "name": "stdout",
     "output_type": "stream",
     "text": [
      "Qdrant Vector Database Collection already exists in /Users/a42/.cache/ssec_tutorials/scipy_qdrant, load it\n"
     ]
    }
   ],
   "source": [
    "if QDRANT_PATH.exists():\n",
    "    print(f\"Qdrant Vector Database Collection already exists in {QDRANT_PATH}, load it\")\n",
    "    client = QdrantClient(path=str(QDRANT_PATH))\n",
    "    qdrant = Qdrant(\n",
    "        client=client,\n",
    "        collection_name=QDRANT_COLLECTION_NAME,\n",
    "        embeddings=model\n",
    "    )\n",
    "else:\n",
    "    print(f\"Creating new Qdrant collection '{QDRANT_COLLECTION_NAME}' from {len(all_documents)} documents\")\n",
    "    \n",
    "    # Load the documents into a Qdrant Vector Database Collection\n",
    "    # this will save locally in the qdrant_path as sqlite\n",
    "    qdrant = Qdrant.from_documents(\n",
    "        documents=all_documents,\n",
    "        embedding=model,\n",
    "        path=str(QDRANT_PATH),\n",
    "        collection_name=QDRANT_COLLECTION_NAME,\n",
    "    )"
   ]
  },
  {
   "cell_type": "code",
   "execution_count": 27,
   "id": "2251a6f8-ab5b-4141-8bf5-b5b294c71bca",
   "metadata": {},
   "outputs": [
    {
     "data": {
      "text/plain": [
       "CountResult(count=100311)"
      ]
     },
     "execution_count": 27,
     "metadata": {},
     "output_type": "execute_result"
    }
   ],
   "source": [
    "# Number of documents in qdrant\n",
    "qdrant.client.count(collection_name=QDRANT_COLLECTION_NAME)"
   ]
  },
  {
   "cell_type": "code",
   "execution_count": 28,
   "id": "578b5a20-a2e9-4006-a514-9a544f4e502e",
   "metadata": {},
   "outputs": [],
   "source": [
    "# Setup the retriever for later step\n",
    "retriever = qdrant.as_retriever(search_type=\"mmr\", search_kwargs={\"k\": 2})"
   ]
  },
  {
   "cell_type": "code",
   "execution_count": 29,
   "id": "323b976a-c7cc-4d86-9050-311b926d22c7",
   "metadata": {},
   "outputs": [
    {
     "data": {
      "text/plain": [
       "[Document(page_content='  One of the great scientific enigmas still unsolved, the existence of dark\\nmatter, is reviewed. Simple gravitational arguments imply that most of the mass\\nin the Universe, at least 90%, is some (unknown) non-luminous matter. Some\\nparticle candidates for dark matter are discussed with particular emphasis on\\nthe neutralino, a particle predicted by the supersymmetric extension of the\\nStandard Model of particle physics. Experiments searching for these relic\\nparticles, carried out by many groups around the world, are also discussed.\\nThese experiments are becoming more sensitive every year and in fact one of the\\ncollaborations claims that the first direct evidence for dark matter has\\nalready been observed.\\n', metadata={'id': 'hep-ph/0110122', 'title': 'The Enigma of the Dark Matter', '_id': '4ab99f7c922747d9a6a34b855d959779', '_collection_name': 'arxiv_astro-ph_abstracts_astropy_github_documentation'}),\n",
       " Document(page_content='  Dark matter could be composed of compact dark objects (CDOs). These objects\\nmay interact very weakly with normal matter and could move freely {\\\\it inside}\\nthe Earth. A CDO moving in the inner core of the Earth will have an orbital\\nperiod near 55 min and produce a time dependent signal in a gravimeter. Data\\nfrom superconducting gravimeters rule out such objects moving inside the Earth\\nunless their mass $m_D$ and or orbital radius $a$ are very small so that $m_D\\\\,\\na < 1.2\\\\times 10^{-13}M_\\\\oplus R_\\\\oplus$. Here $M_\\\\oplus$ and $R_\\\\oplus$ are\\nthe mass and radius of the Earth.\\n', metadata={'id': 1912.0094, 'title': 'Gravimeter search for compact dark matter objects moving in the Earth', '_id': '97fa0dcbd2aa45d28dfccaa150e724e2', '_collection_name': 'arxiv_astro-ph_abstracts_astropy_github_documentation'})]"
      ]
     },
     "execution_count": 29,
     "metadata": {},
     "output_type": "execute_result"
    }
   ],
   "source": [
    "retriever.invoke(\"What is dark matter?\")"
   ]
  },
  {
   "cell_type": "code",
   "execution_count": 30,
   "id": "e668bc7c-2eba-4329-aa4b-5c9866885f55",
   "metadata": {},
   "outputs": [
    {
     "data": {
      "text/plain": [
       "[Document(page_content='.. _astropy-coordinates-transforming:\\n\\nTransforming between Systems\\n****************************\\n\\n`astropy.coordinates` supports a rich system for transforming\\ncoordinates from one frame to another. While common astronomy frames\\nare built into Astropy, the transformation infrastructure is dynamic.\\nThis means it allows users to define new coordinate frames and their\\ntransformations. The topic of writing your own coordinate frame or\\ntransforms is detailed in :ref:`astropy-coordinates-design`, and this\\nsection is focused on how to *use* transformations.\\n\\nThe full list of built-in coordinate frames, the included transformations,\\nand the frame names are shown as a (clickable) graph in the\\n`~astropy.coordinates` API documentation.\\n\\nExamples\\n--------\\n\\n..\\n  EXAMPLE START\\n  Transforming Coordinates to Another Frame\\n\\nThe recommended method of transformation is shown below::\\n\\n    >>> import astropy.units as u\\n    >>> from astropy.coordinates import SkyCoord\\n    >>> gc = SkyCoord(l=0*u.degree, b=45*u.degree, frame=\\'galactic\\')\\n    >>> gc.fk5  # doctest: +FLOAT_CMP\\n    <SkyCoord (FK5: equinox=J2000.000): (ra, dec) in deg\\n        ( 229.27251463, -1.12844288)>\\n\\nWhile this appears to be ordinary attribute-style access, it is actually\\nsyntactic sugar for the more general\\n:meth:`~astropy.coordinates.SkyCoord.transform_to` method, which can\\naccept either a frame name, class, or instance::\\n\\n    >>> from astropy.coordinates import FK5\\n    >>> gc.transform_to(\\'fk5\\')  # doctest: +FLOAT_CMP\\n    <SkyCoord (FK5: equinox=J2000.000): (ra, dec) in deg\\n        ( 229.27251463, -1.12844288)>\\n    >>> gc.transform_to(FK5)  # doctest: +FLOAT_CMP\\n    <SkyCoord (FK5: equinox=J2000.000): (ra, dec) in deg\\n        ( 229.27251463, -1.12844288)>\\n    >>> gc.transform_to(FK5(equinox=\\'J1980.0\\'))  # doctest: +FLOAT_CMP\\n    <SkyCoord (FK5: equinox=J1980.000): (ra, dec) in deg\\n        ( 229.0146935, -1.05560349)>\\n\\n..\\n  EXAMPLE END\\n\\n..\\n  EXAMPLE START\\n  Using SkyCoord Objects as the Frame in Transformations\\n\\nAs a convenience, it is also possible to use a |SkyCoord| object as the frame in\\n:meth:`~astropy.coordinates.SkyCoord.transform_to`. This allows for putting one\\ncoordinate object into the frame of another::\\n\\n    >>> sc = SkyCoord(ra=1.0, dec=2.0, unit=\\'deg\\', frame=FK5, equinox=\\'J1980.0\\')\\n    >>> gc.transform_to(sc)  # doctest: +FLOAT_CMP\\n    <SkyCoord (FK5: equinox=J1980.000): (ra, dec) in deg\\n        ( 229.0146935, -1.05560349)>\\n\\n..\\n  EXAMPLE END\\n\\n..\\n  EXAMPLE START\\n  Self Transformations of Coordinate Frames\\n\\nSome coordinate frames (including `~astropy.coordinates.FK5`,\\n`~astropy.coordinates.FK4`, and `~astropy.coordinates.FK4NoETerms`) support\\n\"self transformations,\" meaning the *type* of frame does not change, but the\\nframe attributes do. An example is precessing a coordinate from one equinox\\nto another in an equatorial frame. This is done by passing ``transform_to`` a\\nframe class with the relevant attributes, as shown below. Note that these\\nframes use a default equinox if you do not specify one::\\n\\n    >>> fk5c = SkyCoord(\\'02h31m49.09s\\', \\'+89d15m50.8s\\', frame=FK5)\\n    >>> fk5c.equinox\\n    <Time object: scale=\\'tt\\' format=\\'jyear_str\\' value=J2000.000>\\n    >>> fk5c  # doctest: +FLOAT_CMP\\n    <SkyCoord (FK5: equinox=J2000.000): (ra, dec) in deg\\n        ( 37.95454167,  89.26411111)>\\n    >>> fk5_2005 = FK5(equinox=\\'J2005\\')  # String initializes an astropy.time.Time object\\n    >>> fk5c.transform_to(fk5_2005)  # doctest: +FLOAT_CMP\\n    <SkyCoord (FK5: equinox=J2005.000): (ra, dec) in deg\\n        ( 39.39317639,  89.28584422)>\\n\\nYou can also specify the equinox when you create a coordinate using a\\n`~astropy.time.Time` object::\\n\\n    >>> from astropy.time import Time\\n    >>> fk5c = SkyCoord(\\'02h31m49.09s\\', \\'+89d15m50.8s\\',\\n    ...                 frame=FK5(equinox=Time(\\'J1970\\')))\\n    >>> fk5_2000 = FK5(equinox=Time(2000, format=\\'jyear\\'))\\n    >>> fk5c.transform_to(fk5_2000)  # doctest: +FLOAT_CMP\\n    <SkyCoord (FK5: equinox=2000.0): (ra, dec) in deg\\n        ( 48.023171,  89.38672485)>\\n\\nThe same lower-level frame classes also have a\\n:meth:`~astropy.coordinates.BaseCoordinateFrame.transform_to` method\\nthat works the same as above, but they do not support attribute-style\\naccess. They are also subtly different in that they only use frame\\nattributes present in the initial or final frame, while |SkyCoord|\\nobjects use any frame attributes they have for all transformation\\nsteps. So |SkyCoord| can always transform from one frame to another and\\nback again without change, while low-level classes may lose information\\nand hence often do not round-trip.\\n\\n..\\n  EXAMPLE END\\n\\n.. _astropy-coordinates-transforming-ephemerides:\\n\\nTransformations and Solar System Ephemerides\\n============================================\\n\\nSome transformations (e.g., the transformation between\\n`~astropy.coordinates.ICRS` and `~astropy.coordinates.GCRS`) require the use of\\na Solar System ephemeris to calculate the position and velocity of the Earth\\nand Sun. By default, transformations are calculated using built-in\\n`ERFA <https://github.com/liberfa/erfa>`_ routines, but they can also use more\\nprecise ones using the JPL ephemerides (which are derived from dynamical\\nmodels).\\n\\nExample\\n-------\\n\\n..\\n  EXAMPLE START\\n  Calculating Transformations Using Solar System Ephemeris\\n\\nTo use the JPL ephemerides, use the\\n`~astropy.coordinates.solar_system_ephemeris` context manager, as shown below:\\n\\n.. doctest-requires:: jplephem\\n\\n    >>> from astropy.coordinates import solar_system_ephemeris\\n    >>> from astropy.coordinates import GCRS\\n    >>> with solar_system_ephemeris.set(\\'jpl\\'): # doctest: +REMOTE_DATA +IGNORE_OUTPUT\\n    ...     fk5c.transform_to(GCRS(obstime=Time(\"J2000\"))) # doctest: +REMOTE_DATA +IGNORE_OUTPUT\\n\\nFor locations at large distances from the Solar system, using the JPL\\nephemerides will make a negligible difference on the order of micro-arcseconds.\\nFor nearby objects, such as the Moon, the difference can be of the\\norder of milli-arcseconds. For more details about what ephemerides\\nare available, including the requirements for using JPL ephemerides, see\\n:ref:`astropy-coordinates-solarsystem`.\\n\\n..\\n  EXAMPLE END\\n', metadata={'title': 'Transforming', 'url': 'https://raw.githubusercontent.com/astropy/astropy/main/docs/coordinates/transforming.rst', '_id': '7591267e1b4e423496b3a417848de92d', '_collection_name': 'arxiv_astro-ph_abstracts_astropy_github_documentation'}),\n",
       " Document(page_content=\"  Gorski et al (1999b) have earlier presented the outline of a\\npixelisation-to-spherical-coordinate transformation scheme which simultaneously\\nsatisfies three properties which are especially useful for rapid analyses of\\nmaps on a sphere: (i) equal spacing of pixels along lines of constant latitude,\\n(ii) equal pixel `areas' (solid angles) and (iii) hierarchical scaling with\\nincreasing numbers of pixels. Their outline is based on the division of the\\nsphere into twelve regions covering equal solid angles, which are\\nhierarchically subdivided in a way compatible with these three criteria. In\\nthis paper, a complete derivation of this scheme is presented, including, in\\nparticular, (1) the angle theta^* defining the limit between polar and\\nequatorial regions, and (2) the transformations from the unit interval [0,1]\\n\\\\wedge [0,1] to spherical coordinates in a polar region.\\n\", metadata={'id': 'astro-ph/0409533', 'title': 'A Solution to the Isolatitude, Equi-area, Hierarchical Pixel-Coordinate\\n  System', '_id': '98b95594b76a4e9eaa6f0d95c167d500', '_collection_name': 'arxiv_astro-ph_abstracts_astropy_github_documentation'})]"
      ]
     },
     "execution_count": 30,
     "metadata": {},
     "output_type": "execute_result"
    }
   ],
   "source": [
    "retriever.invoke(\"How can I perform celestial coordinate transformations?\")"
   ]
  },
  {
   "cell_type": "code",
   "execution_count": 35,
   "id": "41f53e82-eee2-452a-932f-a5081c7fbe3c",
   "metadata": {},
   "outputs": [],
   "source": [
    "# Post-processing\n",
    "def format_docs(docs):\n",
    "    return \"\\n\\n\".join(doc.page_content for doc in docs)"
   ]
  },
  {
   "cell_type": "code",
   "execution_count": 36,
   "id": "b189a1f7-a7b0-456f-ac34-794fec521617",
   "metadata": {},
   "outputs": [
    {
     "name": "stdout",
     "output_type": "stream",
     "text": [
      ".. _astropy-coordinates-transforming:\n",
      "\n",
      "Transforming between Systems\n",
      "****************************\n",
      "\n",
      "`astropy.coordinates` supports a rich system for transforming\n",
      "coordinates from one frame to another. While common astronomy frames\n",
      "are built into Astropy, the transformation infrastructure is dynamic.\n",
      "This means it allows users to define new coordinate frames and their\n",
      "transformations. The topic of writing your own coordinate frame or\n",
      "transforms is detailed in :ref:`astropy-coordinates-design`, and this\n",
      "section is focused on how to *use* transformations.\n",
      "\n",
      "The full list of built-in coordinate frames, the included transformations,\n",
      "and the frame names are shown as a (clickable) graph in the\n",
      "`~astropy.coordinates` API documentation.\n",
      "\n",
      "Examples\n",
      "--------\n",
      "\n",
      "..\n",
      "  EXAMPLE START\n",
      "  Transforming Coordinates to Another Frame\n",
      "\n",
      "The recommended method of transformation is shown below::\n",
      "\n",
      "    >>> import astropy.units as u\n",
      "    >>> from astropy.coordinates import SkyCoord\n",
      "    >>> gc = SkyCoord(l=0*u.degree, b=45*u.degree, frame='galactic')\n",
      "    >>> gc.fk5  # doctest: +FLOAT_CMP\n",
      "    <SkyCoord (FK5: equinox=J2000.000): (ra, dec) in deg\n",
      "        ( 229.27251463, -1.12844288)>\n",
      "\n",
      "While this appears to be ordinary attribute-style access, it is actually\n",
      "syntactic sugar for the more general\n",
      ":meth:`~astropy.coordinates.SkyCoord.transform_to` method, which can\n",
      "accept either a frame name, class, or instance::\n",
      "\n",
      "    >>> from astropy.coordinates import FK5\n",
      "    >>> gc.transform_to('fk5')  # doctest: +FLOAT_CMP\n",
      "    <SkyCoord (FK5: equinox=J2000.000): (ra, dec) in deg\n",
      "        ( 229.27251463, -1.12844288)>\n",
      "    >>> gc.transform_to(FK5)  # doctest: +FLOAT_CMP\n",
      "    <SkyCoord (FK5: equinox=J2000.000): (ra, dec) in deg\n",
      "        ( 229.27251463, -1.12844288)>\n",
      "    >>> gc.transform_to(FK5(equinox='J1980.0'))  # doctest: +FLOAT_CMP\n",
      "    <SkyCoord (FK5: equinox=J1980.000): (ra, dec) in deg\n",
      "        ( 229.0146935, -1.05560349)>\n",
      "\n",
      "..\n",
      "  EXAMPLE END\n",
      "\n",
      "..\n",
      "  EXAMPLE START\n",
      "  Using SkyCoord Objects as the Frame in Transformations\n",
      "\n",
      "As a convenience, it is also possible to use a |SkyCoord| object as the frame in\n",
      ":meth:`~astropy.coordinates.SkyCoord.transform_to`. This allows for putting one\n",
      "coordinate object into the frame of another::\n",
      "\n",
      "    >>> sc = SkyCoord(ra=1.0, dec=2.0, unit='deg', frame=FK5, equinox='J1980.0')\n",
      "    >>> gc.transform_to(sc)  # doctest: +FLOAT_CMP\n",
      "    <SkyCoord (FK5: equinox=J1980.000): (ra, dec) in deg\n",
      "        ( 229.0146935, -1.05560349)>\n",
      "\n",
      "..\n",
      "  EXAMPLE END\n",
      "\n",
      "..\n",
      "  EXAMPLE START\n",
      "  Self Transformations of Coordinate Frames\n",
      "\n",
      "Some coordinate frames (including `~astropy.coordinates.FK5`,\n",
      "`~astropy.coordinates.FK4`, and `~astropy.coordinates.FK4NoETerms`) support\n",
      "\"self transformations,\" meaning the *type* of frame does not change, but the\n",
      "frame attributes do. An example is precessing a coordinate from one equinox\n",
      "to another in an equatorial frame. This is done by passing ``transform_to`` a\n",
      "frame class with the relevant attributes, as shown below. Note that these\n",
      "frames use a default equinox if you do not specify one::\n",
      "\n",
      "    >>> fk5c = SkyCoord('02h31m49.09s', '+89d15m50.8s', frame=FK5)\n",
      "    >>> fk5c.equinox\n",
      "    <Time object: scale='tt' format='jyear_str' value=J2000.000>\n",
      "    >>> fk5c  # doctest: +FLOAT_CMP\n",
      "    <SkyCoord (FK5: equinox=J2000.000): (ra, dec) in deg\n",
      "        ( 37.95454167,  89.26411111)>\n",
      "    >>> fk5_2005 = FK5(equinox='J2005')  # String initializes an astropy.time.Time object\n",
      "    >>> fk5c.transform_to(fk5_2005)  # doctest: +FLOAT_CMP\n",
      "    <SkyCoord (FK5: equinox=J2005.000): (ra, dec) in deg\n",
      "        ( 39.39317639,  89.28584422)>\n",
      "\n",
      "You can also specify the equinox when you create a coordinate using a\n",
      "`~astropy.time.Time` object::\n",
      "\n",
      "    >>> from astropy.time import Time\n",
      "    >>> fk5c = SkyCoord('02h31m49.09s', '+89d15m50.8s',\n",
      "    ...                 frame=FK5(equinox=Time('J1970')))\n",
      "    >>> fk5_2000 = FK5(equinox=Time(2000, format='jyear'))\n",
      "    >>> fk5c.transform_to(fk5_2000)  # doctest: +FLOAT_CMP\n",
      "    <SkyCoord (FK5: equinox=2000.0): (ra, dec) in deg\n",
      "        ( 48.023171,  89.38672485)>\n",
      "\n",
      "The same lower-level frame classes also have a\n",
      ":meth:`~astropy.coordinates.BaseCoordinateFrame.transform_to` method\n",
      "that works the same as above, but they do not support attribute-style\n",
      "access. They are also subtly different in that they only use frame\n",
      "attributes present in the initial or final frame, while |SkyCoord|\n",
      "objects use any frame attributes they have for all transformation\n",
      "steps. So |SkyCoord| can always transform from one frame to another and\n",
      "back again without change, while low-level classes may lose information\n",
      "and hence often do not round-trip.\n",
      "\n",
      "..\n",
      "  EXAMPLE END\n",
      "\n",
      ".. _astropy-coordinates-transforming-ephemerides:\n",
      "\n",
      "Transformations and Solar System Ephemerides\n",
      "============================================\n",
      "\n",
      "Some transformations (e.g., the transformation between\n",
      "`~astropy.coordinates.ICRS` and `~astropy.coordinates.GCRS`) require the use of\n",
      "a Solar System ephemeris to calculate the position and velocity of the Earth\n",
      "and Sun. By default, transformations are calculated using built-in\n",
      "`ERFA <https://github.com/liberfa/erfa>`_ routines, but they can also use more\n",
      "precise ones using the JPL ephemerides (which are derived from dynamical\n",
      "models).\n",
      "\n",
      "Example\n",
      "-------\n",
      "\n",
      "..\n",
      "  EXAMPLE START\n",
      "  Calculating Transformations Using Solar System Ephemeris\n",
      "\n",
      "To use the JPL ephemerides, use the\n",
      "`~astropy.coordinates.solar_system_ephemeris` context manager, as shown below:\n",
      "\n",
      ".. doctest-requires:: jplephem\n",
      "\n",
      "    >>> from astropy.coordinates import solar_system_ephemeris\n",
      "    >>> from astropy.coordinates import GCRS\n",
      "    >>> with solar_system_ephemeris.set('jpl'): # doctest: +REMOTE_DATA +IGNORE_OUTPUT\n",
      "    ...     fk5c.transform_to(GCRS(obstime=Time(\"J2000\"))) # doctest: +REMOTE_DATA +IGNORE_OUTPUT\n",
      "\n",
      "For locations at large distances from the Solar system, using the JPL\n",
      "ephemerides will make a negligible difference on the order of micro-arcseconds.\n",
      "For nearby objects, such as the Moon, the difference can be of the\n",
      "order of milli-arcseconds. For more details about what ephemerides\n",
      "are available, including the requirements for using JPL ephemerides, see\n",
      ":ref:`astropy-coordinates-solarsystem`.\n",
      "\n",
      "..\n",
      "  EXAMPLE END\n",
      "\n",
      "\n",
      "  AIMS: An alternative to the traditional method for modeling kinematics of the\n",
      "Earth's rotation is proposed. The purpose of developing the new approach is to\n",
      "provide a self-consistent and simple description of the Earth's rotation in a\n",
      "way that can be estimated directly from observations without using intermediate\n",
      "quantities.\n",
      "  METHODS: Instead of estimating the time series of pole coordinates, the\n",
      "UT1--TAI angles, their rates, and the daily offsets of nutation, it is proposed\n",
      "to estimate coefficients of the expansion of a small perturbational rotation\n",
      "vector into basis functions. The resulting transformation from the terrestrial\n",
      "coordinate system to the celestial coordinate system is formulated as a product\n",
      "of an a priori matrix of a finite rotation and an empirical vector of a\n",
      "residual perturbational rotation. In the framework of this approach, the\n",
      "specific choice of the a priori matrix is irrelevant, provided the angles of\n",
      "the residual rotation are small enough to neglect their squares. The\n",
      "coefficients of the expansion into the B-spline and Fourier bases, together\n",
      "with estimates of other nuisance parameters, are evaluated directly from\n",
      "observations of time delay or time range in a single least square solution.\n",
      "  RESULTS: This approach was successfully implemented in a computer program for\n",
      "processing VLBI observations. The dataset from 1984 through 2006 was analyzed.\n",
      "The new procedure adequately represents the Earth's rotation, including slowly\n",
      "varying changes in UT1--TAI and polar motion, the forced nutations, the free\n",
      "core nutation, and the high frequency variations of polar motion and UT1.\n",
      "\n"
     ]
    }
   ],
   "source": [
    "print(format_docs(retriever.invoke(\"How can I perform celestial coordinate transformations?\")))"
   ]
  },
  {
   "cell_type": "code",
   "execution_count": null,
   "id": "2403e158-85b8-4a5a-aa0f-8428fb133d9d",
   "metadata": {},
   "outputs": [],
   "source": []
  }
 ],
 "metadata": {
  "kernelspec": {
   "display_name": "Python 3 (ipykernel)",
   "language": "python",
   "name": "python3"
  },
  "language_info": {
   "codemirror_mode": {
    "name": "ipython",
    "version": 3
   },
   "file_extension": ".py",
   "mimetype": "text/x-python",
   "name": "python",
   "nbconvert_exporter": "python",
   "pygments_lexer": "ipython3",
   "version": "3.11.9"
  }
 },
 "nbformat": 4,
 "nbformat_minor": 5
}
