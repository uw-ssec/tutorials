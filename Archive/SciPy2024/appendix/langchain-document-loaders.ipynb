{
 "cells": [
  {
   "cell_type": "markdown",
   "id": "dd746045-7af7-4cb2-b41d-12332ad7f268",
   "metadata": {},
   "source": [
    "## Documents Loader"
   ]
  },
  {
   "cell_type": "markdown",
   "id": "5a3d6f5e-818e-46f8-b4b2-b0dd20dfd327",
   "metadata": {},
   "source": [
    "LangChain helps load different documents (.txt, .pdf, .docx, .csv, .xlsx, .json) to feed into the LLM. The Document Loader even allows YouTube audio parsing and loading as part of unstructured document loading.\n",
    "\n",
    "Once loaded into the LangChain, the document can be pre-processed in different ways as required in the LLM application.  \n",
    "\n",
    "There are several kinds of loaders."
   ]
  },
  {
   "cell_type": "markdown",
   "id": "dab797aa-034e-43b8-ae52-2dbb397b550a",
   "metadata": {},
   "source": [
    "### TextLoader\n",
    "This is the simplest kind of document loader, it loads the text document from a filepath."
   ]
  },
  {
   "cell_type": "code",
   "execution_count": 2,
   "id": "a30ae78f-68b0-4e10-91e2-e8c00d71f0d4",
   "metadata": {},
   "outputs": [],
   "source": [
    "from langchain_community.document_loaders import TextLoader\n",
    "\n",
    "loader = TextLoader(\"../README.md\")\n",
    "document = loader.load() ## Returns an array of loaded documents. In this case, array of size 1."
   ]
  },
  {
   "cell_type": "code",
   "execution_count": 150,
   "id": "0fa13561-82ff-4973-ab5c-936829ef91e3",
   "metadata": {},
   "outputs": [],
   "source": [
    "# Uncomment and run\n",
    "#document[0].page_content"
   ]
  },
  {
   "cell_type": "code",
   "execution_count": 151,
   "id": "8b119bd2-dadc-438c-8b85-87b437109ba5",
   "metadata": {},
   "outputs": [
    {
     "data": {
      "text/plain": [
       "{'source': '../README.md'}"
      ]
     },
     "execution_count": 151,
     "metadata": {},
     "output_type": "execute_result"
    }
   ],
   "source": [
    "document[0].metadata"
   ]
  },
  {
   "cell_type": "markdown",
   "id": "3dce5e7b-8bf0-4c62-93d5-2a520c89ad41",
   "metadata": {},
   "source": [
    "### CSVLoader"
   ]
  },
  {
   "cell_type": "code",
   "execution_count": 3,
   "id": "6caadc2f-f849-47e3-be5f-8fbdb666d247",
   "metadata": {},
   "outputs": [],
   "source": [
    "from langchain_community.document_loaders.csv_loader import CSVLoader\n",
    "\n",
    "loader = CSVLoader(file_path='/your/file/path.csv')\n",
    "data = loader.load()"
   ]
  },
  {
   "cell_type": "markdown",
   "id": "b940ef2b-7dd4-46f5-94a8-32fb683b6293",
   "metadata": {},
   "source": [
    "### ArxivLoader\n",
    "\n",
    "Langchain also provides an interface to load documents from ArXiv using the DOI (digital object identifier)."
   ]
  },
  {
   "cell_type": "code",
   "execution_count": 154,
   "id": "b59dc5e7-65cc-4c15-aca8-4bb7e2a9c0be",
   "metadata": {},
   "outputs": [
    {
     "name": "stdout",
     "output_type": "stream",
     "text": [
      "\u001b[33mDEPRECATION: sphinxext-rediraffe main has a non-standard version number. pip 24.1 will enforce this behaviour change. A possible replacement is to upgrade to a newer version of sphinxext-rediraffe or contact the author to suggest that they release a version with a conforming version number. Discussion can be found at https://github.com/pypa/pip/issues/12063\u001b[0m\u001b[33m\n",
      "\u001b[0mNote: you may need to restart the kernel to use updated packages.\n"
     ]
    }
   ],
   "source": [
    "## TODO: Add to environment file\n",
    "## Package Requirements\n",
    "# %pip install arxiv pymupdf --quiet"
   ]
  },
  {
   "cell_type": "code",
   "execution_count": 4,
   "id": "fd555e08-9ed0-4b83-ace0-c9e9a44ed72f",
   "metadata": {},
   "outputs": [],
   "source": [
    "from langchain_community.document_loaders import ArxivLoader\n",
    "\n",
    "arxiv_doi = \"2405.10195\"\n",
    "docs = ArxivLoader(query=arxiv_doi).load()"
   ]
  },
  {
   "cell_type": "code",
   "execution_count": 5,
   "id": "a5aeb954-d501-4b48-b459-6060d2173a6e",
   "metadata": {},
   "outputs": [
    {
     "name": "stdout",
     "output_type": "stream",
     "text": [
      "Formation pathways of the compact stellar systems\n"
     ]
    }
   ],
   "source": [
    "print(docs[0].metadata['Title'])"
   ]
  },
  {
   "cell_type": "code",
   "execution_count": 7,
   "id": "0ab88b65-75b9-43c2-ad0f-efee7082e91f",
   "metadata": {},
   "outputs": [],
   "source": [
    "# Uncomment and run\n",
    "# docs[0].page_content"
   ]
  },
  {
   "cell_type": "markdown",
   "id": "8d3d8a17-e3ed-4f7f-9341-049fcc7cb6fa",
   "metadata": {},
   "source": [
    "### PyPDFLoader\n",
    "\n",
    "This LangChain loader provides the interface to load PDF documents from your local file system. \n",
    "\n",
    "As shown below, you can provide the path to your directory that contains the PDFs. Once loaded, it can extract the meta-data as well as the page_content.  \n"
   ]
  },
  {
   "cell_type": "code",
   "execution_count": null,
   "id": "7853c7f6-fc6c-4e17-8d7a-61822bdba634",
   "metadata": {},
   "outputs": [],
   "source": [
    "import os\n",
    "from langchain_community.document_loaders import PyMuPDFLoader\n",
    "\n",
    "pdf_folder_path = \"/your/folder/path/\" # update path to point to the relevant directory\n",
    "documents = []\n",
    "for file in os.listdir(pdf_folder_path):\n",
    "    if file.endswith('.pdf'):\n",
    "        pdf_path = os.path.join(pdf_folder_path, file)\n",
    "        loader = PyMuPDFLoader(pdf_path)\n",
    "        documents.extend(loader.load())\n",
    "\n",
    "for each in documents:\n",
    "    # print(each.page_content) # Uncomment this line to see the individual page_content\n",
    "    print(each.metadata)\n"
   ]
  },
  {
   "cell_type": "markdown",
   "id": "4fd2785a-633b-4d8d-9500-57af1018074d",
   "metadata": {},
   "source": [
    "### Use Cases for Document Loaders: \n",
    "If you have a collection of research papers you want to use and leverage in your LLM application, 'ArxivLoader' or 'PyMuPDFLoader' can help you load these papers into your application.\n",
    "\n",
    "Once loaded, you can ask the LLM model to summarize or answer questions based on these documents. "
   ]
  }
 ],
 "metadata": {
  "kernelspec": {
   "display_name": "ssec-scipy-kernel",
   "language": "python",
   "name": "ssec-scipy2024"
  },
  "language_info": {
   "codemirror_mode": {
    "name": "ipython",
    "version": 3
   },
   "file_extension": ".py",
   "mimetype": "text/x-python",
   "name": "python",
   "nbconvert_exporter": "python",
   "pygments_lexer": "ipython3",
   "version": "3.11.8"
  }
 },
 "nbformat": 4,
 "nbformat_minor": 5
}
