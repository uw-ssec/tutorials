{
 "cells": [
  {
   "cell_type": "markdown",
   "id": "77c3077b-5cec-4dbf-a956-216d2e25c8c5",
   "metadata": {},
   "source": [
    "# Astrophysics Dataset Creation\n",
    "\n",
    "We will be using [arXiv Dataset](https://www.kaggle.com/datasets/Cornell-University/arxiv?resource=download) for this tutorial, in particular, we will use the abstracts for all the papers classified under the astrophysics category, i.e., with category value of `Astro-ph.` \n",
    "\n",
    "This notebook contains code to create the dataset. "
   ]
  },
  {
   "cell_type": "markdown",
   "id": "7e5fac9d-9871-4c39-926a-fcfe274ba149",
   "metadata": {},
   "source": [
    "Download the dataset from from above link and store it locally. "
   ]
  },
  {
   "cell_type": "code",
   "execution_count": 1,
   "id": "9fcebc9a-203f-40bc-8594-5ba5fd95c246",
   "metadata": {},
   "outputs": [],
   "source": [
    "from tqdm import tqdm\n",
    "import pandas as pd"
   ]
  },
  {
   "cell_type": "code",
   "execution_count": null,
   "id": "ee31ec19-c589-41ad-b8dd-20ab0c1e98ba",
   "metadata": {},
   "outputs": [],
   "source": [
    "# Edit the file path to the location where you download the archive.zip\n",
    "file_path = \"<add_file_path>/archive.zip\""
   ]
  },
  {
   "cell_type": "code",
   "execution_count": 23,
   "id": "fd884ece-a0d4-4fcb-b2d9-3cc7e18e0afc",
   "metadata": {},
   "outputs": [],
   "source": [
    "column_lst = [\"id\", \"title\", \"abstract\"]\n",
    "category_name = \"astro-ph\""
   ]
  },
  {
   "cell_type": "code",
   "execution_count": 14,
   "id": "5fe29eb5-0c35-47ce-bcc1-f9c01d512652",
   "metadata": {},
   "outputs": [],
   "source": [
    "chunked_df = pd.read_json(file_path, lines=True, chunksize=10000)"
   ]
  },
  {
   "cell_type": "code",
   "execution_count": 28,
   "id": "da37d196-afcf-4f30-9e72-0740264c16fb",
   "metadata": {},
   "outputs": [
    {
     "name": "stderr",
     "output_type": "stream",
     "text": [
      "242it [01:20,  3.02it/s]\n"
     ]
    }
   ],
   "source": [
    "astro_ph_df = []\n",
    "\n",
    "for chunk in tqdm(chunked_df):\n",
    "    astro_ph_df.append(chunk[chunk.categories.str.contains('astro-ph')][column_lst].reset_index(drop=True))"
   ]
  },
  {
   "cell_type": "code",
   "execution_count": 29,
   "id": "65bb04dc-2f09-46ca-a519-abf6ec164847",
   "metadata": {},
   "outputs": [],
   "source": [
    "astro_ph_df = pd.concat(astro_ph_df)"
   ]
  },
  {
   "cell_type": "code",
   "execution_count": 31,
   "id": "f2eaa93e-c464-4149-b3eb-9e8ca5ebd71d",
   "metadata": {},
   "outputs": [
    {
     "data": {
      "text/html": [
       "<div>\n",
       "<style scoped>\n",
       "    .dataframe tbody tr th:only-of-type {\n",
       "        vertical-align: middle;\n",
       "    }\n",
       "\n",
       "    .dataframe tbody tr th {\n",
       "        vertical-align: top;\n",
       "    }\n",
       "\n",
       "    .dataframe thead th {\n",
       "        text-align: right;\n",
       "    }\n",
       "</style>\n",
       "<table border=\"1\" class=\"dataframe\">\n",
       "  <thead>\n",
       "    <tr style=\"text-align: right;\">\n",
       "      <th></th>\n",
       "      <th>id</th>\n",
       "      <th>title</th>\n",
       "      <th>abstract</th>\n",
       "    </tr>\n",
       "  </thead>\n",
       "  <tbody>\n",
       "    <tr>\n",
       "      <th>0</th>\n",
       "      <td>712.2086</td>\n",
       "      <td>On weak and strong magnetohydrodynamic turbulence</td>\n",
       "      <td>Recent numerical and observational studies c...</td>\n",
       "    </tr>\n",
       "    <tr>\n",
       "      <th>1</th>\n",
       "      <td>712.2103</td>\n",
       "      <td>Hilltop Curvatons</td>\n",
       "      <td>We study ``hilltop'' curvatons that evolve o...</td>\n",
       "    </tr>\n",
       "    <tr>\n",
       "      <th>2</th>\n",
       "      <td>712.211</td>\n",
       "      <td>Near-field cosmology with the VLT</td>\n",
       "      <td>With the arrival of wide-field imagers on me...</td>\n",
       "    </tr>\n",
       "    <tr>\n",
       "      <th>3</th>\n",
       "      <td>712.2111</td>\n",
       "      <td>The prototype colliding-wind pinwheel WR 104</td>\n",
       "      <td>Results from the most extensive study of the...</td>\n",
       "    </tr>\n",
       "    <tr>\n",
       "      <th>4</th>\n",
       "      <td>712.2116</td>\n",
       "      <td>X-ray spectral evolution of TeV BL Lac objects...</td>\n",
       "      <td>Many of the extragalactic sources detected i...</td>\n",
       "    </tr>\n",
       "  </tbody>\n",
       "</table>\n",
       "</div>"
      ],
      "text/plain": [
       "         id                                              title  \\\n",
       "0  712.2086  On weak and strong magnetohydrodynamic turbulence   \n",
       "1  712.2103                                  Hilltop Curvatons   \n",
       "2   712.211                  Near-field cosmology with the VLT   \n",
       "3  712.2111       The prototype colliding-wind pinwheel WR 104   \n",
       "4  712.2116  X-ray spectral evolution of TeV BL Lac objects...   \n",
       "\n",
       "                                            abstract  \n",
       "0    Recent numerical and observational studies c...  \n",
       "1    We study ``hilltop'' curvatons that evolve o...  \n",
       "2    With the arrival of wide-field imagers on me...  \n",
       "3    Results from the most extensive study of the...  \n",
       "4    Many of the extragalactic sources detected i...  "
      ]
     },
     "execution_count": 31,
     "metadata": {},
     "output_type": "execute_result"
    }
   ],
   "source": [
    "astro_ph_df.head()"
   ]
  },
  {
   "cell_type": "code",
   "execution_count": 32,
   "id": "76c51c10-6bfc-4b20-8693-e224bb4a64c3",
   "metadata": {},
   "outputs": [
    {
     "data": {
      "text/plain": [
       "(331564, 3)"
      ]
     },
     "execution_count": 32,
     "metadata": {},
     "output_type": "execute_result"
    }
   ],
   "source": [
    "astro_ph_df.shape"
   ]
  },
  {
   "cell_type": "code",
   "execution_count": 33,
   "id": "7ebdddd2-144f-4a67-98cb-314f73f6e6e0",
   "metadata": {},
   "outputs": [],
   "source": [
    "# Edit the file path to the location where \n",
    "astro_ph_df.to_pickle(\"../resources/astro-ph-arXiv-abstracts.pkl\")  "
   ]
  },
  {
   "cell_type": "code",
   "execution_count": null,
   "id": "9ebb513f-8503-49f8-a0d9-3cb09def1e01",
   "metadata": {},
   "outputs": [],
   "source": []
  }
 ],
 "metadata": {
  "kernelspec": {
   "display_name": "Python 3 (ipykernel)",
   "language": "python",
   "name": "python3"
  },
  "language_info": {
   "codemirror_mode": {
    "name": "ipython",
    "version": 3
   },
   "file_extension": ".py",
   "mimetype": "text/x-python",
   "name": "python",
   "nbconvert_exporter": "python",
   "pygments_lexer": "ipython3",
   "version": "3.11.9"
  }
 },
 "nbformat": 4,
 "nbformat_minor": 5
}
