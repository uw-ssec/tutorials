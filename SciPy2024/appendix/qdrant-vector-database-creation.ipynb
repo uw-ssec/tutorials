{
 "cells": [
  {
   "cell_type": "markdown",
   "id": "ce91ba40-0f53-4fc0-b687-a385a4c36a10",
   "metadata": {},
   "source": [
    "# Qdrant Vector Database Creation"
   ]
  },
  {
   "cell_type": "code",
   "execution_count": 1,
   "id": "26843ee7-eb3f-48df-bee7-125b994ce25e",
   "metadata": {},
   "outputs": [],
   "source": [
    "import jsonlines\n",
    "import os\n",
    "import requests\n",
    "import typing as t\n",
    "\n",
    "from getpass import getpass\n",
    "from langchain.embeddings import HuggingFaceEmbeddings\n",
    "from langchain.schema import Document\n",
    "from langchain_community.vectorstores import Qdrant\n",
    "from llama_cpp import Llama\n",
    "import matplotlib.pyplot as plt\n",
    "import pandas as pd\n",
    "from tqdm.notebook import tqdm\n",
    "from qdrant_client import QdrantClient"
   ]
  },
  {
   "cell_type": "markdown",
   "id": "e3f02a81-cb84-4370-a66c-4087026fe61b",
   "metadata": {},
   "source": [
    "## Download Data "
   ]
  },
  {
   "cell_type": "code",
   "execution_count": 2,
   "id": "b8420d41-e08b-4ddb-8883-c375c2abe18d",
   "metadata": {},
   "outputs": [],
   "source": [
    "from ssec_tutorials import ASTROPH_ARXIV_ABSTRACTS, ASTROPY_GITHUB, download_astroph_arxiv_abstracts, download_astropy_github_documents, fetch_and_process_github_rst_files, download_qdrant_data, QDRANT_COLLECTION_NAME, QDRANT_PATH\n",
    "from ssec_tutorials.scipy_conf import load_docs_from_jsonl"
   ]
  },
  {
   "cell_type": "code",
   "execution_count": 3,
   "id": "ac0cf848-3295-4020-9275-1127b1c2aa35",
   "metadata": {},
   "outputs": [
    {
     "name": "stdout",
     "output_type": "stream",
     "text": [
      "Astropy github files already exist at /Users/a42/.cache/ssec_tutorials/astropy-github.jsonl\n"
     ]
    },
    {
     "data": {
      "text/plain": [
       "PosixPath('/Users/a42/.cache/ssec_tutorials/astropy-github.jsonl')"
      ]
     },
     "execution_count": 3,
     "metadata": {},
     "output_type": "execute_result"
    }
   ],
   "source": [
    "download_astropy_github_documents()"
   ]
  },
  {
   "cell_type": "code",
   "execution_count": 4,
   "id": "a7a81048-8370-4924-833d-4e63bf7229b9",
   "metadata": {},
   "outputs": [],
   "source": [
    "assert os.path.exists(ASTROPY_GITHUB)"
   ]
  },
  {
   "cell_type": "code",
   "execution_count": 5,
   "id": "06360c7c-de4f-4a5f-9ace-d3481562a7fd",
   "metadata": {},
   "outputs": [
    {
     "data": {
      "text/plain": [
       "PosixPath('/Users/a42/.cache/ssec_tutorials/astro-ph-arXiv-abstracts.pkl')"
      ]
     },
     "execution_count": 5,
     "metadata": {},
     "output_type": "execute_result"
    }
   ],
   "source": [
    "download_astroph_arxiv_abstracts()"
   ]
  },
  {
   "cell_type": "code",
   "execution_count": 6,
   "id": "c08a63f3-31b5-4ea6-a3fe-d5fda573b3ed",
   "metadata": {},
   "outputs": [],
   "source": [
    "assert os.path.exists(ASTROPH_ARXIV_ABSTRACTS)"
   ]
  },
  {
   "cell_type": "code",
   "execution_count": 33,
   "id": "a58c7d7f-02c9-4d3a-a4e4-63b40e9ee03c",
   "metadata": {},
   "outputs": [
    {
     "data": {
      "text/plain": [
       "PosixPath('/Users/a42/.cache/ssec_tutorials/scipy_qdrant')"
      ]
     },
     "execution_count": 33,
     "metadata": {},
     "output_type": "execute_result"
    }
   ],
   "source": [
    "# Download qdrant vector database\n",
    "download_qdrant_data()"
   ]
  },
  {
   "cell_type": "markdown",
   "id": "6446cc91-5e3a-429f-9ead-a38bbf1cf230",
   "metadata": {},
   "source": [
    "## GitHub Documents"
   ]
  },
  {
   "cell_type": "code",
   "execution_count": 6,
   "id": "9cee387e-ad9a-49a8-9ced-7ae8f9b8d9a0",
   "metadata": {},
   "outputs": [
    {
     "name": "stdin",
     "output_type": "stream",
     "text": [
      "GitHub Personal Access Token:  ········\n"
     ]
    }
   ],
   "source": [
    "# Enter your GitHub Personal Access Token securely\n",
    "ACCESS_TOKEN = getpass(prompt=\"GitHub Personal Access Token: \")"
   ]
  },
  {
   "cell_type": "code",
   "execution_count": 8,
   "id": "f28805cc-c3c5-4ad4-969e-190cc55b0bcb",
   "metadata": {},
   "outputs": [],
   "source": [
    "# Usage example\n",
    "repository = 'astropy/astropy'\n",
    "branch = 'main'\n",
    "docs_path = 'docs'"
   ]
  },
  {
   "cell_type": "code",
   "execution_count": 7,
   "id": "e848a168-b3a9-48c8-a6ee-34940a18db2f",
   "metadata": {},
   "outputs": [],
   "source": [
    "# Load Astropy docs from ASTROPY_GITHUB if already downloaded\n",
    "if not os.path.exists(ASTROPY_GITHUB):\n",
    "    github_documents = fetch_and_process_github_rst_files(\n",
    "        github_repo=repository, \n",
    "        github_branch=branch, \n",
    "        github_documents=docs_path,\n",
    "        github_personal_access_token=ACCESS_TOKEN\n",
    "    )\n",
    "else:\n",
    "    github_documents = load_docs_from_jsonl(ASTROPY_GITHUB)"
   ]
  },
  {
   "cell_type": "code",
   "execution_count": 12,
   "id": "4d45995c-ddb5-4225-a171-6e1339851ff0",
   "metadata": {
    "scrolled": true
   },
   "outputs": [
    {
     "data": {
      "text/plain": [
       "311"
      ]
     },
     "execution_count": 12,
     "metadata": {},
     "output_type": "execute_result"
    }
   ],
   "source": [
    "len(github_documents)"
   ]
  },
  {
   "cell_type": "markdown",
   "id": "367099df-d0e2-46e1-895a-2c6297bae030",
   "metadata": {},
   "source": [
    "## Arxiv Abstracts"
   ]
  },
  {
   "cell_type": "code",
   "execution_count": 14,
   "id": "f8249d9d-aa9d-4cec-9c5a-bc85ac8ea138",
   "metadata": {},
   "outputs": [],
   "source": [
    "# We will use the already pickled file but refer to the notebook in the Appendix if you are interested in understanding how we built it\n",
    "astro_df = pd.read_pickle(ASTROPH_ARXIV_ABSTRACTS)"
   ]
  },
  {
   "cell_type": "code",
   "execution_count": 15,
   "id": "722844c4-9295-4a81-bc54-4f68c1a04276",
   "metadata": {},
   "outputs": [
    {
     "name": "stdout",
     "output_type": "stream",
     "text": [
      "Number of astrophysics papers:  338658\n"
     ]
    }
   ],
   "source": [
    "print(\"Number of astrophysics papers: \", len(astro_df))"
   ]
  },
  {
   "cell_type": "code",
   "execution_count": 16,
   "id": "fee3a01e-2ed6-4668-8a3f-c5c97471c263",
   "metadata": {},
   "outputs": [
    {
     "data": {
      "text/html": [
       "<div>\n",
       "<style scoped>\n",
       "    .dataframe tbody tr th:only-of-type {\n",
       "        vertical-align: middle;\n",
       "    }\n",
       "\n",
       "    .dataframe tbody tr th {\n",
       "        vertical-align: top;\n",
       "    }\n",
       "\n",
       "    .dataframe thead th {\n",
       "        text-align: right;\n",
       "    }\n",
       "</style>\n",
       "<table border=\"1\" class=\"dataframe\">\n",
       "  <thead>\n",
       "    <tr style=\"text-align: right;\">\n",
       "      <th></th>\n",
       "      <th>id</th>\n",
       "      <th>title</th>\n",
       "      <th>abstract</th>\n",
       "    </tr>\n",
       "  </thead>\n",
       "  <tbody>\n",
       "    <tr>\n",
       "      <th>0</th>\n",
       "      <td>704.0009</td>\n",
       "      <td>The Spitzer c2d Survey of Large, Nearby, Inste...</td>\n",
       "      <td>We discuss the results from the combined IRA...</td>\n",
       "    </tr>\n",
       "    <tr>\n",
       "      <th>1</th>\n",
       "      <td>704.0017</td>\n",
       "      <td>Spectroscopic Observations of the Intermediate...</td>\n",
       "      <td>Results from spectroscopic observations of t...</td>\n",
       "    </tr>\n",
       "    <tr>\n",
       "      <th>2</th>\n",
       "      <td>704.0023</td>\n",
       "      <td>ALMA as the ideal probe of the solar chromosphere</td>\n",
       "      <td>The very nature of the solar chromosphere, i...</td>\n",
       "    </tr>\n",
       "    <tr>\n",
       "      <th>3</th>\n",
       "      <td>704.0044</td>\n",
       "      <td>Astrophysical gyrokinetics: kinetic and fluid ...</td>\n",
       "      <td>We present a theoretical framework for plasm...</td>\n",
       "    </tr>\n",
       "    <tr>\n",
       "      <th>4</th>\n",
       "      <td>704.0048</td>\n",
       "      <td>Inference on white dwarf binary systems using ...</td>\n",
       "      <td>We report on the analysis of selected single...</td>\n",
       "    </tr>\n",
       "  </tbody>\n",
       "</table>\n",
       "</div>"
      ],
      "text/plain": [
       "         id                                              title  \\\n",
       "0  704.0009  The Spitzer c2d Survey of Large, Nearby, Inste...   \n",
       "1  704.0017  Spectroscopic Observations of the Intermediate...   \n",
       "2  704.0023  ALMA as the ideal probe of the solar chromosphere   \n",
       "3  704.0044  Astrophysical gyrokinetics: kinetic and fluid ...   \n",
       "4  704.0048  Inference on white dwarf binary systems using ...   \n",
       "\n",
       "                                            abstract  \n",
       "0    We discuss the results from the combined IRA...  \n",
       "1    Results from spectroscopic observations of t...  \n",
       "2    The very nature of the solar chromosphere, i...  \n",
       "3    We present a theoretical framework for plasm...  \n",
       "4    We report on the analysis of selected single...  "
      ]
     },
     "execution_count": 16,
     "metadata": {},
     "output_type": "execute_result"
    }
   ],
   "source": [
    "astro_df.head()"
   ]
  },
  {
   "cell_type": "markdown",
   "id": "a5730eb8-7738-4099-be24-a5d2c1f4fd90",
   "metadata": {},
   "source": [
    "### Documents Loader"
   ]
  },
  {
   "cell_type": "markdown",
   "id": "44d819f9-df1f-4fb1-9b82-5c438a274873",
   "metadata": {},
   "source": [
    "LangChain helps load different documents (.txt, .pdf, .docx, .csv, .xlsx, .json) to feed into the LLM. The Document Loader even allows YouTube audio parsing and loading as part of unstructured document loading.\n",
    "\n",
    "Once loaded into the LangChain, the document can be pre-processed in different ways as required in the LLM application.  "
   ]
  },
  {
   "cell_type": "code",
   "execution_count": 17,
   "id": "6e403f62-fc91-4be9-9d45-292190c221fd",
   "metadata": {},
   "outputs": [],
   "source": [
    "from langchain_community.document_loaders import DataFrameLoader"
   ]
  },
  {
   "cell_type": "code",
   "execution_count": 18,
   "id": "bd8cd94b-474e-49a5-956e-27f89e65fca4",
   "metadata": {},
   "outputs": [],
   "source": [
    "# Load the dataframe full of abstracts\n",
    "# to memory in the form of LangChain Document objects\n",
    "loader = DataFrameLoader(astro_df, page_content_column=\"abstract\") \n",
    "astrophysics_abstracts_documents = loader.load()"
   ]
  },
  {
   "cell_type": "code",
   "execution_count": 19,
   "id": "8de58aaa-4cae-45b7-bf55-dc00739c94a8",
   "metadata": {},
   "outputs": [
    {
     "name": "stdout",
     "output_type": "stream",
     "text": [
      "Number of astrophysics papers:  338658\n"
     ]
    }
   ],
   "source": [
    "print(\"Number of astrophysics papers: \", len(astrophysics_abstracts_documents))"
   ]
  },
  {
   "cell_type": "code",
   "execution_count": 20,
   "id": "138995f7-5bba-43b9-ba7a-ab8ef9b16c21",
   "metadata": {},
   "outputs": [
    {
     "name": "stdout",
     "output_type": "stream",
     "text": [
      "Total Number of Documents:  338969\n"
     ]
    }
   ],
   "source": [
    "all_documents = astrophysics_abstracts_documents + github_documents\n",
    "print(\"Total Number of Documents: \", len(all_documents))"
   ]
  },
  {
   "cell_type": "markdown",
   "id": "16d1ebe7-8e12-4e2f-97d2-55074673aa37",
   "metadata": {},
   "source": [
    "## Qdrant Creation"
   ]
  },
  {
   "cell_type": "code",
   "execution_count": 30,
   "id": "57d112b1-1460-4193-9d26-856bb7ea6faf",
   "metadata": {},
   "outputs": [
    {
     "data": {
      "text/plain": [
       "PosixPath('/Users/a42/.cache/ssec_tutorials/scipy_qdrant')"
      ]
     },
     "execution_count": 30,
     "metadata": {},
     "output_type": "execute_result"
    }
   ],
   "source": [
    "QDRANT_PATH"
   ]
  },
  {
   "cell_type": "code",
   "execution_count": 31,
   "id": "3597b11d-baf0-48dc-b53c-cb7243566e81",
   "metadata": {},
   "outputs": [
    {
     "data": {
      "text/plain": [
       "'arxiv_astro-ph_abstracts_astropy_github_documentation'"
      ]
     },
     "execution_count": 31,
     "metadata": {},
     "output_type": "execute_result"
    }
   ],
   "source": [
    "QDRANT_COLLECTION_NAME"
   ]
  },
  {
   "cell_type": "code",
   "execution_count": 22,
   "id": "be5c185b-c033-4058-989e-2b7c48138195",
   "metadata": {},
   "outputs": [],
   "source": [
    "model = HuggingFaceEmbeddings(model_name=\"sentence-transformers/all-MiniLM-L12-v2\")"
   ]
  },
  {
   "cell_type": "code",
   "execution_count": 34,
   "id": "fd4ff0b8-ad45-4ad2-9920-bc5cde7eef59",
   "metadata": {},
   "outputs": [
    {
     "name": "stdout",
     "output_type": "stream",
     "text": [
      "If the Qdrant Vector Database Collection already exists in /Users/a42/.cache/ssec_tutorials/scipy_qdrant, load it\n"
     ]
    }
   ],
   "source": [
    "if QDRANT_PATH.exists():\n",
    "    print(f\"If the Qdrant Vector Database Collection already exists in {QDRANT_PATH}, load it\")\n",
    "    client = QdrantClient(path=str(QDRANT_PATH))\n",
    "    qdrant = Qdrant(\n",
    "        client=client,\n",
    "        collection_name=QDRANT_COLLECTION_NAME,\n",
    "        embeddings=model\n",
    "    )\n",
    "else:\n",
    "    print(f\"Creating new Qdrant collection '{qdrant_collection}' from {len(all_documents)} documents\")\n",
    "    \n",
    "    # Load the documents into a Qdrant Vector Database Collection\n",
    "    # this will save locally in the qdrant_path as sqlite\n",
    "    qdrant = Qdrant.from_documents(\n",
    "        documents=all_documents,\n",
    "        embedding=model,\n",
    "        path=str(QDRANT_PATH),\n",
    "        collection_name=QDRANT_COLLECTION_NAME,\n",
    "    )"
   ]
  },
  {
   "cell_type": "code",
   "execution_count": 35,
   "id": "2251a6f8-ab5b-4141-8bf5-b5b294c71bca",
   "metadata": {},
   "outputs": [
    {
     "data": {
      "text/plain": [
       "CountResult(count=338969)"
      ]
     },
     "execution_count": 35,
     "metadata": {},
     "output_type": "execute_result"
    }
   ],
   "source": [
    "# Number of documents in qdrant\n",
    "qdrant.client.count(collection_name=qdrant_collection)"
   ]
  },
  {
   "cell_type": "code",
   "execution_count": 36,
   "id": "578b5a20-a2e9-4006-a514-9a544f4e502e",
   "metadata": {},
   "outputs": [],
   "source": [
    "# Setup the retriever for later step\n",
    "retriever = qdrant.as_retriever(search_type=\"mmr\", search_kwargs={\"k\": 2})"
   ]
  },
  {
   "cell_type": "code",
   "execution_count": 37,
   "id": "323b976a-c7cc-4d86-9050-311b926d22c7",
   "metadata": {},
   "outputs": [
    {
     "data": {
      "text/plain": [
       "[Document(page_content='  I give a review of the development of the concept of dark matter. The dark\\nmatter story passed through several stages from a minor observational puzzle to\\na major challenge for theory of elementary particles. Modern data suggest that\\ndark matter is the dominant matter component in the Universe, and that it\\nconsists of some unknown non-baryonic particles. Properties of dark matter\\nparticles determine the structure of the cosmic web.\\n', metadata={'id': 1109.558, 'title': 'Dark matter', '_id': '363091ccc8f643fa9b51eed9aa157ad9', '_collection_name': 'arxiv_astro-ph_abstracts_astropy_github_documentation'}),\n",
       " Document(page_content='  Even though there are strong astrophysical and cosmological indications to\\nsupport the existence of dark matter, its exact nature remains unknown. We\\nexpect dark matter to produce standard model particles when annihilating or\\ndecaying, assuming that it is composed of Weakly Interacting Massive Particles\\n(WIMPs). These standard model particles could in turn yield neutrinos that can\\nbe detected by the IceCube neutrino telescope. The Milky Way is expected to be\\npermeated by a dark matter halo with an increased density towards its centre.\\nThis halo is expected to yield the strongest dark matter annihilation signal at\\nEarth coming from any celestial object, making it an ideal target for indirect\\nsearches. In this contribution, we present the sensitivities of an indirect\\nsearch for dark matter in the Galactic Centre using IceCube data. This low\\nenergy dark matter search allows us to cover dark matter masses ranging from 5\\nGeV to 1 TeV. The sensitivities obtained for this analysis show considerable\\nimprovements over previous IceCube results in the considered energy range.\\n', metadata={'id': 2107.11224, 'title': 'Indirect search for dark matter in the Galactic Centre with IceCube', '_id': '54e8d56798d04046b498f599970cdb79', '_collection_name': 'arxiv_astro-ph_abstracts_astropy_github_documentation'})]"
      ]
     },
     "execution_count": 37,
     "metadata": {},
     "output_type": "execute_result"
    }
   ],
   "source": [
    "retriever.invoke(\"What is dark matter?\")"
   ]
  },
  {
   "cell_type": "code",
   "execution_count": 34,
   "id": "e668bc7c-2eba-4329-aa4b-5c9866885f55",
   "metadata": {},
   "outputs": [
    {
     "data": {
      "text/plain": [
       "[Document(page_content='.. _astropy-coordinates-transforming:\\n\\nTransforming between Systems\\n****************************\\n\\n`astropy.coordinates` supports a rich system for transforming\\ncoordinates from one frame to another. While common astronomy frames\\nare built into Astropy, the transformation infrastructure is dynamic.\\nThis means it allows users to define new coordinate frames and their\\ntransformations. The topic of writing your own coordinate frame or\\ntransforms is detailed in :ref:`astropy-coordinates-design`, and this\\nsection is focused on how to *use* transformations.\\n\\nThe full list of built-in coordinate frames, the included transformations,\\nand the frame names are shown as a (clickable) graph in the\\n`~astropy.coordinates` API documentation.\\n\\nExamples\\n--------\\n\\n..\\n  EXAMPLE START\\n  Transforming Coordinates to Another Frame\\n\\nThe recommended method of transformation is shown below::\\n\\n    >>> import astropy.units as u\\n    >>> from astropy.coordinates import SkyCoord\\n    >>> gc = SkyCoord(l=0*u.degree, b=45*u.degree, frame=\\'galactic\\')\\n    >>> gc.fk5  # doctest: +FLOAT_CMP\\n    <SkyCoord (FK5: equinox=J2000.000): (ra, dec) in deg\\n        ( 229.27251463, -1.12844288)>\\n\\nWhile this appears to be ordinary attribute-style access, it is actually\\nsyntactic sugar for the more general\\n:meth:`~astropy.coordinates.SkyCoord.transform_to` method, which can\\naccept either a frame name, class, or instance::\\n\\n    >>> from astropy.coordinates import FK5\\n    >>> gc.transform_to(\\'fk5\\')  # doctest: +FLOAT_CMP\\n    <SkyCoord (FK5: equinox=J2000.000): (ra, dec) in deg\\n        ( 229.27251463, -1.12844288)>\\n    >>> gc.transform_to(FK5)  # doctest: +FLOAT_CMP\\n    <SkyCoord (FK5: equinox=J2000.000): (ra, dec) in deg\\n        ( 229.27251463, -1.12844288)>\\n    >>> gc.transform_to(FK5(equinox=\\'J1980.0\\'))  # doctest: +FLOAT_CMP\\n    <SkyCoord (FK5: equinox=J1980.000): (ra, dec) in deg\\n        ( 229.0146935, -1.05560349)>\\n\\n..\\n  EXAMPLE END\\n\\n..\\n  EXAMPLE START\\n  Using SkyCoord Objects as the Frame in Transformations\\n\\nAs a convenience, it is also possible to use a |SkyCoord| object as the frame in\\n:meth:`~astropy.coordinates.SkyCoord.transform_to`. This allows for putting one\\ncoordinate object into the frame of another::\\n\\n    >>> sc = SkyCoord(ra=1.0, dec=2.0, unit=\\'deg\\', frame=FK5, equinox=\\'J1980.0\\')\\n    >>> gc.transform_to(sc)  # doctest: +FLOAT_CMP\\n    <SkyCoord (FK5: equinox=J1980.000): (ra, dec) in deg\\n        ( 229.0146935, -1.05560349)>\\n\\n..\\n  EXAMPLE END\\n\\n..\\n  EXAMPLE START\\n  Self Transformations of Coordinate Frames\\n\\nSome coordinate frames (including `~astropy.coordinates.FK5`,\\n`~astropy.coordinates.FK4`, and `~astropy.coordinates.FK4NoETerms`) support\\n\"self transformations,\" meaning the *type* of frame does not change, but the\\nframe attributes do. An example is precessing a coordinate from one equinox\\nto another in an equatorial frame. This is done by passing ``transform_to`` a\\nframe class with the relevant attributes, as shown below. Note that these\\nframes use a default equinox if you do not specify one::\\n\\n    >>> fk5c = SkyCoord(\\'02h31m49.09s\\', \\'+89d15m50.8s\\', frame=FK5)\\n    >>> fk5c.equinox\\n    <Time object: scale=\\'tt\\' format=\\'jyear_str\\' value=J2000.000>\\n    >>> fk5c  # doctest: +FLOAT_CMP\\n    <SkyCoord (FK5: equinox=J2000.000): (ra, dec) in deg\\n        ( 37.95454167,  89.26411111)>\\n    >>> fk5_2005 = FK5(equinox=\\'J2005\\')  # String initializes an astropy.time.Time object\\n    >>> fk5c.transform_to(fk5_2005)  # doctest: +FLOAT_CMP\\n    <SkyCoord (FK5: equinox=J2005.000): (ra, dec) in deg\\n        ( 39.39317639,  89.28584422)>\\n\\nYou can also specify the equinox when you create a coordinate using a\\n`~astropy.time.Time` object::\\n\\n    >>> from astropy.time import Time\\n    >>> fk5c = SkyCoord(\\'02h31m49.09s\\', \\'+89d15m50.8s\\',\\n    ...                 frame=FK5(equinox=Time(\\'J1970\\')))\\n    >>> fk5_2000 = FK5(equinox=Time(2000, format=\\'jyear\\'))\\n    >>> fk5c.transform_to(fk5_2000)  # doctest: +FLOAT_CMP\\n    <SkyCoord (FK5: equinox=2000.0): (ra, dec) in deg\\n        ( 48.023171,  89.38672485)>\\n\\nThe same lower-level frame classes also have a\\n:meth:`~astropy.coordinates.BaseCoordinateFrame.transform_to` method\\nthat works the same as above, but they do not support attribute-style\\naccess. They are also subtly different in that they only use frame\\nattributes present in the initial or final frame, while |SkyCoord|\\nobjects use any frame attributes they have for all transformation\\nsteps. So |SkyCoord| can always transform from one frame to another and\\nback again without change, while low-level classes may lose information\\nand hence often do not round-trip.\\n\\n..\\n  EXAMPLE END\\n\\n.. _astropy-coordinates-transforming-ephemerides:\\n\\nTransformations and Solar System Ephemerides\\n============================================\\n\\nSome transformations (e.g., the transformation between\\n`~astropy.coordinates.ICRS` and `~astropy.coordinates.GCRS`) require the use of\\na Solar System ephemeris to calculate the position and velocity of the Earth\\nand Sun. By default, transformations are calculated using built-in\\n`ERFA <https://github.com/liberfa/erfa>`_ routines, but they can also use more\\nprecise ones using the JPL ephemerides (which are derived from dynamical\\nmodels).\\n\\nExample\\n-------\\n\\n..\\n  EXAMPLE START\\n  Calculating Transformations Using Solar System Ephemeris\\n\\nTo use the JPL ephemerides, use the\\n`~astropy.coordinates.solar_system_ephemeris` context manager, as shown below:\\n\\n.. doctest-requires:: jplephem\\n\\n    >>> from astropy.coordinates import solar_system_ephemeris\\n    >>> from astropy.coordinates import GCRS\\n    >>> with solar_system_ephemeris.set(\\'jpl\\'): # doctest: +REMOTE_DATA +IGNORE_OUTPUT\\n    ...     fk5c.transform_to(GCRS(obstime=Time(\"J2000\"))) # doctest: +REMOTE_DATA +IGNORE_OUTPUT\\n\\nFor locations at large distances from the Solar system, using the JPL\\nephemerides will make a negligible difference on the order of micro-arcseconds.\\nFor nearby objects, such as the Moon, the difference can be of the\\norder of milli-arcseconds. For more details about what ephemerides\\nare available, including the requirements for using JPL ephemerides, see\\n:ref:`astropy-coordinates-solarsystem`.\\n\\n..\\n  EXAMPLE END\\n', metadata={'title': 'Transforming', 'url': 'https://raw.githubusercontent.com/astropy/astropy/main/docs/coordinates/transforming.rst', '_id': 'd4477c653787490e83f413139ecdacbc', '_collection_name': 'arxiv_astro-ph_abstracts_astropy_github_documentation'}),\n",
       " Document(page_content=\"  AIMS: An alternative to the traditional method for modeling kinematics of the\\nEarth's rotation is proposed. The purpose of developing the new approach is to\\nprovide a self-consistent and simple description of the Earth's rotation in a\\nway that can be estimated directly from observations without using intermediate\\nquantities.\\n  METHODS: Instead of estimating the time series of pole coordinates, the\\nUT1--TAI angles, their rates, and the daily offsets of nutation, it is proposed\\nto estimate coefficients of the expansion of a small perturbational rotation\\nvector into basis functions. The resulting transformation from the terrestrial\\ncoordinate system to the celestial coordinate system is formulated as a product\\nof an a priori matrix of a finite rotation and an empirical vector of a\\nresidual perturbational rotation. In the framework of this approach, the\\nspecific choice of the a priori matrix is irrelevant, provided the angles of\\nthe residual rotation are small enough to neglect their squares. The\\ncoefficients of the expansion into the B-spline and Fourier bases, together\\nwith estimates of other nuisance parameters, are evaluated directly from\\nobservations of time delay or time range in a single least square solution.\\n  RESULTS: This approach was successfully implemented in a computer program for\\nprocessing VLBI observations. The dataset from 1984 through 2006 was analyzed.\\nThe new procedure adequately represents the Earth's rotation, including slowly\\nvarying changes in UT1--TAI and polar motion, the forced nutations, the free\\ncore nutation, and the high frequency variations of polar motion and UT1.\\n\", metadata={'id': 'astro-ph/0611781', 'title': 'The empirical Earth rotation model from VLBI observations', '_id': 'd854014b19974f1cb85c7b2348997641', '_collection_name': 'arxiv_astro-ph_abstracts_astropy_github_documentation'})]"
      ]
     },
     "execution_count": 34,
     "metadata": {},
     "output_type": "execute_result"
    }
   ],
   "source": [
    "retriever.invoke(\"How can I perform celestial coordinate transformations?\")"
   ]
  },
  {
   "cell_type": "code",
   "execution_count": 35,
   "id": "41f53e82-eee2-452a-932f-a5081c7fbe3c",
   "metadata": {},
   "outputs": [],
   "source": [
    "# Post-processing\n",
    "def format_docs(docs):\n",
    "    return \"\\n\\n\".join(doc.page_content for doc in docs)"
   ]
  },
  {
   "cell_type": "code",
   "execution_count": 36,
   "id": "b189a1f7-a7b0-456f-ac34-794fec521617",
   "metadata": {},
   "outputs": [
    {
     "name": "stdout",
     "output_type": "stream",
     "text": [
      ".. _astropy-coordinates-transforming:\n",
      "\n",
      "Transforming between Systems\n",
      "****************************\n",
      "\n",
      "`astropy.coordinates` supports a rich system for transforming\n",
      "coordinates from one frame to another. While common astronomy frames\n",
      "are built into Astropy, the transformation infrastructure is dynamic.\n",
      "This means it allows users to define new coordinate frames and their\n",
      "transformations. The topic of writing your own coordinate frame or\n",
      "transforms is detailed in :ref:`astropy-coordinates-design`, and this\n",
      "section is focused on how to *use* transformations.\n",
      "\n",
      "The full list of built-in coordinate frames, the included transformations,\n",
      "and the frame names are shown as a (clickable) graph in the\n",
      "`~astropy.coordinates` API documentation.\n",
      "\n",
      "Examples\n",
      "--------\n",
      "\n",
      "..\n",
      "  EXAMPLE START\n",
      "  Transforming Coordinates to Another Frame\n",
      "\n",
      "The recommended method of transformation is shown below::\n",
      "\n",
      "    >>> import astropy.units as u\n",
      "    >>> from astropy.coordinates import SkyCoord\n",
      "    >>> gc = SkyCoord(l=0*u.degree, b=45*u.degree, frame='galactic')\n",
      "    >>> gc.fk5  # doctest: +FLOAT_CMP\n",
      "    <SkyCoord (FK5: equinox=J2000.000): (ra, dec) in deg\n",
      "        ( 229.27251463, -1.12844288)>\n",
      "\n",
      "While this appears to be ordinary attribute-style access, it is actually\n",
      "syntactic sugar for the more general\n",
      ":meth:`~astropy.coordinates.SkyCoord.transform_to` method, which can\n",
      "accept either a frame name, class, or instance::\n",
      "\n",
      "    >>> from astropy.coordinates import FK5\n",
      "    >>> gc.transform_to('fk5')  # doctest: +FLOAT_CMP\n",
      "    <SkyCoord (FK5: equinox=J2000.000): (ra, dec) in deg\n",
      "        ( 229.27251463, -1.12844288)>\n",
      "    >>> gc.transform_to(FK5)  # doctest: +FLOAT_CMP\n",
      "    <SkyCoord (FK5: equinox=J2000.000): (ra, dec) in deg\n",
      "        ( 229.27251463, -1.12844288)>\n",
      "    >>> gc.transform_to(FK5(equinox='J1980.0'))  # doctest: +FLOAT_CMP\n",
      "    <SkyCoord (FK5: equinox=J1980.000): (ra, dec) in deg\n",
      "        ( 229.0146935, -1.05560349)>\n",
      "\n",
      "..\n",
      "  EXAMPLE END\n",
      "\n",
      "..\n",
      "  EXAMPLE START\n",
      "  Using SkyCoord Objects as the Frame in Transformations\n",
      "\n",
      "As a convenience, it is also possible to use a |SkyCoord| object as the frame in\n",
      ":meth:`~astropy.coordinates.SkyCoord.transform_to`. This allows for putting one\n",
      "coordinate object into the frame of another::\n",
      "\n",
      "    >>> sc = SkyCoord(ra=1.0, dec=2.0, unit='deg', frame=FK5, equinox='J1980.0')\n",
      "    >>> gc.transform_to(sc)  # doctest: +FLOAT_CMP\n",
      "    <SkyCoord (FK5: equinox=J1980.000): (ra, dec) in deg\n",
      "        ( 229.0146935, -1.05560349)>\n",
      "\n",
      "..\n",
      "  EXAMPLE END\n",
      "\n",
      "..\n",
      "  EXAMPLE START\n",
      "  Self Transformations of Coordinate Frames\n",
      "\n",
      "Some coordinate frames (including `~astropy.coordinates.FK5`,\n",
      "`~astropy.coordinates.FK4`, and `~astropy.coordinates.FK4NoETerms`) support\n",
      "\"self transformations,\" meaning the *type* of frame does not change, but the\n",
      "frame attributes do. An example is precessing a coordinate from one equinox\n",
      "to another in an equatorial frame. This is done by passing ``transform_to`` a\n",
      "frame class with the relevant attributes, as shown below. Note that these\n",
      "frames use a default equinox if you do not specify one::\n",
      "\n",
      "    >>> fk5c = SkyCoord('02h31m49.09s', '+89d15m50.8s', frame=FK5)\n",
      "    >>> fk5c.equinox\n",
      "    <Time object: scale='tt' format='jyear_str' value=J2000.000>\n",
      "    >>> fk5c  # doctest: +FLOAT_CMP\n",
      "    <SkyCoord (FK5: equinox=J2000.000): (ra, dec) in deg\n",
      "        ( 37.95454167,  89.26411111)>\n",
      "    >>> fk5_2005 = FK5(equinox='J2005')  # String initializes an astropy.time.Time object\n",
      "    >>> fk5c.transform_to(fk5_2005)  # doctest: +FLOAT_CMP\n",
      "    <SkyCoord (FK5: equinox=J2005.000): (ra, dec) in deg\n",
      "        ( 39.39317639,  89.28584422)>\n",
      "\n",
      "You can also specify the equinox when you create a coordinate using a\n",
      "`~astropy.time.Time` object::\n",
      "\n",
      "    >>> from astropy.time import Time\n",
      "    >>> fk5c = SkyCoord('02h31m49.09s', '+89d15m50.8s',\n",
      "    ...                 frame=FK5(equinox=Time('J1970')))\n",
      "    >>> fk5_2000 = FK5(equinox=Time(2000, format='jyear'))\n",
      "    >>> fk5c.transform_to(fk5_2000)  # doctest: +FLOAT_CMP\n",
      "    <SkyCoord (FK5: equinox=2000.0): (ra, dec) in deg\n",
      "        ( 48.023171,  89.38672485)>\n",
      "\n",
      "The same lower-level frame classes also have a\n",
      ":meth:`~astropy.coordinates.BaseCoordinateFrame.transform_to` method\n",
      "that works the same as above, but they do not support attribute-style\n",
      "access. They are also subtly different in that they only use frame\n",
      "attributes present in the initial or final frame, while |SkyCoord|\n",
      "objects use any frame attributes they have for all transformation\n",
      "steps. So |SkyCoord| can always transform from one frame to another and\n",
      "back again without change, while low-level classes may lose information\n",
      "and hence often do not round-trip.\n",
      "\n",
      "..\n",
      "  EXAMPLE END\n",
      "\n",
      ".. _astropy-coordinates-transforming-ephemerides:\n",
      "\n",
      "Transformations and Solar System Ephemerides\n",
      "============================================\n",
      "\n",
      "Some transformations (e.g., the transformation between\n",
      "`~astropy.coordinates.ICRS` and `~astropy.coordinates.GCRS`) require the use of\n",
      "a Solar System ephemeris to calculate the position and velocity of the Earth\n",
      "and Sun. By default, transformations are calculated using built-in\n",
      "`ERFA <https://github.com/liberfa/erfa>`_ routines, but they can also use more\n",
      "precise ones using the JPL ephemerides (which are derived from dynamical\n",
      "models).\n",
      "\n",
      "Example\n",
      "-------\n",
      "\n",
      "..\n",
      "  EXAMPLE START\n",
      "  Calculating Transformations Using Solar System Ephemeris\n",
      "\n",
      "To use the JPL ephemerides, use the\n",
      "`~astropy.coordinates.solar_system_ephemeris` context manager, as shown below:\n",
      "\n",
      ".. doctest-requires:: jplephem\n",
      "\n",
      "    >>> from astropy.coordinates import solar_system_ephemeris\n",
      "    >>> from astropy.coordinates import GCRS\n",
      "    >>> with solar_system_ephemeris.set('jpl'): # doctest: +REMOTE_DATA +IGNORE_OUTPUT\n",
      "    ...     fk5c.transform_to(GCRS(obstime=Time(\"J2000\"))) # doctest: +REMOTE_DATA +IGNORE_OUTPUT\n",
      "\n",
      "For locations at large distances from the Solar system, using the JPL\n",
      "ephemerides will make a negligible difference on the order of micro-arcseconds.\n",
      "For nearby objects, such as the Moon, the difference can be of the\n",
      "order of milli-arcseconds. For more details about what ephemerides\n",
      "are available, including the requirements for using JPL ephemerides, see\n",
      ":ref:`astropy-coordinates-solarsystem`.\n",
      "\n",
      "..\n",
      "  EXAMPLE END\n",
      "\n",
      "\n",
      "  AIMS: An alternative to the traditional method for modeling kinematics of the\n",
      "Earth's rotation is proposed. The purpose of developing the new approach is to\n",
      "provide a self-consistent and simple description of the Earth's rotation in a\n",
      "way that can be estimated directly from observations without using intermediate\n",
      "quantities.\n",
      "  METHODS: Instead of estimating the time series of pole coordinates, the\n",
      "UT1--TAI angles, their rates, and the daily offsets of nutation, it is proposed\n",
      "to estimate coefficients of the expansion of a small perturbational rotation\n",
      "vector into basis functions. The resulting transformation from the terrestrial\n",
      "coordinate system to the celestial coordinate system is formulated as a product\n",
      "of an a priori matrix of a finite rotation and an empirical vector of a\n",
      "residual perturbational rotation. In the framework of this approach, the\n",
      "specific choice of the a priori matrix is irrelevant, provided the angles of\n",
      "the residual rotation are small enough to neglect their squares. The\n",
      "coefficients of the expansion into the B-spline and Fourier bases, together\n",
      "with estimates of other nuisance parameters, are evaluated directly from\n",
      "observations of time delay or time range in a single least square solution.\n",
      "  RESULTS: This approach was successfully implemented in a computer program for\n",
      "processing VLBI observations. The dataset from 1984 through 2006 was analyzed.\n",
      "The new procedure adequately represents the Earth's rotation, including slowly\n",
      "varying changes in UT1--TAI and polar motion, the forced nutations, the free\n",
      "core nutation, and the high frequency variations of polar motion and UT1.\n",
      "\n"
     ]
    }
   ],
   "source": [
    "print(format_docs(retriever.invoke(\"How can I perform celestial coordinate transformations?\")))"
   ]
  },
  {
   "cell_type": "code",
   "execution_count": null,
   "id": "2403e158-85b8-4a5a-aa0f-8428fb133d9d",
   "metadata": {},
   "outputs": [],
   "source": []
  }
 ],
 "metadata": {
  "kernelspec": {
   "display_name": "Python 3 (ipykernel)",
   "language": "python",
   "name": "python3"
  },
  "language_info": {
   "codemirror_mode": {
    "name": "ipython",
    "version": 3
   },
   "file_extension": ".py",
   "mimetype": "text/x-python",
   "name": "python",
   "nbconvert_exporter": "python",
   "pygments_lexer": "ipython3",
   "version": "3.11.8"
  }
 },
 "nbformat": 4,
 "nbformat_minor": 5
}
