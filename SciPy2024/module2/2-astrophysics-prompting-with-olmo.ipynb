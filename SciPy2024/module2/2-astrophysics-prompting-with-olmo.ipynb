{
 "cells": [
  {
   "cell_type": "markdown",
   "metadata": {},
   "source": [
    "# Astrophysics Prompting with OLMo"
   ]
  },
  {
   "cell_type": "markdown",
   "metadata": {},
   "source": [
    "We collected a set of questions from an astronomer:\n",
    "* What is dark matter?\n",
    "* How many dimensions are there in the elemental abundances of stars?\n",
    "* What is the evidence for cosmological\tparity violation?\n",
    "* What observations show evidence for dark matter?\n",
    "* What are the most popular theories for what dark matter might be made of?\n",
    "* Does dark matter need to be a particle?\n",
    "* What is the expected mass of dark matter?\n",
    "* What experiments are currently ongoing and searching for dark matter?\n",
    "* How do the above experiments work?\n",
    "* What type of dark matter would the LHC be able to detect?\n",
    "* Can you modify gravity to explain dark matter? If so how?\n",
    "* How do astronomers detect the presence of planets around nearby stars?\n",
    "* What is an eclipsing binary star?\n",
    "* Can you describe a taxonomy for different classes of variable stars?\n",
    "* What would the light curve of a tidal disruption event look like? How would it be different from a supernova?\n",
    "* How do supernova explode?\n",
    "* How is a Type II SN different from a Type 1a?\n",
    "\n",
    "\n",
    "Let's analyze how OLMo does without any additional context. "
   ]
  },
  {
   "cell_type": "code",
   "execution_count": 1,
   "metadata": {},
   "outputs": [],
   "source": [
    "import langchain\n",
    "import textwrap"
   ]
  },
  {
   "cell_type": "code",
   "execution_count": 2,
   "metadata": {},
   "outputs": [],
   "source": [
    "from langchain import PromptTemplate\n",
    "from llama_cpp import Llama"
   ]
  },
  {
   "cell_type": "code",
   "execution_count": 3,
   "metadata": {},
   "outputs": [],
   "source": [
    "from langchain_community.llms import LlamaCpp\n",
    "from langchain_core.callbacks import CallbackManager, StreamingStdOutCallbackHandler, BaseCallbackHandler\n",
    "from langchain_core.outputs import LLMResult"
   ]
  },
  {
   "cell_type": "code",
   "execution_count": 4,
   "metadata": {},
   "outputs": [],
   "source": [
    "from ssec_tutorials import OLMO_MODEL"
   ]
  },
  {
   "cell_type": "code",
   "execution_count": 5,
   "metadata": {
    "scrolled": true
   },
   "outputs": [],
   "source": [
    "olmo = LlamaCpp(\n",
    "    model_path=str(OLMO_MODEL),\n",
    "    callbacks=[StreamingStdOutCallbackHandler()],\n",
    "    temperature=0.8,\n",
    "    verbose=False,  \n",
    "    n_ctx=2048,\n",
    "    max_tokens=512,\n",
    ")"
   ]
  },
  {
   "cell_type": "code",
   "execution_count": 6,
   "metadata": {},
   "outputs": [],
   "source": [
    "# Create a prompt template using OLMo's tokenizer chat template we saw in module 1.\n",
    "prompt_template = PromptTemplate.from_template(\n",
    "    template=olmo.client.metadata['tokenizer.chat_template'], \n",
    "    template_format=\"jinja2\",\n",
    "    partial_variables={\"add_generation_prompt\": True, \"eos_token\": \"<|endoftext|>\"},\n",
    ")"
   ]
  },
  {
   "cell_type": "code",
   "execution_count": 7,
   "metadata": {
    "scrolled": true
   },
   "outputs": [],
   "source": [
    "# Test the prompt you want to send to OLMo.\n",
    "question = \"What is dark matter?\"\n",
    "\n",
    "full_prompt_text = prompt_template.format(\n",
    "    messages=[\n",
    "        {\n",
    "            \"role\": \"user\", \n",
    "            \"content\": textwrap.dedent(f\"\"\"\\\n",
    "            You are an astrophysics expert. Please answer the following question on astrophysics. \n",
    "            Question: {question}\"\"\")\n",
    "        }\n",
    "    ]\n",
    ")"
   ]
  },
  {
   "cell_type": "code",
   "execution_count": 8,
   "metadata": {},
   "outputs": [
    {
     "name": "stdout",
     "output_type": "stream",
     "text": [
      "<|endoftext|>\n",
      "\n",
      "<|user|>\n",
      "You are an astrophysics expert. Please answer the following question on astrophysics. \n",
      "Question: What is dark matter?\n",
      "\n",
      "\n",
      "<|assistant|>\n",
      "\n",
      "\n"
     ]
    }
   ],
   "source": [
    "print(full_prompt_text)"
   ]
  },
  {
   "cell_type": "code",
   "execution_count": 9,
   "metadata": {},
   "outputs": [],
   "source": [
    "# Chain the prompt template and olmo\n",
    "llm_chain = prompt_template | olmo"
   ]
  },
  {
   "cell_type": "code",
   "execution_count": 10,
   "metadata": {},
   "outputs": [
    {
     "name": "stdout",
     "output_type": "stream",
     "text": [
      "Dark matter is a theoretical entity that exists in our universe, despite not being able to be directly observed or detected through the traditional methods of physics and astronomy. Instead, its existence relies on its effects and interactions with other forms of matter. The term \"dark\" refers to this invisible substance, as it does not emit, reflect, or absorb any electromagnetic radiation, making it undetectable using visible light or other forms of optical technology.\n",
      "\n",
      "The main property that distinguishes dark matter from other forms of matter is its low density and mass compared to the visible matter in our universe. Based on astronomical observations, it comprises approximately 85% of all matter in the cosmos, while visible stars, gas, and dust only account for around 5%. This excess dark matter content provides the necessary gravitational pull that holds galaxies together, maintains large-scale structure, and determines how clusters of galaxies are formed and evolve over time.\n",
      "\n",
      "Scientists believe dark matter is made up of yet-to-be-discovered particles called weak-interaction masses (WIMPs) or other undiscovered types of elementary particles. The term \"weak\" refers to the fact that WIMPs do not interact through strong nuclear forces, which are responsible for holding atomic nuclei together in atoms. Instead, they might interact only weakly with photons and ordinary matter via the weak force. These dark matter particles could be stable or semi-stable, thus making them virtually undetectable so far by direct searches.\n",
      "\n",
      "In summary, while we cannot directly observe dark matter through optical means, its existence is supported by large-scale astronomical observations that reveal a discrepancy between the amount of visible and dark matter in the universe. It plays an essential role in shaping our cosmic landscape by providing the necessary gravitational pull to hold galaxies together and maintain large-scale structure."
     ]
    }
   ],
   "source": [
    "# Invoke the chain with a question and other parameters. \n",
    "question = \"What is dark matter?\"\n",
    "\n",
    "captured_answer = llm_chain.invoke(\n",
    "    {\n",
    "        \"messages\":\n",
    "        [\n",
    "            {\n",
    "                \"role\": \"user\", \n",
    "                \"content\": textwrap.dedent(f\"\"\"\\\n",
    "                You are an astrophysics expert. Please answer the following question on astrophysics. \n",
    "                Question: {question}\"\"\")\n",
    "            }\n",
    "        ]\n",
    "    }\n",
    ")"
   ]
  },
  {
   "cell_type": "code",
   "execution_count": 11,
   "metadata": {},
   "outputs": [],
   "source": [
    "questions = [\n",
    "    \"What is dark matter?\",\n",
    "    \"How many dimensions are there in the elemental abundances of stars?\",\n",
    "    # \"What\tis the\tevidence for cosmological parity violation?\",\n",
    "    # \"What observations show evidence for dark matter?\",\n",
    "    # \"What are the most popular theories for what dark matter might be made of?\",\n",
    "    # \"Does dark matter need to be a particle?\",\n",
    "    # \"What is the expected mass of dark matter?\",\n",
    "    # \"What experiments are currently ongoing and searching for dark matter?\",\n",
    "    # \"How do the above experiments work?\",\n",
    "    # \"What type of dark matter would the LHC be able to detect?\",\n",
    "    # \"Can you modify gravity to explain dark matter? If so how?\",\n",
    "    # \"How do astronomers detect the presence of planets around nearby stars?\",\n",
    "    # \"What is an eclipsing binary star?\",\n",
    "    # \"Can you describe a taxonomy for different classes of variable stars?\",\n",
    "    # \"What would the light curve of a tidal disruption event look like? How would it be different from a super nova?\",\n",
    "    # \"How do supernova explode?\",\n",
    "    # \"How is a Type II SN different from a Type 1a?\"\n",
    "]"
   ]
  },
  {
   "cell_type": "code",
   "execution_count": 12,
   "metadata": {},
   "outputs": [],
   "source": [
    "def ask_question(question):\n",
    "    print(f\"\\n\\n------------------------------------------\\nQuestion: {question}\")\n",
    "    messages = [\n",
    "        {\n",
    "            \"role\": \"user\", \n",
    "            \"content\": textwrap.dedent(f\"\"\"\\\n",
    "            You are an astrophysics expert. Please answer the following question on astrophysics. \n",
    "            Question: {question}\"\"\")\n",
    "        }\n",
    "    ]\n",
    "    return llm_chain.invoke(\n",
    "        {\n",
    "            \"messages\": messages, \n",
    "        }\n",
    "    )"
   ]
  },
  {
   "cell_type": "code",
   "execution_count": 13,
   "metadata": {},
   "outputs": [
    {
     "name": "stdout",
     "output_type": "stream",
     "text": [
      "\n",
      "\n",
      "------------------------------------------\n",
      "Question: What is dark matter?\n",
      " Dark Matter is a theoretical particle or collection of particles that is present in galaxies, along with ordinary baryonic matter such as stars, gas, and dust. It was first introduced to help explain the motion and overall appearance of galaxies without including luminous (emissive) matter like stars and gas. The term \"dark\" refers not to its color but rather its lack of emission or emission of only invisible radiation such as gravitational or kinetic, making it undetectable through traditional methods like observing photons or emitting light. \n",
      "\n",
      "The term \"dark\" in the context of dark matter is a bit misleading, as there is no direct evidence for this hypothetical particle; instead, its existence is inferred from various observational results that can't be explained by ordinary baryonic matter alone. Dark Matter is believed to make up about 85% of all the matter in the observable universe, and it's thought to affect the structure and motion of galaxies due to its gravitational pull on invisible luminous matter such as stars, gas, and dust.\n",
      "\n",
      "In summary, dark matter is a theoretical particle or collection of particles that has not been directly observed, but it helps explain various observations about the structure and behavior of galaxies by providing an explanation for the missing mass needed to balance out the visible matter we can see with our eyes.\n",
      "\n",
      "------------------------------------------\n",
      "Question: How many dimensions are there in the elemental abundances of stars?\n",
      " I'm happy to help you with your question about astrophysics! However, I would need more context or information about the specific context or body of knowledge you're referring to. In general, astrophysics studies the physical properties and behavior of astronomical objects like stars, planets, galaxies, etc., taking into account the principles of physics that govern their behavior at a cosmic scale.\n",
      "\n",
      "\n",
      "That being said, it's unlikely that the elemental abundances (the proportions by weight or number of different elements present in stars) have more than three spatial dimensions and one temporal dimension. The elemental abundances are determined through the analysis of the light emitted or absorbed by a star, taking into account the relative abundance of each element as measured relative to hydrogen. This information allows astrophysicists to infer details about the star's composition and properties such as its temperature, size, age, and evolutionary stage.\n",
      "\n",
      "It's essential to note that this answer assumes that you are asking specifically about elemental abundances in stars. However, if your question is more broadly focused on the number of dimensions present when studying astrophysical systems in general, I can provide a different response:\n",
      "\n",
      "- In the context of star formation, dust grains play an essential role in the early stages of stellar evolution by trapping light and providing a medium for the growth of solid particles.\n",
      "- In the case of binary or multiple star systems, the mutual gravitational interactions between stars result in complex behavior and often require three spatial dimensions to fully understand their dynamics.\n",
      "- Regarding the study of the interiors of stars and the resulting properties like their radii, masses, and densities, as well as other relevant quantities, three spatial dimensions are necessary due to the compact nature of stars' internal structure.\n",
      "- When considering stellar explosions called supernovae, which release energy equivalent to millions or billions times that of the Sun, four spatial dimensions (including time) would be required to fully understand their dynamics and the production of elements heavier than iron.\n",
      "- Finally, when investigating the formation and evolution of galaxies, six spatial dimensions may become relevant due to the presence of multiple stars within each galaxy.\n",
      "\n",
      "In summary, while elemental abundances in stars typically have only three spatial dimensions, other aspects of astrophysics require additional dimensions in certain cases."
     ]
    }
   ],
   "source": [
    "for question in questions:\n",
    "    ask_question(question)"
   ]
  },
  {
   "cell_type": "markdown",
   "metadata": {},
   "source": [
    "`Try OLMo with your own domain-specific question from the list of questions above.`"
   ]
  },
  {
   "cell_type": "code",
   "execution_count": 1,
   "metadata": {},
   "outputs": [],
   "source": [
    "# question = \"<Add your own domain specific question here.>\"\n",
    "\n",
    "# captured_answer = ask_question(question)"
   ]
  },
  {
   "cell_type": "code",
   "execution_count": 15,
   "metadata": {},
   "outputs": [
    {
     "name": "stdout",
     "output_type": "stream",
     "text": [
      "\n",
      "\n",
      "------------------------------------------\n",
      "Question: How can I perform celestial coordinate transformations?\n",
      " I'm happy to help you with your question about celestial coordinate transformations in astrophysics! Celestial coordinates, also known as astronomical coordinates or Hadean coordinates, are used to describe the positions and motions of celestial bodies relative to Earth. These coordinates include right ascension, declination, and radial velocity (if applicable).\n",
      "\n",
      "To perform these transformations, you'll need mathematical tools like trigonometry, spherical geometry, and calculus. These concepts help to derive equations that convert one set of celestial coordinates into another. Here's a brief overview of the process:\n",
      "\n",
      "1. Right Ascension (RA): The right ascension is expressed in hours since the beginning of the present epoch, typically referred to as J2000.0. The conversion from RA to longitude depends on the specific location and Earth rotation angle. This involves using various formulas that account for Earth's rotational motion.\n",
      "\n",
      "2. Declination (Dec): Dec is the celestial body's latitude with respect to Earth's equatorial plane. It ranges between -90°(south declination) and +90°(north declination). To transform from RA to Dec, you'll need a reference meridian that helps estimate this transformation.\n",
      "\n",
      "3. Radial Velocity (RV): The radial velocity refers to the celestial body's motion along the line of sight. It can help us understand the speed at which a star is moving relative to Earth. If available, RV values should be converted from meters per second to kilometers per second or any other units that are easily comparable in astrophysics research.\n",
      "\n",
      "4. Conversion: To move between RA and Dec coordinates or convert between different sets of celestial coordinates, you'll need equations derived using trigonometry and spherical geometry concepts. These relationships will help you make the necessary transformations as needed for your specific application in astrophysics.\n",
      "\n",
      "5. Verification: Once you have made the desired transformation, verify that it accurately represents the celestial object's position or motion. You may utilize computational tools or data from astronomical catalogs like NASA Exoplanet Archive to cross-check and validate the results.\n",
      "\n",
      "Keep in mind that these transformations are complex and require a solid foundation in mathematical concepts related to spherical geometry, calculus, and trigonometry, as well as a thorough understanding of astrophysics. It is recommended to consult relevant literature or consult with astrophysicists for further guidance on specific celestial coordinate transformations needed for your research.\n",
      "\n",
      "I hope this helps! Let me know if you"
     ]
    }
   ],
   "source": [
    "question = \"How can I perform celestial coordinate transformations?\"\n",
    "\n",
    "captured_answer = ask_question(question)"
   ]
  }
 ],
 "metadata": {
  "kernelspec": {
   "display_name": "Python 3 (ipykernel)",
   "language": "python",
   "name": "python3"
  },
  "language_info": {
   "codemirror_mode": {
    "name": "ipython",
    "version": 3
   },
   "file_extension": ".py",
   "mimetype": "text/x-python",
   "name": "python",
   "nbconvert_exporter": "python",
   "pygments_lexer": "ipython3",
   "version": "3.11.9"
  }
 },
 "nbformat": 4,
 "nbformat_minor": 4
}
