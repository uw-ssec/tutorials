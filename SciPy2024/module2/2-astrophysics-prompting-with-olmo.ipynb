{
 "cells": [
  {
   "cell_type": "markdown",
   "metadata": {},
   "source": [
    "# Astrophysics Prompting with OLMo"
   ]
  },
  {
   "cell_type": "markdown",
   "metadata": {},
   "source": [
    "We collected a set of questions from an astronomer:\n",
    "* What is dark matter?\n",
    "* How many dimensions are there in the elemental abundances of stars?\n",
    "* What is the evidence for cosmological\tparity violation?\n",
    "* What observations show evidence for dark matter?\n",
    "* What are the most popular theories for what dark matter might be made of?\n",
    "* Does dark matter need to be a particle?\n",
    "* What is the expected mass of dark matter?\n",
    "* What experiments are currently ongoing and searching for dark matter?\n",
    "* How do the above experiments work?\n",
    "* What type of dark matter would the LHC be able to detect?\n",
    "* Can you modify gravity to explain dark matter? If so how?\n",
    "* How do astronomers detect the presence of planets around nearby stars?\n",
    "* What is an eclipsing binary star?\n",
    "* Can you describe a taxonomy for different classes of variable stars?\n",
    "* What would the light curve of a tidal disruption event look like? How would it be different from a supernova?\n",
    "* How do supernova explode?\n",
    "* How is a Type II SN different from a Type 1a?\n",
    "\n",
    "\n",
    "Let's analyze how OLMo does without any additional context. "
   ]
  },
  {
   "cell_type": "code",
   "execution_count": 1,
   "metadata": {},
   "outputs": [],
   "source": [
    "import langchain\n",
    "import textwrap"
   ]
  },
  {
   "cell_type": "code",
   "execution_count": 2,
   "metadata": {},
   "outputs": [],
   "source": [
    "from langchain import PromptTemplate\n",
    "from llama_cpp import Llama"
   ]
  },
  {
   "cell_type": "code",
   "execution_count": 3,
   "metadata": {},
   "outputs": [],
   "source": [
    "from langchain_community.llms import LlamaCpp\n",
    "from langchain_core.callbacks import (\n",
    "    CallbackManager,\n",
    "    StreamingStdOutCallbackHandler,\n",
    "    BaseCallbackHandler,\n",
    ")\n",
    "from langchain_core.outputs import LLMResult"
   ]
  },
  {
   "cell_type": "code",
   "execution_count": 4,
   "metadata": {},
   "outputs": [],
   "source": [
    "from ssec_tutorials import OLMO_MODEL"
   ]
  },
  {
   "cell_type": "code",
   "execution_count": 5,
   "metadata": {},
   "outputs": [],
   "source": [
    "olmo = LlamaCpp(\n",
    "    model_path=str(OLMO_MODEL),\n",
    "    callbacks=[StreamingStdOutCallbackHandler()],\n",
    "    temperature=0.8,\n",
    "    verbose=False,\n",
    "    n_ctx=2048,\n",
    "    max_tokens=512,\n",
    ")"
   ]
  },
  {
   "cell_type": "code",
   "execution_count": 6,
   "metadata": {},
   "outputs": [],
   "source": [
    "# Create a prompt template using OLMo's tokenizer chat template we saw in module 1.\n",
    "prompt_template = PromptTemplate.from_template(\n",
    "    template=olmo.client.metadata[\"tokenizer.chat_template\"],\n",
    "    template_format=\"jinja2\",\n",
    "    partial_variables={\"add_generation_prompt\": True, \"eos_token\": \"<|endoftext|>\"},\n",
    ")"
   ]
  },
  {
   "cell_type": "code",
   "execution_count": 7,
   "metadata": {},
   "outputs": [],
   "source": [
    "# Test the prompt you want to send to OLMo.\n",
    "question = \"What is dark matter?\"\n",
    "\n",
    "full_prompt_text = prompt_template.format(\n",
    "    messages=[\n",
    "        {\n",
    "            \"role\": \"user\",\n",
    "            \"content\": textwrap.dedent(\n",
    "                f\"\"\"\\\n",
    "            You are an astrophysics expert. Please answer the following question on astrophysics. \n",
    "            Question: {question}\"\"\"\n",
    "            ),\n",
    "        }\n",
    "    ]\n",
    ")"
   ]
  },
  {
   "cell_type": "code",
   "execution_count": 8,
   "metadata": {},
   "outputs": [
    {
     "name": "stdout",
     "output_type": "stream",
     "text": [
      "<|endoftext|>\n",
      "\n",
      "<|user|>\n",
      "You are an astrophysics expert. Please answer the following question on astrophysics. \n",
      "Question: What is dark matter?\n",
      "\n",
      "\n",
      "<|assistant|>\n",
      "\n",
      "\n"
     ]
    }
   ],
   "source": [
    "print(full_prompt_text)"
   ]
  },
  {
   "cell_type": "code",
   "execution_count": 9,
   "metadata": {},
   "outputs": [],
   "source": [
    "# Chain the prompt template and olmo\n",
    "llm_chain = prompt_template | olmo"
   ]
  },
  {
   "cell_type": "code",
   "execution_count": 10,
   "metadata": {},
   "outputs": [
    {
     "name": "stdout",
     "output_type": "stream",
     "text": [
      " Dark Matter is a theoretical particle or collection of particles that exists in the universe, but it hasn't been directly observed yet. In fact, we cannot see it with eyes or any known instrument, despite its enormous presence. Instead, scientists infer the existence and properties of dark matter based on its gravitational effects that are observed throughout the cosmos. The name \"dark\" refers to its invisible nature; however, it doesn't mean \"unknown.\"\n",
      "\n",
      "Dark Matter plays a crucial role in our universe's structure and evolution. It makes up around 85% of the overall matter in the Milky Way (or any galaxy) and approximately 27% of the universe's total mass-energy density. Despite being invisible to us, scientists believe that dark matter has significantly affected various astronomical phenomena such as the motions and shapes of galaxies, galaxy clusters, the solar system, and even our own sun.\n",
      "\n",
      "Scientists consider three primary candidates for dark matter: Weakly Interacting Massive Particles (WIMPs), Axion-like Particles (ALPs), or Self-Interacting Dark Matter (SIDM). Each has unique properties that could help explain why dark matter exists in the universe. Some of these theories suggest that WIMPs interact only through gravity, while others imply an additional electromagnetic interaction. ALPs, on the other hand, can change their own masses and could have a connection with the mysterious nature of dark matter's rotation curves (the velocity of celestial bodies decreases as one goes further into their interior). SIDM is a more recent concept that introduces self-interaction forces between dark matter particles – this allows for smaller-scale effects and potentially observable consequences.\n",
      "\n",
      "The reason dark matter remains unobserved is due to its low energy density compared to that of regular (baryonic) matter, as well as its tendency to interact only through gravity; this makes it exceptionally difficult to detect directly. Scientists continue to explore potential ways to detect or characterize this mysterious substance through various experimental and theoretical approaches."
     ]
    }
   ],
   "source": [
    "# Invoke the chain with a question and other parameters.\n",
    "question = \"What is dark matter?\"\n",
    "\n",
    "captured_answer = llm_chain.invoke(\n",
    "    {\n",
    "        \"messages\": [\n",
    "            {\n",
    "                \"role\": \"user\",\n",
    "                \"content\": textwrap.dedent(\n",
    "                    f\"\"\"\\\n",
    "                You are an astrophysics expert. Please answer the following question on astrophysics. \n",
    "                Question: {question}\"\"\"\n",
    "                ),\n",
    "            }\n",
    "        ]\n",
    "    }\n",
    ")"
   ]
  },
  {
   "cell_type": "code",
   "execution_count": 11,
   "metadata": {},
   "outputs": [],
   "source": [
    "questions = [\n",
    "    \"What is dark matter?\",\n",
    "    \"How many dimensions are there in the elemental abundances of stars?\",\n",
    "    # \"What\tis the\tevidence for cosmological parity violation?\",\n",
    "    # \"What observations show evidence for dark matter?\",\n",
    "    # \"What are the most popular theories for what dark matter might be made of?\",\n",
    "    # \"Does dark matter need to be a particle?\",\n",
    "    # \"What is the expected mass of dark matter?\",\n",
    "    # \"What experiments are currently ongoing and searching for dark matter?\",\n",
    "    # \"How do the above experiments work?\",\n",
    "    # \"What type of dark matter would the LHC be able to detect?\",\n",
    "    # \"Can you modify gravity to explain dark matter? If so how?\",\n",
    "    # \"How do astronomers detect the presence of planets around nearby stars?\",\n",
    "    # \"What is an eclipsing binary star?\",\n",
    "    # \"Can you describe a taxonomy for different classes of variable stars?\",\n",
    "    # \"What would the light curve of a tidal disruption event look like? How would it be different from a super nova?\",\n",
    "    # \"How do supernova explode?\",\n",
    "    # \"How is a Type II SN different from a Type 1a?\"\n",
    "]"
   ]
  },
  {
   "cell_type": "code",
   "execution_count": 12,
   "metadata": {},
   "outputs": [],
   "source": [
    "def ask_question(question):\n",
    "    print(f\"\\n\\n------------------------------------------\\nQuestion: {question}\")\n",
    "    messages = [\n",
    "        {\n",
    "            \"role\": \"user\",\n",
    "            \"content\": textwrap.dedent(\n",
    "                f\"\"\"\\\n",
    "            You are an astrophysics expert. Please answer the following question on astrophysics. \n",
    "            Question: {question}\"\"\"\n",
    "            ),\n",
    "        }\n",
    "    ]\n",
    "    return llm_chain.invoke(\n",
    "        {\n",
    "            \"messages\": messages,\n",
    "        }\n",
    "    )"
   ]
  },
  {
   "cell_type": "code",
   "execution_count": 13,
   "metadata": {},
   "outputs": [
    {
     "name": "stdout",
     "output_type": "stream",
     "text": [
      "\n",
      "\n",
      "------------------------------------------\n",
      "Question: What is dark matter?\n",
      " Dark matter is a theoretical framework that explains certain observations in the universe, which cannot be explained by the known visible matter. In order to understand what dark matter is, let's first look at how we know the universe exists and its composition.\n",
      "\n",
      "1. Observations: The Big Bang theory suggests that the universe originated from an incredibly hot and dense state 13.8 billion years ago. Over time, this hot, dense initial condition has cooled and expanded to form galaxies, stars, planets, and other celestial bodies we see today. The universe is continually expanding, with its rate of expansion increasing over time (known as cosmic expansion). This expansion is known as the cosmological redshift.\n",
      "\n",
      "Observations of our universe reveal that it is not only vast but also homogeneously distributed: the light from distant galaxies reaches us in a smooth way across the sky, and their distances are consistent with each other. Our observations show that approximately 85% of the total matter content of the universe can be explained by what we see - ordinary matter (bodies we can see through our eyes): stars, planets, etc. The remaining 15% is referred to as dark matter, as it does not appear to interact with light or radiation and is only inferred from its gravitational effects on visible matter.\n",
      "\n",
      "2. Dark matter: While the visible matter in the universe seems homogeneously distributed, its distribution does not match that of dark matter. Observations show that dark matter's distribution is more clumpy than that of visible matter. For instance, measurements of rotation curves of galaxies suggest there are a lot more mass within galaxies than can be accounted for by the stars and gas they contain. Moreover, it is difficult to explain the motions of galaxies in the universe without the presence of dark matter.\n",
      "\n",
      "Dark matter has no electromagnetic properties such as those associated with light or radiation. It does not emit, absorb or reflect any specific type of light. This makes it challenging to directly observe dark matter using electromagnetic radiation. Instead, observations are made based on its gravitational effects through interactions with visible matter.\n",
      "\n",
      "So far, the best way to confirm that there is a significant amount of dark matter in our universe is from its gravitational effects on ordinary (visible) matter and cosmic expansion data. The existence of dark matter is supported by various pieces of evidence obtained from astronomical observations, laboratory experiments, and theoretical predictions.\n",
      "\n",
      "------------------------------------------\n",
      "Question: How many dimensions are there in the elemental abundances of stars?\n",
      "I'm not a astrophysics expert in the literal sense, but I can help you understand the question and its context within astrophysics. The given question asks about the number of dimensions present in the elemental abundances of stars, which refers to the relative amounts of different elements found within a star's composition. To provide an answer, we'll need to consider the structure and composition of stars.\n",
      "\n",
      "\n",
      "Stars are formed from gaseous clouds called nebula, composed primarily of hydrogen (approximately 75% by number). When these hydrogen gases undergo nuclear fusion in their core (the protostar phase), they release energy, leading to a series of events that ultimately lead to an energetic star. The elemental composition of a star primarily consists of hydrogen and helium.\n",
      "\n",
      "The elemental abundances refer to the relative amounts present in the stellar matter compared to other elements. These relative amounts are quantified using atomic percentage or weight percentage. Atomic percentage refers to the number of atoms of each element, while weight percentage measures the mass of an element as a fraction of the total mass (assuming one atom weighs 1 gram).\n",
      "\n",
      "As stars undergo their life cycles and undergo nuclear fusion reactions in their cores, they eventually reach the white dwarf stage, where their composition becomes primarily composed of elements such as oxygen, silicon, and iron. However, the initial elemental abundances we mentioned earlier are still present in a star's composition, even during its formation.\n",
      "\n",
      "In summary, there are a fixed number of dimensions in the elemental abundances of stars, which is three - (atomic, weight atomic, or weight percentage) - since all elements have unique atomic numbers and weights, with hydrogen (H) and helium (He) being the most abundant ones found within a star's composition."
     ]
    }
   ],
   "source": [
    "for question in questions:\n",
    "    ask_question(question)"
   ]
  },
  {
   "cell_type": "markdown",
   "metadata": {},
   "source": [
    "`Try OLMo with your own domain-specific question from the list of questions above.`"
   ]
  },
  {
   "cell_type": "code",
   "execution_count": 14,
   "metadata": {},
   "outputs": [],
   "source": [
    "# question = \"<Add your own domain specific question here.>\"\n",
    "\n",
    "# captured_answer = ask_question(question)"
   ]
  },
  {
   "cell_type": "code",
   "execution_count": 15,
   "metadata": {},
   "outputs": [
    {
     "name": "stdout",
     "output_type": "stream",
     "text": [
      "\n",
      "\n",
      "------------------------------------------\n",
      "Question: How can I perform celestial coordinate transformations?\n",
      " Certain astronomical data, such as positions and motions of stars and celestial bodies, are described using coordinates that map the sky onto a three-dimensional Cartesian system. These transformations allow us to compare the locations of various objects across time or across the sky. \n",
      "\n",
      "There are two fundamental coordinate systems in astronomy:\n",
      "1. Equatorial Coordinates (ET): This system is used to describe celestial positions above the Earth's equator, including right ascension and declination.\n",
      "2. Galactocentric Coordinates (GC): These coordinates cover the motion of objects within our galaxy, the Milky Way, around its central region or galactic center.\n",
      "\n",
      "To transform between these two coordinate systems, you'll need to use celestial coordinate transformations. Let's explore how to perform these transformations in more detail.\n",
      "\n",
      "1. Right Ascension (RA) and Declination (Dec):\n",
      "\n",
      "   a. Equatorial Coordinates:\n",
      "\n",
      "      Right Ascension (RA) is the angular distance from 0 degrees at the vernal equinox to the position of an celestial object on the celestial sphere, measured eastward along the celestial equator in hours.\n",
      "      Declination (Dec) is the angle between a celestial body's long axis and Earth's equatorial plane in degrees.\n",
      "\n",
      "   b. Transform from Right Ascension (RA):\n",
      "\n",
      "      First, convert the RA value to Hour Angle (HA) by adding 12 hours for every degree of RA:\n",
      "\n",
      "      Hour Angle = RA - 24 * 60 * 60\n",
      "      \n",
      "      Then, use the equation HA = RA + UT + UD where UT is Universal Time and UD is Galactic Time:\n",
      "        \n",
      "      UT = UT + R + L\n",
      "        \n",
      "      Where R is a factor to convert RA from hours to minutes.\n",
      "\n",
      "      The factor \"R\" is the sum of two numbers, A and B, multiplied by 1/60 and raised to the power of -1/360. For example, for an object with RA = 18h, UT = 00:00, L = +15° (Delta):\n",
      "        \n",
      "        UT = 12 * 60 * 60 + 840 * 60 + 400 * 5\n",
      "       = 23 * 3600000 + 20 * 840000 + 10 * 5000\n",
      "       = 1792 * 86400000\n",
      "       = 23 * 3600000000\n",
      "\n",
      "       Then, convert RA from minutes to hours by dividing HA by 15.\n",
      "\n",
      "      The resulting UT in hours can be used for further"
     ]
    }
   ],
   "source": [
    "question = \"How can I perform celestial coordinate transformations?\"\n",
    "\n",
    "captured_answer = ask_question(question)"
   ]
  }
 ],
 "metadata": {
  "kernelspec": {
   "display_name": "Python 3 (ipykernel)",
   "language": "python",
   "name": "python3"
  },
  "language_info": {
   "codemirror_mode": {
    "name": "ipython",
    "version": 3
   },
   "file_extension": ".py",
   "mimetype": "text/x-python",
   "name": "python",
   "nbconvert_exporter": "python",
   "pygments_lexer": "ipython3",
   "version": "3.11.9"
  }
 },
 "nbformat": 4,
 "nbformat_minor": 4
}
