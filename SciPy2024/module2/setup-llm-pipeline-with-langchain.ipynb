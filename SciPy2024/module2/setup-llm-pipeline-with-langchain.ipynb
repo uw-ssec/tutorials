{
 "cells": [
  {
   "cell_type": "markdown",
   "id": "3a805e97",
   "metadata": {},
   "source": [
    "# Setup LLM pipeline with LangChain"
   ]
  },
  {
   "cell_type": "code",
   "execution_count": 4,
   "id": "f014c505-1bfe-46f7-9fa5-bc9b404db383",
   "metadata": {},
   "outputs": [],
   "source": [
    "from langchain_community.llms import LlamaCpp\n",
    "from langchain_core.callbacks import CallbackManager, StreamingStdOutCallbackHandler\n",
    "from langchain_core.prompts import PromptTemplate"
   ]
  },
  {
   "cell_type": "code",
   "execution_count": 10,
   "id": "3d6e7bf2-afb7-4ca0-b497-a233d65d5835",
   "metadata": {},
   "outputs": [],
   "source": [
    "template = \"\"\"You are an expert in physics and astronomy.\n",
    "\n",
    "Question: {question}\n",
    "\n",
    "Answer: Let's work this out in a step by step way to be sure we have the right answer.\"\"\"\n",
    "\n",
    "prompt = PromptTemplate.from_template(template)"
   ]
  },
  {
   "cell_type": "code",
   "execution_count": 11,
   "id": "ca10d06e-12d5-4ab9-8d9f-d5dfb62138fe",
   "metadata": {},
   "outputs": [],
   "source": [
    "# Callbacks support token-wise streaming\n",
    "callback_manager = CallbackManager([StreamingStdOutCallbackHandler()])"
   ]
  },
  {
   "cell_type": "code",
   "execution_count": 12,
   "id": "3e4950e9-d72a-410a-8d98-afa91dccf31e",
   "metadata": {},
   "outputs": [
    {
     "name": "stderr",
     "output_type": "stream",
     "text": [
      "llama_model_loader: loaded meta data with 21 key-value pairs and 226 tensors from ../../resources/models/OLMo-7B-Instruct-GGUF/OLMo-7B-Instruct-Q4_K_M.gguf (version GGUF V3 (latest))\n",
      "llama_model_loader: Dumping metadata keys/values. Note: KV overrides do not apply in this output.\n",
      "llama_model_loader: - kv   0:                       general.architecture str              = olmo\n",
      "llama_model_loader: - kv   1:                               general.name str              = OLMo-7B-Instruct-hf\n",
      "llama_model_loader: - kv   2:                           olmo.block_count u32              = 32\n",
      "llama_model_loader: - kv   3:                        olmo.context_length u32              = 2048\n",
      "llama_model_loader: - kv   4:                      olmo.embedding_length u32              = 4096\n",
      "llama_model_loader: - kv   5:                   olmo.feed_forward_length u32              = 11008\n",
      "llama_model_loader: - kv   6:                  olmo.attention.head_count u32              = 32\n",
      "llama_model_loader: - kv   7:               olmo.attention.head_count_kv u32              = 32\n",
      "llama_model_loader: - kv   8:                        olmo.rope.freq_base f32              = 10000.000000\n",
      "llama_model_loader: - kv   9:                          general.file_type u32              = 15\n",
      "llama_model_loader: - kv  10:          olmo.attention.layer_norm_epsilon f32              = 0.000010\n",
      "llama_model_loader: - kv  11:                       tokenizer.ggml.model str              = gpt2\n",
      "llama_model_loader: - kv  12:                         tokenizer.ggml.pre str              = mpt\n",
      "llama_model_loader: - kv  13:                      tokenizer.ggml.tokens arr[str,50304]   = [\"|||IP_ADDRESS|||\", \"<|padding|>\", \"...\n",
      "llama_model_loader: - kv  14:                  tokenizer.ggml.token_type arr[i32,50304]   = [4, 3, 1, 1, 1, 1, 1, 1, 1, 1, 1, 1, ...\n",
      "llama_model_loader: - kv  15:                      tokenizer.ggml.merges arr[str,50009]   = [\"Ġ Ġ\", \"Ġ t\", \"Ġ a\", \"h e\", \"i n...\n",
      "llama_model_loader: - kv  16:                tokenizer.ggml.eos_token_id u32              = 50279\n",
      "llama_model_loader: - kv  17:            tokenizer.ggml.padding_token_id u32              = 1\n",
      "llama_model_loader: - kv  18:               tokenizer.ggml.add_bos_token bool             = false\n",
      "llama_model_loader: - kv  19:               tokenizer.ggml.add_eos_token bool             = false\n",
      "llama_model_loader: - kv  20:               general.quantization_version u32              = 2\n",
      "llama_model_loader: - type q4_K:  193 tensors\n",
      "llama_model_loader: - type q6_K:   33 tensors\n",
      "llm_load_vocab: mismatch in special tokens definition ( 31/50304 vs 52/50304 ).\n",
      "llm_load_print_meta: format           = GGUF V3 (latest)\n",
      "llm_load_print_meta: arch             = olmo\n",
      "llm_load_print_meta: vocab type       = BPE\n",
      "llm_load_print_meta: n_vocab          = 50304\n",
      "llm_load_print_meta: n_merges         = 50009\n",
      "llm_load_print_meta: n_ctx_train      = 2048\n",
      "llm_load_print_meta: n_embd           = 4096\n",
      "llm_load_print_meta: n_head           = 32\n",
      "llm_load_print_meta: n_head_kv        = 32\n",
      "llm_load_print_meta: n_layer          = 32\n",
      "llm_load_print_meta: n_rot            = 128\n",
      "llm_load_print_meta: n_embd_head_k    = 128\n",
      "llm_load_print_meta: n_embd_head_v    = 128\n",
      "llm_load_print_meta: n_gqa            = 1\n",
      "llm_load_print_meta: n_embd_k_gqa     = 4096\n",
      "llm_load_print_meta: n_embd_v_gqa     = 4096\n",
      "llm_load_print_meta: f_norm_eps       = 1.0e-05\n",
      "llm_load_print_meta: f_norm_rms_eps   = 0.0e+00\n",
      "llm_load_print_meta: f_clamp_kqv      = 0.0e+00\n",
      "llm_load_print_meta: f_max_alibi_bias = 0.0e+00\n",
      "llm_load_print_meta: f_logit_scale    = 0.0e+00\n",
      "llm_load_print_meta: n_ff             = 11008\n",
      "llm_load_print_meta: n_expert         = 0\n",
      "llm_load_print_meta: n_expert_used    = 0\n",
      "llm_load_print_meta: causal attn      = 1\n",
      "llm_load_print_meta: pooling type     = 0\n",
      "llm_load_print_meta: rope type        = 0\n",
      "llm_load_print_meta: rope scaling     = linear\n",
      "llm_load_print_meta: freq_base_train  = 10000.0\n",
      "llm_load_print_meta: freq_scale_train = 1\n",
      "llm_load_print_meta: n_yarn_orig_ctx  = 2048\n",
      "llm_load_print_meta: rope_finetuned   = unknown\n",
      "llm_load_print_meta: ssm_d_conv       = 0\n",
      "llm_load_print_meta: ssm_d_inner      = 0\n",
      "llm_load_print_meta: ssm_d_state      = 0\n",
      "llm_load_print_meta: ssm_dt_rank      = 0\n",
      "llm_load_print_meta: model type       = 7B\n",
      "llm_load_print_meta: model ftype      = Q4_K - Medium\n",
      "llm_load_print_meta: model params     = 6.89 B\n",
      "llm_load_print_meta: model size       = 3.90 GiB (4.86 BPW) \n",
      "llm_load_print_meta: general.name     = OLMo-7B-Instruct-hf\n",
      "llm_load_print_meta: BOS token        = 11 '*'\n",
      "llm_load_print_meta: EOS token        = 50279 '<|endoftext|>'\n",
      "llm_load_print_meta: PAD token        = 1 '<|padding|>'\n",
      "llm_load_print_meta: LF token         = 128 'Ä'\n",
      "llm_load_tensors: ggml ctx size =    0.12 MiB\n",
      "llm_load_tensors: offloading 0 repeating layers to GPU\n",
      "llm_load_tensors: offloaded 0/33 layers to GPU\n",
      "llm_load_tensors:        CPU buffer size =  3989.10 MiB\n",
      "................................................................................................\n",
      "llama_new_context_with_model: n_batch is less than GGML_KQ_MASK_PAD - increasing to 32\n",
      "llama_new_context_with_model: n_ctx      = 512\n",
      "llama_new_context_with_model: n_batch    = 32\n",
      "llama_new_context_with_model: n_ubatch   = 32\n",
      "llama_new_context_with_model: flash_attn = 0\n",
      "llama_new_context_with_model: freq_base  = 10000.0\n",
      "llama_new_context_with_model: freq_scale = 1\n",
      "llama_kv_cache_init:        CPU KV buffer size =   256.00 MiB\n",
      "llama_new_context_with_model: KV self size  =  256.00 MiB, K (f16):  128.00 MiB, V (f16):  128.00 MiB\n",
      "llama_new_context_with_model:        CPU  output buffer size =     0.19 MiB\n",
      "llama_new_context_with_model:        CPU compute buffer size =     7.14 MiB\n",
      "llama_new_context_with_model: graph nodes  = 965\n",
      "llama_new_context_with_model: graph splits = 1\n",
      "AVX = 0 | AVX_VNNI = 0 | AVX2 = 0 | AVX512 = 0 | AVX512_VBMI = 0 | AVX512_VNNI = 0 | FMA = 0 | NEON = 1 | ARM_FMA = 1 | F16C = 0 | FP16_VA = 1 | WASM_SIMD = 0 | BLAS = 1 | SSE3 = 0 | SSSE3 = 0 | VSX = 0 | MATMUL_INT8 = 0 | LLAMAFILE = 1 | \n",
      "Model metadata: {'general.quantization_version': '2', 'tokenizer.ggml.add_eos_token': 'false', 'tokenizer.ggml.add_bos_token': 'false', 'tokenizer.ggml.padding_token_id': '1', 'tokenizer.ggml.pre': 'mpt', 'tokenizer.ggml.model': 'gpt2', 'tokenizer.ggml.eos_token_id': '50279', 'olmo.rope.freq_base': '10000.000000', 'olmo.attention.head_count_kv': '32', 'olmo.embedding_length': '4096', 'general.file_type': '15', 'olmo.attention.head_count': '32', 'olmo.feed_forward_length': '11008', 'olmo.context_length': '2048', 'olmo.block_count': '32', 'general.name': 'OLMo-7B-Instruct-hf', 'olmo.attention.layer_norm_epsilon': '0.000010', 'general.architecture': 'olmo'}\n",
      "Using fallback chat format: None\n"
     ]
    }
   ],
   "source": [
    "# Make sure the model path is correct for your system!\n",
    "llm = LlamaCpp(\n",
    "    model_path=\"../../resources/models/OLMo-7B-Instruct-GGUF/OLMo-7B-Instruct-Q4_K_M.gguf\",\n",
    "    temperature=0.75,\n",
    "    max_tokens=2000,\n",
    "    top_p=1,\n",
    "    callback_manager=callback_manager,\n",
    "    verbose=True,  # Verbose is required to pass to the callback manager\n",
    ")"
   ]
  },
  {
   "cell_type": "code",
   "execution_count": 13,
   "id": "c014a2ba-deb3-4622-b728-f807671dec64",
   "metadata": {},
   "outputs": [
    {
     "name": "stdout",
     "output_type": "stream",
     "text": [
      "  a) A stationary object\n",
      "  b) An ever-moving object\n",
      "  Answer: a) A stationary object. (True)"
     ]
    },
    {
     "name": "stderr",
     "output_type": "stream",
     "text": [
      "\n",
      "llama_print_timings:        load time =    4162.74 ms\n",
      "llama_print_timings:      sample time =       4.24 ms /    29 runs   (    0.15 ms per token,  6836.40 tokens per second)\n",
      "llama_print_timings: prompt eval time =    4162.10 ms /     7 tokens (  594.59 ms per token,     1.68 tokens per second)\n",
      "llama_print_timings:        eval time =    4457.53 ms /    28 runs   (  159.20 ms per token,     6.28 tokens per second)\n",
      "llama_print_timings:       total time =    8743.09 ms /    35 tokens\n"
     ]
    },
    {
     "data": {
      "text/plain": [
       "'  a) A stationary object\\n  b) An ever-moving object\\n  Answer: a) A stationary object. (True)'"
      ]
     },
     "execution_count": 13,
     "metadata": {},
     "output_type": "execute_result"
    }
   ],
   "source": [
    "question = \"\"\"\n",
    "Question: Solar system is\n",
    "\"\"\"\n",
    "llm.invoke(question)"
   ]
  },
  {
   "cell_type": "markdown",
   "id": "8c161115-da0c-4d7f-9ef5-d3162df33309",
   "metadata": {},
   "source": [
    "## References\n",
    "1. https://python.langchain.com/docs/integrations/llms/llamacpp/\n",
    "2. https://github.com/abetlen/llama-cpp-python/blob/main/examples/high_level_api/langchain_custom_llm.py"
   ]
  },
  {
   "cell_type": "markdown",
   "id": "b1737989",
   "metadata": {},
   "source": []
  }
 ],
 "metadata": {
  "kernelspec": {
   "display_name": "Python 3 (ipykernel)",
   "language": "python",
   "name": "python3"
  },
  "language_info": {
   "codemirror_mode": {
    "name": "ipython",
    "version": 3
   },
   "file_extension": ".py",
   "mimetype": "text/x-python",
   "name": "python",
   "nbconvert_exporter": "python",
   "pygments_lexer": "ipython3",
   "version": "3.11.8"
  }
 },
 "nbformat": 4,
 "nbformat_minor": 5
}
