{
 "cells": [
  {
   "cell_type": "markdown",
   "metadata": {},
   "source": [
    "# Astrophysics Prompting with OLMo"
   ]
  },
  {
   "cell_type": "markdown",
   "metadata": {},
   "source": [
    "We collected a set of questions from an astronomer:\n",
    "* What is dark matter?\n",
    "* How many dimensions are there in the elemental abundances of stars?\n",
    "* What is the evidence for cosmological\tparity violation?\n",
    "* What observations show evidence for dark matter?\n",
    "* What are the most popular theories for what dark matter might be made of?\n",
    "* Does dark matter need to be a particle?\n",
    "* What is the expected mass of dark matter?\n",
    "* What experiments are currently ongoing and searching for dark matter?\n",
    "* How do the above experiments work?\n",
    "* What type of dark matter would the LHC be able to detect?\n",
    "* Can you modify gravity to explain dark matter? If so how?\n",
    "* How do astronomers detect the presence of planets around nearby stars?\n",
    "* What is an eclipsing binary star?\n",
    "* Can you describe a taxonomy for different classes of variable stars?\n",
    "* What would the light curve of a tidal disruption event look like? How would it be different from a supernova?\n",
    "* How do supernova explode?\n",
    "* How is a Type II SN different from a Type 1a?\n",
    "\n",
    "\n",
    "Let's analyze how OLMo does without any additional context. "
   ]
  },
  {
   "cell_type": "code",
   "execution_count": 1,
   "metadata": {},
   "outputs": [],
   "source": [
    "import langchain\n",
    "import textwrap"
   ]
  },
  {
   "cell_type": "code",
   "execution_count": 2,
   "metadata": {},
   "outputs": [],
   "source": [
    "from langchain import PromptTemplate\n",
    "from llama_cpp import Llama"
   ]
  },
  {
   "cell_type": "code",
   "execution_count": 3,
   "metadata": {},
   "outputs": [],
   "source": [
    "from langchain_community.llms import LlamaCpp\n",
    "from langchain_core.callbacks import CallbackManager, StreamingStdOutCallbackHandler, BaseCallbackHandler\n",
    "from langchain_core.outputs import LLMResult"
   ]
  },
  {
   "cell_type": "code",
   "execution_count": 4,
   "metadata": {},
   "outputs": [],
   "source": [
    "from ssec_tutorials import OLMO_MODEL"
   ]
  },
  {
   "cell_type": "code",
   "execution_count": 5,
   "metadata": {
    "scrolled": true
   },
   "outputs": [],
   "source": [
    "# Make sure the model path is correct for your system!\n",
    "# TODO: Fix model path to cache folder\n",
    "olmo = LlamaCpp(\n",
    "    model_path=str(OLMO_MODEL),\n",
    "    callbacks=[StreamingStdOutCallbackHandler()],\n",
    "    temperature=0.8,\n",
    "    verbose=False,  \n",
    "    n_ctx=2048,\n",
    "    max_tokens=512,\n",
    ")"
   ]
  },
  {
   "cell_type": "code",
   "execution_count": 6,
   "metadata": {},
   "outputs": [],
   "source": [
    "# Create a prompt template using OLMo's tokenizer chat template we saw in module 1.\n",
    "prompt_template = PromptTemplate.from_template(\n",
    "    template=olmo.client.metadata['tokenizer.chat_template'], \n",
    "    template_format=\"jinja2\",\n",
    "    partial_variables={\"add_generation_prompt\": True, \"eos_token\": \"<|endoftext|>\"},\n",
    ")"
   ]
  },
  {
   "cell_type": "code",
   "execution_count": 7,
   "metadata": {
    "scrolled": true
   },
   "outputs": [],
   "source": [
    "# Test the prompt you want to send to OLMo.\n",
    "question = \"What is dark matter?\"\n",
    "\n",
    "full_prompt_text = prompt_template.format(\n",
    "    messages=[\n",
    "        {\n",
    "            \"role\": \"user\", \n",
    "            \"content\": textwrap.dedent(f\"\"\"\\\n",
    "            You are an astrophysics expert. Please answer the following question on astrophysics. \n",
    "            Question: {question}\"\"\")\n",
    "        }\n",
    "    ]\n",
    ")"
   ]
  },
  {
   "cell_type": "code",
   "execution_count": 8,
   "metadata": {},
   "outputs": [
    {
     "name": "stdout",
     "output_type": "stream",
     "text": [
      "<|endoftext|>\n",
      "\n",
      "<|user|>\n",
      "You are an astrophysics expert. Please answer the following question on astrophysics. \n",
      "Question: What is dark matter?\n",
      "\n",
      "\n",
      "<|assistant|>\n",
      "\n",
      "\n"
     ]
    }
   ],
   "source": [
    "print(full_prompt_text)"
   ]
  },
  {
   "cell_type": "code",
   "execution_count": 9,
   "metadata": {},
   "outputs": [],
   "source": [
    "# Chain the prompt template and olmo\n",
    "llm_chain = prompt_template | olmo"
   ]
  },
  {
   "cell_type": "code",
   "execution_count": 10,
   "metadata": {},
   "outputs": [
    {
     "name": "stdout",
     "output_type": "stream",
     "text": [
      " Dark matter is a theoretical entity that is still not directly observed or detected in the laboratory, although its existence is inferred from various observations and astronomical findings. In the context of astrophysics and celestial mechanics, dark matter is believed to make up approximately 85% of the matter content in the universe (as opposed to ordinary, visible matter).\n",
      "\n",
      "Dark matter's presence is inferred from the way it affects the motion of stars, gas, and galaxies within our Milky Way galaxy and other observable galaxies. This motion can be predicted based on the visible matter, but not to the same extent when it comes to dark matter. Due to this discrepancy between predicted and observed motions, astronomers conclude that there must be a significant amount of dark matter in the universe.\n",
      "\n",
      "Despite its name, dark matter is not actually a \"dark\" substance (i.e., one that reflects or absorbs light) but instead interacts with regular matter through gravity only. Some proposals suggest that dark matter might be made up of non-baryonic weakly interacting massive particles (WIMPs), which could potentially be detected through direct or indirect methods. However, no solid evidence has yet been found for WIMPs; thus, we continue to explore possible alternative explanations for the observed motion of celestial bodies."
     ]
    }
   ],
   "source": [
    "# Invoke the chain with a question and other parameters. \n",
    "question = \"What is dark matter?\"\n",
    "\n",
    "captured_answer = llm_chain.invoke(\n",
    "    {\n",
    "        \"messages\":\n",
    "        [\n",
    "            {\n",
    "                \"role\": \"user\", \n",
    "                \"content\": textwrap.dedent(f\"\"\"\\\n",
    "                You are an astrophysics expert. Please answer the following question on astrophysics. \n",
    "                Question: {question}\"\"\")\n",
    "            }\n",
    "        ]\n",
    "    }\n",
    ")"
   ]
  },
  {
   "cell_type": "code",
   "execution_count": 11,
   "metadata": {},
   "outputs": [],
   "source": [
    "questions = [\n",
    "    \"What is dark matter?\",\n",
    "    \"How many dimensions are there in the elemental abundances of stars?\",\n",
    "    # \"What\tis the\tevidence for cosmological parity violation?\",\n",
    "    # \"What observations show evidence for dark matter?\",\n",
    "    # \"What are the most popular theories for what dark matter might be made of?\",\n",
    "    # \"Does dark matter need to be a particle?\",\n",
    "    # \"What is the expected mass of dark matter?\",\n",
    "    # \"What experiments are currently ongoing and searching for dark matter?\",\n",
    "    # \"How do the above experiments work?\",\n",
    "    # \"What type of dark matter would the LHC be able to detect?\",\n",
    "    # \"Can you modify gravity to explain dark matter? If so how?\",\n",
    "    # \"How do astronomers detect the presence of planets around nearby stars?\",\n",
    "    # \"What is an eclipsing binary star?\",\n",
    "    # \"Can you describe a taxonomy for different classes of variable stars?\",\n",
    "    # \"What would the light curve of a tidal disruption event look like? How would it be different from a super nova?\",\n",
    "    # \"How do supernova explode?\",\n",
    "    # \"How is a Type II SN different from a Type 1a?\"\n",
    "]"
   ]
  },
  {
   "cell_type": "code",
   "execution_count": 12,
   "metadata": {},
   "outputs": [],
   "source": [
    "def ask_question(question):\n",
    "    print(f\"\\n\\n------------------------------------------\\nQuestion: {question}\")\n",
    "    messages = [\n",
    "        {\n",
    "            \"role\": \"user\", \n",
    "            \"content\": textwrap.dedent(f\"\"\"\\\n",
    "            You are an astrophysics expert. Please answer the following question on astrophysics. \n",
    "            Question: {question}\"\"\")\n",
    "        }\n",
    "    ]\n",
    "    return llm_chain.invoke(\n",
    "        {\n",
    "            \"messages\": messages, \n",
    "        }\n",
    "    )"
   ]
  },
  {
   "cell_type": "code",
   "execution_count": 13,
   "metadata": {},
   "outputs": [
    {
     "name": "stdout",
     "output_type": "stream",
     "text": [
      "\n",
      "\n",
      "------------------------------------------\n",
      "Question: What is dark matter?\n",
      "Dark matter is a theoretical particle that exists within the framework of astronomical and cosmological physics. Dark matter is not made up of ordinary matter (as we know it), as it does not interact with light or radiation in any way. Instead, it interacts via gravity only. In other words, dark matter is invisible to all forms of electromagnetic radiation (like visible light) except for when it emits heat due to its motion.\n",
      "\n",
      "To understand how dark matter operates, let's explore the concept of the Milky Way galaxy. According to astronomical observations and computer simulations, our galaxy contains roughly 100 billion stars. However, the gravitational effects we observe and measure require a much more substantial mass. This missing mass is believed to be composed of dark matter particles.\n",
      "\n",
      "Dark matter particles do not have mass energies; therefore, they do not emit or absorb electromagnetic radiation. Instead, their interactions with ordinary matter are mediated via gravity, which enables them to influence the gravitational forces observed in the universe and the motions of celestial bodies.\n",
      "\n",
      "There are several proposed candidates for dark matter particles, including Weakly Interacting Massive Particles (WIMPs) and Axion-Like Particles (ALPs). However, no particle has yet been discovered through direct detection experiments, despite extensive searches using particle accelerators like the Large Hadron Collider. Instead, astrophysicists use observations from various cosmic sources such as galaxy rotation curves, supernovae, and the Cosmic Microwave Background Radiation to infer the properties of dark matter particles.\n",
      "\n",
      "In summary, dark matter is a theoretical form of matter that exists in our universe but does not interact with light or electromagnetic radiation. It has been inferred based on gravitational observations and computer simulations. Researchers continue to search for direct detection of dark matter particles through experiments like those mentioned above.\n",
      "\n",
      "------------------------------------------\n",
      "Question: How many dimensions are there in the elemental abundances of stars?\n",
      " I'm happy to help you with your question regarding astrophysics! But I would need to provide an accurate response. However, it seems that there is a mistake in the structure of your question. In astronomy and physics, we typically study the properties of celestial bodies based on three dimensions (spatial dimensions) - length, width, and height. There are no additional \"dimensions\" related to elemental abundances since these refer to the relative numbers of different types of atoms that make up a star's composition.\n",
      "\n",
      "So, the correct version of your question should be:\n",
      "\n",
      "How many unique combinations of atomic percentages constitute the elemental abundances of stars?\n",
      "\n",
      "This question is more in line with the concept of astrophysics and might better suit the framework you were working within when formulating this query. If I misunderstood your original intention or provided an incorrect response, please feel free to let me know so that I can correct my answer accordingly."
     ]
    }
   ],
   "source": [
    "for question in questions:\n",
    "    ask_question(question)"
   ]
  },
  {
   "cell_type": "markdown",
   "metadata": {},
   "source": [
    "`Try OLMo with your own domain-specific question from the list of questions above.`"
   ]
  },
  {
   "cell_type": "code",
   "execution_count": null,
   "metadata": {},
   "outputs": [],
   "source": [
    "question = \"<Add your own domain specific question here.>\"\n",
    "\n",
    "captured_answer = ask_question(question)"
   ]
  },
  {
   "cell_type": "code",
   "execution_count": 14,
   "metadata": {},
   "outputs": [
    {
     "name": "stdout",
     "output_type": "stream",
     "text": [
      "\n",
      "\n",
      "------------------------------------------\n",
      "Question: How can I perform celestial coordinate transformations?\n",
      " Sure, I'd be happy to help you with that! Celestial coordinate transformations refer to the process of converting one set of coordinates to another set based on the location and motion of celestial objects in the sky. These transformations are essential for studying astronomical phenomena and making sense of observations made using telescopes or other equipment. In astrophysics, these transformations are used to convert observations from one reference frame (such as Earth's) to another, such as from an Earth-centered system (ECS) to a solar-centered system (SCS).\n",
      "\n",
      "There are several coordinate systems that can be used in astrophysics, including:\n",
      "\n",
      "1. Cartesian Coordinates: These coordinates represent a point in 3D space and are commonly used for plotting positions on charts or maps. In astronomical applications, cartesian coordinates typically include the X, Y, and Z axes. For example, (x,y,z) represents an object's location on the Earth's surface.\n",
      "\n",
      "2. Galactic Coordinates: These coordinates describe the position of a celestial body along our galaxy's galactic plane. The x-axis points towards the galactic center, the y-axis is perpendicular to the galactic plane, and the z-axis is parallel to it. For example, the (l,b) system is used for star locations within our Milky Way galaxy.\n",
      "\n",
      "3. Galactocentric Coordinates: These coordinates describe a celestial body's position relative to the center of our galaxy. The x-axis points towards the galactic center, and the y- and z-axes are perpendicular to each other but point in the direction of the galaxy's rotational axis. For example, the (r,θ,ϕ) system is used for star positions within a specific region of the Milky Way.\n",
      "\n",
      "4. Solar Coordinates: These coordinates describe a celestial body's position relative to our solar system. The x-axis points towards the Sun, the y-axis is perpendicular to it and parallel to the Earth's orbit around the Sun, while the z-axis is parallel to the direction of the Sun's motion in the solar system. For example, the (R,φ) system is commonly used for observing celestial bodies within our Solar System.\n",
      "\n",
      "To transform from one set of coordinates to another, you can use standard equations or computer programs that take the input coordinate values and apply the appropriate transformations based on the specific reference frame. For example:\n",
      "\n",
      "    Cartesian to Galactic Coordinates (x',y',z"
     ]
    }
   ],
   "source": [
    "question = \"How can I perform celestial coordinate transformations?\"\n",
    "\n",
    "captured_answer = ask_question(question)"
   ]
  },
  {
   "cell_type": "code",
   "execution_count": null,
   "metadata": {},
   "outputs": [],
   "source": []
  }
 ],
 "metadata": {
  "kernelspec": {
   "display_name": "Python 3 (ipykernel)",
   "language": "python",
   "name": "python3"
  },
  "language_info": {
   "codemirror_mode": {
    "name": "ipython",
    "version": 3
   },
   "file_extension": ".py",
   "mimetype": "text/x-python",
   "name": "python",
   "nbconvert_exporter": "python",
   "pygments_lexer": "ipython3",
   "version": "3.11.8"
  }
 },
 "nbformat": 4,
 "nbformat_minor": 4
}
