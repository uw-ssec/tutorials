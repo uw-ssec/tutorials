{
 "cells": [
  {
   "cell_type": "markdown",
   "id": "0",
   "metadata": {},
   "source": [
    "# LangChain: The LLM Application Framework"
   ]
  },
  {
   "cell_type": "markdown",
   "id": "1",
   "metadata": {},
   "source": [
    "LangChain, an open-source library, empowers developers by providing a standardized and structured interface for building and integrating various components of an LLM Application. Its model-agnostic nature allows for compatibility with models from multiple LLM providers, including OpenAI, HuggingFace, and others. \n",
    "\n",
    "Using Langchain allows us to build (\"like a chain\") reusable components as part of complex multi-step LLM-based applications clearly and succinctly. \n",
    "\n",
    "You can learn about different [LangChain components here.](https://python.langchain.com/v0.2/docs/concepts/#components)\n",
    "\n",
    "This tutorial will focus on a few LangChain components and learn about `chaining,` one of its powerful features."
   ]
  },
  {
   "cell_type": "markdown",
   "id": "2",
   "metadata": {},
   "source": [
    "## [Prompt templates](https://python.langchain.com/v0.2/docs/concepts/#prompt-templates)"
   ]
  },
  {
   "cell_type": "markdown",
   "id": "3",
   "metadata": {},
   "source": [
    "Prompt Templates provides templates for designing prompts fed as inputs to the LLM models.\n",
    "It helps us design templates with multiple inputs that are parameterized and reusable.\n",
    "\n",
    "Below is an example of how to use a prompt template."
   ]
  },
  {
   "cell_type": "code",
   "execution_count": 1,
   "id": "4",
   "metadata": {},
   "outputs": [],
   "source": [
    "import langchain"
   ]
  },
  {
   "cell_type": "code",
   "execution_count": 2,
   "id": "5",
   "metadata": {},
   "outputs": [],
   "source": [
    "from langchain import PromptTemplate\n",
    "from llama_cpp import Llama\n",
    "from ssec_tutorials import OLMO_MODEL\n",
    "from ssec_tutorials.scipy_conf import *  # Contains helper methods for tutorial"
   ]
  },
  {
   "cell_type": "markdown",
   "id": "6",
   "metadata": {},
   "source": [
    "### [String PromptTemplates](https://python.langchain.com/v0.2/docs/concepts/#string-prompttemplates)\n",
    "\n",
    "Prompt templates to format a single string"
   ]
  },
  {
   "cell_type": "code",
   "execution_count": 3,
   "id": "7",
   "metadata": {},
   "outputs": [
    {
     "data": {
      "text/plain": [
       "'Mars in the solar system is the '"
      ]
     },
     "execution_count": 3,
     "metadata": {},
     "output_type": "execute_result"
    }
   ],
   "source": [
    "prompt_template = PromptTemplate.from_template(\n",
    "    \"{planet_name} in the solar system is the \"\n",
    ")\n",
    "\n",
    "prompt_template.format(planet_name=\"Mars\")"
   ]
  },
  {
   "cell_type": "code",
   "execution_count": 4,
   "id": "8",
   "metadata": {},
   "outputs": [],
   "source": [
    "olmo = Llama(model_path=str(OLMO_MODEL), verbose=False)"
   ]
  },
  {
   "cell_type": "code",
   "execution_count": 5,
   "id": "9",
   "metadata": {},
   "outputs": [],
   "source": [
    "model_response = olmo(\n",
    "    prompt=prompt_template.format(planet_name=\"Mars\"),\n",
    "    temperature=0.2,\n",
    "    max_tokens=8,\n",
    "    echo=True,\n",
    ")  # Generate a completion, can also call olmo.create_completion"
   ]
  },
  {
   "cell_type": "code",
   "execution_count": 6,
   "id": "10",
   "metadata": {},
   "outputs": [
    {
     "name": "stdout",
     "output_type": "stream",
     "text": [
      "Mars in the solar system is the \n",
      "* fourth planet from the Sun.\n"
     ]
    }
   ],
   "source": [
    "print(parse_text_generation_response(model_response))"
   ]
  },
  {
   "cell_type": "code",
   "execution_count": 7,
   "id": "11",
   "metadata": {},
   "outputs": [
    {
     "data": {
      "text/plain": [
       "'Size of the planet Earth is '"
      ]
     },
     "execution_count": 7,
     "metadata": {},
     "output_type": "execute_result"
    }
   ],
   "source": [
    "# Another example\n",
    "prompt_template = PromptTemplate.from_template(\n",
    "    \"{entity_1} of the planet {entity_2} is \"\n",
    ")\n",
    "prompt_template.format(entity_1=\"Size\", entity_2=\"Earth\")"
   ]
  },
  {
   "cell_type": "code",
   "execution_count": 8,
   "id": "12",
   "metadata": {},
   "outputs": [],
   "source": [
    "model_response = olmo(\n",
    "    prompt=prompt_template.format(entity_1=\"Size\", entity_2=\"Earth\"),\n",
    "    temperature=0.2,\n",
    "    echo=True,\n",
    ")"
   ]
  },
  {
   "cell_type": "code",
   "execution_count": 9,
   "id": "13",
   "metadata": {},
   "outputs": [
    {
     "name": "stdout",
     "output_type": "stream",
     "text": [
      "Size of the planet Earth is \n",
      "5,147 km in diameter. The diameter of the Moon is approximately 1\n"
     ]
    }
   ],
   "source": [
    "print(parse_text_generation_response(model_response))"
   ]
  },
  {
   "cell_type": "markdown",
   "id": "14",
   "metadata": {},
   "source": [
    "## LLM Interface"
   ]
  },
  {
   "cell_type": "markdown",
   "id": "15",
   "metadata": {},
   "source": [
    "LangChain provides us with a standardized interface for loading the LLM model. Once standardized, we can use the same methods across models from different providers to call/invoke functions, enabling reusability.\n",
    "\n",
    "Loading the model via [LangChain's LlamaCpp](https://python.langchain.com/v0.1/docs/integrations/llms/llamacpp/) abstraction enables us to use the `chaining` feature."
   ]
  },
  {
   "cell_type": "code",
   "execution_count": 10,
   "id": "16",
   "metadata": {},
   "outputs": [],
   "source": [
    "from langchain_community.llms import LlamaCpp"
   ]
  },
  {
   "cell_type": "code",
   "execution_count": 11,
   "id": "17",
   "metadata": {},
   "outputs": [],
   "source": [
    "olmo = LlamaCpp(\n",
    "    model_path=str(OLMO_MODEL),\n",
    "    temperature=0.8,\n",
    "    # stop=[\".\"],\n",
    "    verbose=False,\n",
    ")"
   ]
  },
  {
   "cell_type": "code",
   "execution_count": 12,
   "id": "18",
   "metadata": {},
   "outputs": [],
   "source": [
    "# Create a prompt template using OLMo's tokenizer chat template we saw in module 1.\n",
    "prompt_template = PromptTemplate.from_template(\n",
    "    template=olmo.client.metadata[\"tokenizer.chat_template\"], template_format=\"jinja2\"\n",
    ")"
   ]
  },
  {
   "cell_type": "code",
   "execution_count": 13,
   "id": "19",
   "metadata": {},
   "outputs": [
    {
     "data": {
      "text/plain": [
       "'<|endoftext|>\\n\\n<|user|>\\nYou are a helpful assistant. Tell me a joke about cats\\n\\n\\n<|assistant|>\\n\\n'"
      ]
     },
     "execution_count": 13,
     "metadata": {},
     "output_type": "execute_result"
    }
   ],
   "source": [
    "# This is how you can format the prompt message\n",
    "prompt_template.format(\n",
    "    messages=[\n",
    "        {\n",
    "            \"role\": \"user\",\n",
    "            \"content\": \"You are a helpful assistant. Tell me a joke about cats\",\n",
    "        }\n",
    "    ],\n",
    "    add_generation_prompt=True,\n",
    "    eos_token=\"<|endoftext|>\",\n",
    ")"
   ]
  },
  {
   "attachments": {},
   "cell_type": "markdown",
   "id": "20",
   "metadata": {},
   "source": [
    "## Chain in LangChain\n",
    "\n",
    "Chaining allows us to combine multiple components, as described above, in series or parallel to develop a multi-step LLM pipeline.\n",
    "As shown in the image below, any number of components can be linked together to form a chain."
   ]
  },
  {
   "cell_type": "markdown",
   "id": "21",
   "metadata": {},
   "source": [
    "![LancChain Chain](../../images/langchain-chain.webp)"
   ]
  },
  {
   "attachments": {},
   "cell_type": "markdown",
   "id": "22",
   "metadata": {},
   "source": [
    "\n",
    "Image Source: [www.analyticsvidhya.com](https://www.analyticsvidhya.com/blog/2023/10/a-comprehensive-guide-to-using-chains-in-langchain/)"
   ]
  },
  {
   "cell_type": "markdown",
   "id": "23",
   "metadata": {},
   "source": [
    "Internally, the chain works like below:\n",
    "\n",
    "STEP 1: Dictionary is processed as an input to the prompt template.  \n",
    "STEP 2: Prompt Template reads the variables to form the prompt text as output - \"What are stars and moon?\"  \n",
    "STEP 3: The prompt is given as input to the LLM model.  \n",
    "STEP 4: LLM Model produces output.  \n",
    "STEP 5: The output goes through StrOutputParser that parses it into string and gives the result.  "
   ]
  },
  {
   "cell_type": "markdown",
   "id": "24",
   "metadata": {},
   "source": [
    "We can use the pipe operator (\"|\"), which is part of the [LCEL(Lang Chain Expression Language)](https://python.langchain.com/v0.2/docs/concepts/#langchain-expression-language-lcel). The pipe operator sequentially arranges each component, similar to the above image."
   ]
  },
  {
   "cell_type": "code",
   "execution_count": 14,
   "id": "25",
   "metadata": {},
   "outputs": [],
   "source": [
    "llm_chain = prompt_template | olmo"
   ]
  },
  {
   "cell_type": "code",
   "execution_count": 15,
   "id": "26",
   "metadata": {},
   "outputs": [
    {
     "data": {
      "text/plain": [
       "\" Sure, here's a classic cat-themed joke for you:\\n\\n\\n\\nWhy don't cats play poker in the jungle? Too many cheetahs! 😜🐱😂🦁 #joke #funnycats #cheetahpokerface 👉🎢 [Link to an article about funny cat pictures instead, if that's more appropriate based on the current context.]\""
      ]
     },
     "execution_count": 15,
     "metadata": {},
     "output_type": "execute_result"
    }
   ],
   "source": [
    "# Construct the prompt as expected by OLMo\n",
    "llm_chain.invoke(\n",
    "    {\n",
    "        \"messages\": [\n",
    "            {\n",
    "                \"role\": \"user\",\n",
    "                \"content\": \"You are a helpful assistant. Tell me a joke about cats\",\n",
    "            }\n",
    "        ],\n",
    "        \"add_generation_prompt\": True,\n",
    "        \"eos_token\": \"<|endoftext|>\",\n",
    "    }\n",
    ")"
   ]
  },
  {
   "cell_type": "markdown",
   "id": "27",
   "metadata": {},
   "source": [
    "Instead of having to invoke `llm_chain` repeatedly with `add_generation_prompt` and `eos_token`, we can update our `prompt_template`."
   ]
  },
  {
   "cell_type": "code",
   "execution_count": 16,
   "id": "28",
   "metadata": {},
   "outputs": [],
   "source": [
    "# Create a prompt template using OLMo's tokenizer chat template we saw in module 1, but this time use partial variables.\n",
    "prompt_template = PromptTemplate.from_template(\n",
    "    template=olmo.client.metadata[\"tokenizer.chat_template\"],\n",
    "    template_format=\"jinja2\",\n",
    "    partial_variables={\"add_generation_prompt\": True, \"eos_token\": \"<|endoftext|>\"},\n",
    ")"
   ]
  },
  {
   "cell_type": "code",
   "execution_count": 17,
   "id": "29",
   "metadata": {},
   "outputs": [],
   "source": [
    "llm_chain = prompt_template | olmo"
   ]
  },
  {
   "cell_type": "markdown",
   "id": "30",
   "metadata": {},
   "source": [
    "Let's stream the output instead of waiting for OLMo to generate and display the text. We can use [Callbacks](https://python.langchain.com/v0.2/docs/concepts/#callbacks) to subscribe to various events in your LLM application pipeline. Check [this out](https://python.langchain.com/v0.1/docs/modules/callbacks/#callback-handlers) for a list of events. "
   ]
  },
  {
   "cell_type": "code",
   "execution_count": 18,
   "id": "31",
   "metadata": {},
   "outputs": [],
   "source": [
    "from langchain_core.callbacks import StreamingStdOutCallbackHandler"
   ]
  },
  {
   "cell_type": "code",
   "execution_count": 19,
   "id": "32",
   "metadata": {},
   "outputs": [
    {
     "name": "stdout",
     "output_type": "stream",
     "text": [
      " Why don't cats play poker in the forest? Too many squirrels!\n",
      "\n",
      "I hope that made you smile. Do you need any more information about cats or jokes? I'm here to help."
     ]
    },
    {
     "data": {
      "text/plain": [
       "\" Why don't cats play poker in the forest? Too many squirrels!\\n\\nI hope that made you smile. Do you need any more information about cats or jokes? I'm here to help.\""
      ]
     },
     "execution_count": 19,
     "metadata": {},
     "output_type": "execute_result"
    }
   ],
   "source": [
    "llm_chain.invoke(\n",
    "    {\n",
    "        \"messages\": [\n",
    "            {\n",
    "                \"role\": \"user\",\n",
    "                \"content\": \"You are a helpful assistant. Tell me a joke about cats\",\n",
    "            }\n",
    "        ]\n",
    "    },\n",
    "    config={\"callbacks\": [StreamingStdOutCallbackHandler()]},\n",
    ")"
   ]
  },
  {
   "cell_type": "markdown",
   "id": "33",
   "metadata": {},
   "source": [
    "We will cover more LangChain concepts in upcoming notebooks. "
   ]
  }
 ],
 "metadata": {
  "kernelspec": {
   "display_name": "Python 3 (ipykernel)",
   "language": "python",
   "name": "python3"
  },
  "language_info": {
   "codemirror_mode": {
    "name": "ipython",
    "version": 3
   },
   "file_extension": ".py",
   "mimetype": "text/x-python",
   "name": "python",
   "nbconvert_exporter": "python",
   "pygments_lexer": "ipython3",
   "version": "3.11.9"
  }
 },
 "nbformat": 4,
 "nbformat_minor": 5
}
