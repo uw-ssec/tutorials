{
 "cells": [
  {
   "cell_type": "markdown",
   "id": "13399cdb-d89e-4568-ba62-fa1bf53c7ff6",
   "metadata": {},
   "source": [
    "# Try with your Data"
   ]
  },
  {
   "cell_type": "code",
   "execution_count": 2,
   "id": "aef5a3ad-a02d-486d-9207-e855cd734d8d",
   "metadata": {},
   "outputs": [],
   "source": [
    "import os\n",
    "import langchain\n",
    "import textwrap\n",
    "import warnings"
   ]
  },
  {
   "cell_type": "code",
   "execution_count": 3,
   "id": "02e5f751-aa18-40ff-8dc1-7624d2983fcd",
   "metadata": {},
   "outputs": [],
   "source": [
    "from langchain.chains.combine_documents import create_stuff_documents_chain\n",
    "from langchain.chains import create_retrieval_chain\n",
    "from langchain_community.llms import LlamaCpp\n",
    "from langchain_core.callbacks import StreamingStdOutCallbackHandler\n",
    "from langchain_core.documents import Document\n",
    "from langchain_core.output_parsers import StrOutputParser\n",
    "from langchain_core.prompts import PromptTemplate\n",
    "from langchain_core.runnables import RunnablePassthrough\n",
    "from langchain_qdrant import Qdrant\n",
    "from langchain_huggingface import HuggingFaceEmbeddings"
   ]
  },
  {
   "cell_type": "code",
   "execution_count": 4,
   "id": "25ac19ec-24bf-43ca-9f74-3b7de5217f10",
   "metadata": {},
   "outputs": [],
   "source": [
    "from llama_cpp import Llama\n",
    "from scipy import spatial\n",
    "from qdrant_client import QdrantClient"
   ]
  },
  {
   "cell_type": "code",
   "execution_count": 5,
   "id": "fa043165-52a6-4b9a-919a-bcd2e45e2c0a",
   "metadata": {},
   "outputs": [],
   "source": [
    "from ssec_tutorials import OLMO_MODEL, QDRANT_PATH, QDRANT_COLLECTION_NAME, download_qdrant_data"
   ]
  },
  {
   "cell_type": "code",
   "execution_count": 6,
   "id": "cdba2f0d-c0bd-4481-9aa1-959701813ef5",
   "metadata": {},
   "outputs": [],
   "source": [
    "warnings.filterwarnings('ignore')"
   ]
  },
  {
   "cell_type": "markdown",
   "id": "c1c01ada-2677-4867-b264-73d4f21db444",
   "metadata": {},
   "source": [
    "## Load OLMo"
   ]
  },
  {
   "cell_type": "code",
   "execution_count": 9,
   "id": "802032e1-9c2e-494c-b52b-4c4261b1460e",
   "metadata": {},
   "outputs": [
    {
     "name": "stderr",
     "output_type": "stream",
     "text": [
      "llama_model_loader: loaded meta data with 22 key-value pairs and 226 tensors from /Users/a42/.cache/ssec_tutorials/OLMo-7B-Instruct-Q4_K_M.gguf (version GGUF V3 (latest))\n",
      "llama_model_loader: Dumping metadata keys/values. Note: KV overrides do not apply in this output.\n",
      "llama_model_loader: - kv   0:                       general.architecture str              = olmo\n",
      "llama_model_loader: - kv   1:                               general.name str              = OLMo-7B-Instruct-hf\n",
      "llama_model_loader: - kv   2:                           olmo.block_count u32              = 32\n",
      "llama_model_loader: - kv   3:                        olmo.context_length u32              = 2048\n",
      "llama_model_loader: - kv   4:                      olmo.embedding_length u32              = 4096\n",
      "llama_model_loader: - kv   5:                   olmo.feed_forward_length u32              = 11008\n",
      "llama_model_loader: - kv   6:                  olmo.attention.head_count u32              = 32\n",
      "llama_model_loader: - kv   7:               olmo.attention.head_count_kv u32              = 32\n",
      "llama_model_loader: - kv   8:                        olmo.rope.freq_base f32              = 10000.000000\n",
      "llama_model_loader: - kv   9:                          general.file_type u32              = 15\n",
      "llama_model_loader: - kv  10:          olmo.attention.layer_norm_epsilon f32              = 0.000010\n",
      "llama_model_loader: - kv  11:                       tokenizer.ggml.model str              = gpt2\n",
      "llama_model_loader: - kv  12:                         tokenizer.ggml.pre str              = olmo\n",
      "llama_model_loader: - kv  13:                      tokenizer.ggml.tokens arr[str,50304]   = [\"|||IP_ADDRESS|||\", \"<|padding|>\", \"...\n",
      "llama_model_loader: - kv  14:                  tokenizer.ggml.token_type arr[i32,50304]   = [4, 3, 1, 1, 1, 1, 1, 1, 1, 1, 1, 1, ...\n",
      "llama_model_loader: - kv  15:                      tokenizer.ggml.merges arr[str,50009]   = [\"Ġ Ġ\", \"Ġ t\", \"Ġ a\", \"h e\", \"i n...\n",
      "llama_model_loader: - kv  16:                tokenizer.ggml.eos_token_id u32              = 50279\n",
      "llama_model_loader: - kv  17:            tokenizer.ggml.padding_token_id u32              = 1\n",
      "llama_model_loader: - kv  18:               tokenizer.ggml.add_bos_token bool             = false\n",
      "llama_model_loader: - kv  19:               tokenizer.ggml.add_eos_token bool             = false\n",
      "llama_model_loader: - kv  20:                    tokenizer.chat_template str              = {{ eos_token }}{% for message in mess...\n",
      "llama_model_loader: - kv  21:               general.quantization_version u32              = 2\n",
      "llama_model_loader: - type q4_K:  193 tensors\n",
      "llama_model_loader: - type q6_K:   33 tensors\n",
      "llm_load_vocab: special tokens cache size = 52\n",
      "llm_load_vocab: token to piece cache size = 0.2987 MB\n",
      "llm_load_print_meta: format           = GGUF V3 (latest)\n",
      "llm_load_print_meta: arch             = olmo\n",
      "llm_load_print_meta: vocab type       = BPE\n",
      "llm_load_print_meta: n_vocab          = 50304\n",
      "llm_load_print_meta: n_merges         = 50009\n",
      "llm_load_print_meta: n_ctx_train      = 2048\n",
      "llm_load_print_meta: n_embd           = 4096\n",
      "llm_load_print_meta: n_head           = 32\n",
      "llm_load_print_meta: n_head_kv        = 32\n",
      "llm_load_print_meta: n_layer          = 32\n",
      "llm_load_print_meta: n_rot            = 128\n",
      "llm_load_print_meta: n_embd_head_k    = 128\n",
      "llm_load_print_meta: n_embd_head_v    = 128\n",
      "llm_load_print_meta: n_gqa            = 1\n",
      "llm_load_print_meta: n_embd_k_gqa     = 4096\n",
      "llm_load_print_meta: n_embd_v_gqa     = 4096\n",
      "llm_load_print_meta: f_norm_eps       = 1.0e-05\n",
      "llm_load_print_meta: f_norm_rms_eps   = 0.0e+00\n",
      "llm_load_print_meta: f_clamp_kqv      = 0.0e+00\n",
      "llm_load_print_meta: f_max_alibi_bias = 0.0e+00\n",
      "llm_load_print_meta: f_logit_scale    = 0.0e+00\n",
      "llm_load_print_meta: n_ff             = 11008\n",
      "llm_load_print_meta: n_expert         = 0\n",
      "llm_load_print_meta: n_expert_used    = 0\n",
      "llm_load_print_meta: causal attn      = 1\n",
      "llm_load_print_meta: pooling type     = 0\n",
      "llm_load_print_meta: rope type        = 0\n",
      "llm_load_print_meta: rope scaling     = linear\n",
      "llm_load_print_meta: freq_base_train  = 10000.0\n",
      "llm_load_print_meta: freq_scale_train = 1\n",
      "llm_load_print_meta: n_ctx_orig_yarn  = 2048\n",
      "llm_load_print_meta: rope_finetuned   = unknown\n",
      "llm_load_print_meta: ssm_d_conv       = 0\n",
      "llm_load_print_meta: ssm_d_inner      = 0\n",
      "llm_load_print_meta: ssm_d_state      = 0\n",
      "llm_load_print_meta: ssm_dt_rank      = 0\n",
      "llm_load_print_meta: model type       = 7B\n",
      "llm_load_print_meta: model ftype      = Q4_K - Medium\n",
      "llm_load_print_meta: model params     = 6.89 B\n",
      "llm_load_print_meta: model size       = 3.90 GiB (4.86 BPW) \n",
      "llm_load_print_meta: general.name     = OLMo-7B-Instruct-hf\n",
      "llm_load_print_meta: BOS token        = 11 '*'\n",
      "llm_load_print_meta: EOS token        = 50279 '<|endoftext|>'\n",
      "llm_load_print_meta: PAD token        = 1 '<|padding|>'\n",
      "llm_load_print_meta: LF token         = 128 'Ä'\n",
      "llm_load_print_meta: EOT token        = 50279 '<|endoftext|>'\n",
      "llm_load_tensors: ggml ctx size =    0.12 MiB\n",
      "llm_load_tensors: offloading 0 repeating layers to GPU\n",
      "llm_load_tensors: offloaded 0/33 layers to GPU\n",
      "llm_load_tensors:        CPU buffer size =  3989.10 MiB\n",
      "................................................................................................\n",
      "llama_new_context_with_model: n_batch is less than GGML_KQ_MASK_PAD - increasing to 32\n",
      "llama_new_context_with_model: n_ctx      = 512\n",
      "llama_new_context_with_model: n_batch    = 32\n",
      "llama_new_context_with_model: n_ubatch   = 32\n",
      "llama_new_context_with_model: flash_attn = 0\n",
      "llama_new_context_with_model: freq_base  = 10000.0\n",
      "llama_new_context_with_model: freq_scale = 1\n",
      "llama_kv_cache_init:        CPU KV buffer size =   256.00 MiB\n",
      "llama_new_context_with_model: KV self size  =  256.00 MiB, K (f16):  128.00 MiB, V (f16):  128.00 MiB\n",
      "llama_new_context_with_model:        CPU  output buffer size =     0.19 MiB\n",
      "llama_new_context_with_model:        CPU compute buffer size =     7.14 MiB\n",
      "llama_new_context_with_model: graph nodes  = 965\n",
      "llama_new_context_with_model: graph splits = 1\n",
      "AVX = 0 | AVX_VNNI = 0 | AVX2 = 0 | AVX512 = 0 | AVX512_VBMI = 0 | AVX512_VNNI = 0 | AVX512_BF16 = 0 | FMA = 0 | NEON = 1 | SVE = 0 | ARM_FMA = 1 | F16C = 0 | FP16_VA = 1 | WASM_SIMD = 0 | BLAS = 1 | SSE3 = 0 | SSSE3 = 0 | VSX = 0 | MATMUL_INT8 = 0 | LLAMAFILE = 1 | \n",
      "Model metadata: {'general.quantization_version': '2', 'tokenizer.chat_template': \"{{ eos_token }}{% for message in messages %}\\n{% if message['role'] == 'user' %}\\n{{ '<|user|>\\n' + message['content'] }}\\n{% elif message['role'] == 'assistant' %}\\n{{ '<|assistant|>\\n'  + message['content'] + eos_token }}\\n{% endif %}\\n{% if loop.last and add_generation_prompt %}\\n{{ '<|assistant|>' }}\\n{% endif %}\\n{% endfor %}\", 'tokenizer.ggml.add_eos_token': 'false', 'tokenizer.ggml.add_bos_token': 'false', 'tokenizer.ggml.padding_token_id': '1', 'tokenizer.ggml.pre': 'olmo', 'tokenizer.ggml.model': 'gpt2', 'tokenizer.ggml.eos_token_id': '50279', 'olmo.rope.freq_base': '10000.000000', 'olmo.attention.head_count_kv': '32', 'olmo.embedding_length': '4096', 'general.file_type': '15', 'olmo.attention.head_count': '32', 'olmo.feed_forward_length': '11008', 'olmo.context_length': '2048', 'olmo.block_count': '32', 'general.name': 'OLMo-7B-Instruct-hf', 'olmo.attention.layer_norm_epsilon': '0.000010', 'general.architecture': 'olmo'}\n",
      "Available chat formats from metadata: chat_template.default\n",
      "Using gguf chat template: {{ eos_token }}{% for message in messages %}\n",
      "{% if message['role'] == 'user' %}\n",
      "{{ '<|user|>\n",
      "' + message['content'] }}\n",
      "{% elif message['role'] == 'assistant' %}\n",
      "{{ '<|assistant|>\n",
      "'  + message['content'] + eos_token }}\n",
      "{% endif %}\n",
      "{% if loop.last and add_generation_prompt %}\n",
      "{{ '<|assistant|>' }}\n",
      "{% endif %}\n",
      "{% endfor %}\n",
      "Using chat eos_token: <|endoftext|>\n",
      "Using chat bos_token: *\n"
     ]
    }
   ],
   "source": [
    "olmo = LlamaCpp(\n",
    "    model_path=str(OLMO_MODEL),\n",
    "    # TODO: What should be the other parameters here? Uncomment the next cell and run it. \n",
    ")"
   ]
  },
  {
   "cell_type": "code",
   "execution_count": 10,
   "id": "c8c065d1-d67c-46b6-a6d5-6ed790537502",
   "metadata": {},
   "outputs": [],
   "source": [
    "# Uncomment this line to understand your available options. \n",
    "#LlamaCpp?"
   ]
  },
  {
   "cell_type": "markdown",
   "id": "74ab23e7-556b-4e3e-95ae-f9912807e423",
   "metadata": {},
   "source": [
    "## Data Setup"
   ]
  },
  {
   "cell_type": "markdown",
   "id": "72e1ca39-34d1-463e-b925-b3f0f417043c",
   "metadata": {},
   "source": [
    "Use notebooks from the Appendix folder to set up your data pipeline. You can use csv, pdfs, etc. as your data source. "
   ]
  },
  {
   "cell_type": "markdown",
   "id": "77fe2677-d20c-4551-92cd-51194cea428a",
   "metadata": {},
   "source": [
    "Note: if you're running things on Codespace, [refer to this link](https://stackoverflow.com/questions/62284623/how-can-i-upload-a-file-to-a-github-codespaces-environment) and upload your data to `resources/data` folder.  "
   ]
  },
  {
   "cell_type": "code",
   "execution_count": 12,
   "id": "fb525353-792a-4045-8ba2-3c083e3de62a",
   "metadata": {},
   "outputs": [],
   "source": [
    "# Add your code here."
   ]
  },
  {
   "cell_type": "code",
   "execution_count": 13,
   "id": "1b972042-2af2-44d0-91e9-404f45d8e6c4",
   "metadata": {},
   "outputs": [],
   "source": [
    "# Ensure you can retrieve relevant context based on your prompt. \n",
    "# context = retriever.invoke(\"What's my relevant question?\"))\n",
    "# or \n",
    "# Load your data into the context variable\n",
    "# context = <Add context from your data file>"
   ]
  },
  {
   "cell_type": "markdown",
   "id": "d277c9d9-f382-43f5-b76b-2f33ef98ab7e",
   "metadata": {},
   "source": [
    "## Prompt Engineering"
   ]
  },
  {
   "cell_type": "code",
   "execution_count": 15,
   "id": "149609a8-aae0-424b-b650-20bb996f08aa",
   "metadata": {},
   "outputs": [],
   "source": [
    "# Create a prompt template using OLMo's tokenizer chat template we saw in module 1.\n",
    "prompt_template = PromptTemplate.from_template(\n",
    "    template=olmo.client.metadata['tokenizer.chat_template'], \n",
    "    template_format=\"jinja2\",\n",
    "    partial_variables={\"add_generation_prompt\": True, \"eos_token\": \"<|endoftext|>\"},\n",
    ")"
   ]
  },
  {
   "cell_type": "code",
   "execution_count": 16,
   "id": "0d35a428-1c42-43e8-9d10-9c1701fbe486",
   "metadata": {},
   "outputs": [
    {
     "data": {
      "text/plain": [
       "\"<|endoftext|>\\n\\n<|user|>\\n<Add your prompt instructions>:\\n\\n            Context: Use context from above\\n            \\n            Question: What's the question?\\n\\n\\n<|assistant|>\\n\\n\""
      ]
     },
     "execution_count": 16,
     "metadata": {},
     "output_type": "execute_result"
    }
   ],
   "source": [
    "# Test the prompt you want to send to OLMo.\n",
    "\n",
    "question = \"What's the question?\"\n",
    "context = \"Use context from above\"\n",
    "\n",
    "# Add prompt instructions\n",
    "prompt_template.format(\n",
    "    messages=[\n",
    "        {\n",
    "            \"role\": \"user\", \n",
    "            \"content\": f\"\"\"<Add your prompt instructions>:\n",
    "\n",
    "            Context: {context}\n",
    "            \n",
    "            Question: {question}\"\"\"\n",
    "        }\n",
    "    ]\n",
    ")"
   ]
  },
  {
   "cell_type": "markdown",
   "id": "c096f52d-e031-4a00-b1ff-359db0a98e63",
   "metadata": {},
   "source": [
    "## RAG"
   ]
  },
  {
   "cell_type": "code",
   "execution_count": 17,
   "id": "96d1fdf2-a67a-4af4-8c74-6eab9d620d2c",
   "metadata": {},
   "outputs": [],
   "source": [
    "# Chain the prompt template and olmo\n",
    "llm_chain = prompt_template | olmo"
   ]
  },
  {
   "cell_type": "code",
   "execution_count": 18,
   "id": "b58aadc2-7a46-414d-b1c4-9ecf8c1cd32e",
   "metadata": {},
   "outputs": [
    {
     "name": "stdout",
     "output_type": "stream",
     "text": [
      " To provide the correct answer, I need a clear question based on the context provided. In the given text, no specific question is mentioned. If you could provide a specific question related to the context, I would be happy to help with that query."
     ]
    },
    {
     "name": "stderr",
     "output_type": "stream",
     "text": [
      "\n",
      "llama_print_timings:        load time =    3706.46 ms\n",
      "llama_print_timings:      sample time =       7.86 ms /    51 runs   (    0.15 ms per token,  6488.55 tokens per second)\n",
      "llama_print_timings: prompt eval time =    5155.86 ms /    44 tokens (  117.18 ms per token,     8.53 tokens per second)\n",
      "llama_print_timings:        eval time =    2631.83 ms /    50 runs   (   52.64 ms per token,    19.00 tokens per second)\n",
      "llama_print_timings:       total time =    7829.53 ms /    94 tokens\n"
     ]
    },
    {
     "data": {
      "text/plain": [
       "' To provide the correct answer, I need a clear question based on the context provided. In the given text, no specific question is mentioned. If you could provide a specific question related to the context, I would be happy to help with that query.'"
      ]
     },
     "execution_count": 18,
     "metadata": {},
     "output_type": "execute_result"
    }
   ],
   "source": [
    "question = \"What's the question?\"\n",
    "context = \"Use the context from above\"\n",
    "\n",
    "# Invoke the chain with a question and other parameters. \n",
    "llm_chain.invoke(\n",
    "    {\n",
    "        \"messages\":\n",
    "            [{\n",
    "                \"role\": \"user\", \n",
    "                \"content\": f\"\"\"<Add your prompt instructions>:\n",
    "    \n",
    "                Context: {context}\n",
    "                \n",
    "                Question: {question}\"\"\"\n",
    "            }\n",
    "        ], \n",
    "    },\n",
    "    config={\n",
    "        'callbacks' : [StreamingStdOutCallbackHandler()]\n",
    "    }\n",
    ")"
   ]
  },
  {
   "cell_type": "code",
   "execution_count": null,
   "id": "33475416-224c-4a1d-87b6-ddc1dc4e51a5",
   "metadata": {},
   "outputs": [],
   "source": []
  }
 ],
 "metadata": {
  "kernelspec": {
   "display_name": "Python 3 (ipykernel)",
   "language": "python",
   "name": "python3"
  },
  "language_info": {
   "codemirror_mode": {
    "name": "ipython",
    "version": 3
   },
   "file_extension": ".py",
   "mimetype": "text/x-python",
   "name": "python",
   "nbconvert_exporter": "python",
   "pygments_lexer": "ipython3",
   "version": "3.11.9"
  }
 },
 "nbformat": 4,
 "nbformat_minor": 5
}
