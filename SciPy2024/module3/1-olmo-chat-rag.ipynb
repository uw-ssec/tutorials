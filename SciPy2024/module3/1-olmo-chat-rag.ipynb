{
 "cells": [
  {
   "cell_type": "markdown",
   "id": "5633e63b-211a-4be9-bfdb-99586ce6e450",
   "metadata": {},
   "source": [
    "# Astrophysics Chat Application "
   ]
  },
  {
   "cell_type": "markdown",
   "id": "243d7cac",
   "metadata": {},
   "source": [
    "This module will create an application that allows other users to interact with the application built in the previous module.\n",
    "This can be accomplished via any frontend such as Django, Flask or Streamlit. \n",
    "\n",
    "The example code below uses Panel, a powerful open source Python library to create web-based apps. \n"
   ]
  },
  {
   "cell_type": "code",
   "execution_count": null,
   "id": "55dde1e6-0208-4311-85bf-90620990527a",
   "metadata": {},
   "outputs": [],
   "source": [
    "# Include relevant libraries and packages\n",
    "\n",
    "import textwrap\n",
    "from uuid import uuid4\n",
    "import warnings\n",
    "\n",
    "import panel as pn\n",
    "from qdrant_client import QdrantClient\n",
    "\n",
    "from langchain_core.runnables import RunnablePassthrough\n",
    "from langchain_core.callbacks import CallbackManager\n",
    "from langchain_core.prompts import PromptTemplate\n",
    "from langchain_community.llms import LlamaCpp\n",
    "from langchain_qdrant import Qdrant\n",
    "from langchain_huggingface import HuggingFaceEmbeddings\n",
    "\n",
    "from ssec_tutorials import OLMO_MODEL, QDRANT_PATH, QDRANT_COLLECTION_NAME\n",
    "from ssec_tutorials import download_olmo_model, download_qdrant_data"
   ]
  },
  {
   "cell_type": "code",
   "execution_count": null,
   "id": "f20fc700",
   "metadata": {},
   "outputs": [],
   "source": [
    "warnings.filterwarnings('ignore')"
   ]
  },
  {
   "cell_type": "code",
   "execution_count": null,
   "id": "51213950",
   "metadata": {},
   "outputs": [],
   "source": [
    "pn.extension()"
   ]
  },
  {
   "cell_type": "code",
   "execution_count": null,
   "id": "e49b99e3-f84f-4316-8ce5-a5a56b6e263e",
   "metadata": {},
   "outputs": [],
   "source": [
    "download_olmo_model()\n",
    "download_qdrant_data()"
   ]
  },
  {
   "cell_type": "code",
   "execution_count": null,
   "id": "fa87c94e-caee-4bc5-b1e8-e27331868743",
   "metadata": {},
   "outputs": [],
   "source": [
    "qdrant_path = QDRANT_PATH\n",
    "qdrant_collection = QDRANT_COLLECTION_NAME\n",
    "model_path = OLMO_MODEL"
   ]
  },
  {
   "cell_type": "code",
   "execution_count": null,
   "id": "1840d42d-d95b-415f-a91e-3c8c5533d0af",
   "metadata": {},
   "outputs": [],
   "source": [
    "embedding = HuggingFaceEmbeddings(model_name=\"sentence-transformers/all-MiniLM-L12-v2\")"
   ]
  },
  {
   "cell_type": "code",
   "execution_count": null,
   "id": "98246d28-230f-4f10-b94b-598036adaf03",
   "metadata": {},
   "outputs": [],
   "source": [
    "# Invoke caching in panel using python cache decorator for the expensive db load operation that follows\n",
    "@pn.cache\n",
    "def get_vector_store():\n",
    "    # If the Qdrant Vector Database Collection already exists, load it\n",
    "    client = QdrantClient(path=str(qdrant_path))\n",
    "    db = Qdrant(\n",
    "        client=client,\n",
    "        collection_name=qdrant_collection,\n",
    "        embeddings=embedding\n",
    "    )\n",
    "    return db"
   ]
  },
  {
   "cell_type": "code",
   "execution_count": null,
   "id": "e624cac1-fe07-4b98-bf95-2df2daf53f41",
   "metadata": {},
   "outputs": [],
   "source": [
    "db = get_vector_store()"
   ]
  },
  {
   "cell_type": "code",
   "execution_count": null,
   "id": "cacfc0ec-3b6f-4215-a749-b1d9d73aa2c1",
   "metadata": {},
   "outputs": [],
   "source": [
    "def get_chain(callbacks):\n",
    "    #Set up retriever using mmr (maximal marginal relevance, a typical information retrieval tactic) search to return top 2 results\n",
    "    retriever = db.as_retriever(callbacks=callbacks, search_type=\"mmr\", search_kwargs={\"k\": 2})\n",
    "    \n",
    "    # Callbacks support token-wise streaming\n",
    "    callback_manager = CallbackManager(callbacks)\n",
    "    #LLaMacpp is a Python library built around LLaMa.cpp that implements Meta’s LLaMa architecture in efficient C/C++\n",
    "    olmo = LlamaCpp(\n",
    "        model_path=str(model_path),\n",
    "        callback_manager=callback_manager,\n",
    "        # Temperature controls the randomness of the model's output\n",
    "        temperature=0.8,\n",
    "        # n_ctx limits the length of the input context\n",
    "        n_ctx=4096,\n",
    "        # max_tokens limits the length of the generated text\n",
    "        max_tokens=512,\n",
    "        verbose=False,\n",
    "        # echo determines whether the input prompt should be included in the output\n",
    "        echo=False\n",
    "    )\n",
    "    \n",
    "    #Set up the prompt template using text based jinja2 format\n",
    "    prompt_template = PromptTemplate.from_template(\n",
    "        template=olmo.client.metadata['tokenizer.chat_template'],\n",
    "        template_format=\"jinja2\",\n",
    "        partial_variables={\"add_generation_prompt\": True, \"eos_token\": \"<|endoftext|>\"},\n",
    "    )\n",
    "\n",
    "    transformed_prompt_template = PromptTemplate.from_template(\n",
    "        prompt_template.partial(\n",
    "            messages=[\n",
    "                {\n",
    "                    \"role\": \"user\", \n",
    "                    \"content\": textwrap.dedent(\"\"\"\\\n",
    "                    You are an astrophysics expert. Please answer the question on astrophysics based on the following context:\n",
    "                    \n",
    "                    {context}\n",
    "                    \n",
    "                    Question: {question}\"\"\")\n",
    "                }\n",
    "            ]\n",
    "        ).format()\n",
    "    )\n",
    "\n",
    "    def format_docs(docs):\n",
    "        text = \"\\n\\n\".join([d.page_content for d in docs])\n",
    "        return text\n",
    "\n",
    "    def show_docs(docs):\n",
    "        # https://github.com/langchain-ai/langchain/issues/7290\n",
    "        for callback in callbacks:\n",
    "            callback.on_retriever_end(docs, run_id=uuid4())\n",
    "        return docs\n",
    "\n",
    "    return (\n",
    "        {\"context\": retriever | show_docs | format_docs, \"question\": RunnablePassthrough()}\n",
    "        | transformed_prompt_template\n",
    "        | olmo\n",
    "    )"
   ]
  },
  {
   "cell_type": "code",
   "execution_count": null,
   "id": "814b0c87-7756-4ab7-a7e5-6e7e2ed5d16b",
   "metadata": {},
   "outputs": [],
   "source": [
    "async def callback(contents, user, instance):\n",
    "    callback_handler = pn.chat.langchain.PanelCallbackHandler(instance, user='OLMo', avatar='🌳')\n",
    "    # Not return the result at the end of the generation\n",
    "    # this prevents the model from repeating the result\n",
    "    callback_handler.on_llm_end = lambda response, *args, **kwargs: None\n",
    "    chain = get_chain(callbacks=[callback_handler])\n",
    "    _ = await chain.ainvoke(contents)"
   ]
  },
  {
   "cell_type": "code",
   "execution_count": null,
   "id": "7efed530-ccf5-44d8-a480-77910b4af597",
   "metadata": {},
   "outputs": [],
   "source": [
    "pn.chat.ChatInterface(callback=callback).servable()"
   ]
  }
 ],
 "metadata": {
  "kernelspec": {
   "display_name": "Python 3 (ipykernel)",
   "language": "python",
   "name": "python3"
  },
  "language_info": {
   "codemirror_mode": {
    "name": "ipython",
    "version": 3
   },
   "file_extension": ".py",
   "mimetype": "text/x-python",
   "name": "python",
   "nbconvert_exporter": "python",
   "pygments_lexer": "ipython3",
   "version": "3.11.9"
  }
 },
 "nbformat": 4,
 "nbformat_minor": 5
}
