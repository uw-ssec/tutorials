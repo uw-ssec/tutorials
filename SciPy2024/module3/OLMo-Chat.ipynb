{
 "cells": [
  {
   "cell_type": "code",
   "execution_count": null,
   "id": "55dde1e6-0208-4311-85bf-90620990527a",
   "metadata": {},
   "outputs": [],
   "source": [
    "from ssec_tutorials import OLMO_MODEL"
   ]
  },
  {
   "cell_type": "code",
   "execution_count": null,
   "id": "054464fe-851b-4d29-b1d1-9d694bebfa0f",
   "metadata": {},
   "outputs": [],
   "source": [
    "import panel as pn\n",
    "from langchain.llms import LlamaCpp\n",
    "from langchain_core.callbacks import CallbackManager\n",
    "from langchain_core.prompts import PromptTemplate\n",
    "\n",
    "template = \"\"\"<|user|>{contents}<|user|>\"\"\"\n",
    "prompt = PromptTemplate.from_template(template)\n",
    "\n",
    "pn.extension()\n",
    "\n",
    "model_path = OLMO_MODEL\n",
    "\n",
    "def callback(contents, user, instance):\n",
    "    callback_handler = pn.chat.langchain.PanelCallbackHandler(instance, user='OLMo', avatar='🌳')\n",
    "    # Not return the result at the end of the generation\n",
    "    # this prevents the model from repeating the result\n",
    "    callback_handler.on_llm_end = lambda response, *args, **kwargs: None\n",
    "    # Callbacks support token-wise streaming\n",
    "    callback_manager = CallbackManager([callback_handler])\n",
    "    llm = LlamaCpp(\n",
    "        model_path=str(model_path),\n",
    "        callback_manager=callback_manager,\n",
    "        temperature=0.8,\n",
    "        max_tokens=512,\n",
    "        verbose=False,\n",
    "        echo=False\n",
    "    )\n",
    "    llm_chain = prompt | llm\n",
    "    llm_chain.invoke({\"contents\": contents})\n",
    "\n",
    "pn.chat.ChatInterface(callback=callback).servable()"
   ]
  }
 ],
 "metadata": {
  "kernelspec": {
   "display_name": "Python 3 (ipykernel)",
   "language": "python",
   "name": "python3"
  },
  "language_info": {
   "codemirror_mode": {
    "name": "ipython",
    "version": 3
   },
   "file_extension": ".py",
   "mimetype": "text/x-python",
   "name": "python",
   "nbconvert_exporter": "python",
   "pygments_lexer": "ipython3",
   "version": "3.11.8"
  }
 },
 "nbformat": 4,
 "nbformat_minor": 5
}
